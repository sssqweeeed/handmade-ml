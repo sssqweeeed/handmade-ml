{
 "cells": [
  {
   "cell_type": "code",
   "execution_count": null,
   "metadata": {
    "collapsed": true,
    "pycharm": {
     "name": "#%%\n"
    }
   },
   "outputs": [],
   "source": [
    "import pandas as pd\n",
    "import numpy as np\n",
    "import seaborn as sns\n",
    "import matplotlib.pyplot as plt\n",
    "from Boosting.TreeBoost import SimpleTreeBoostRegressor\n",
    "from metrics import mse, accuracy, error\n",
    "from sklearn.model_selection import train_test_split\n",
    "\n",
    "%load_ext autoreload\n",
    "%autoreload 2\n",
    "%matplotlib inline\n",
    "%config InlineBackend.figure_format = 'svg'"
   ]
  },
  {
   "cell_type": "code",
   "execution_count": null,
   "metadata": {
    "collapsed": false,
    "pycharm": {
     "name": "#%%\n"
    }
   },
   "outputs": [],
   "source": [
    "SIZE = 100\n",
    "\n",
    "noise = np.random.normal(0, 0.2, size=SIZE)\n",
    "x = np.random.uniform(-3, 3, size=SIZE)\n",
    "y = np.sin(x)\n",
    "df = pd.DataFrame(columns=['x', 'f(x)'])\n",
    "df['x'] = x\n",
    "df['f(x)'] = y + noise\n",
    "sns.scatterplot(data=df, x = 'x', y = 'f(x)')\n",
    "plt.show()"
   ]
  },
  {
   "cell_type": "code",
   "execution_count": null,
   "metadata": {
    "collapsed": false,
    "pycharm": {
     "name": "#%%\n"
    }
   },
   "outputs": [],
   "source": [
    "model = SimpleTreeBoostRegressor(n_estimators=10, metric=mse, derivative=error, max_depth=3, colsample_bytree=1.0, criterion='entropy', subsample=0.6, minimize=True, debug=True, lr=0.1)\n",
    "model.fit(df, target='f(x)')\n",
    "model.predict(df, 'pred f(x)')"
   ]
  }
 ],
 "metadata": {
  "kernelspec": {
   "display_name": "Python 3.10.4 ('venv': venv)",
   "language": "python",
   "name": "python3"
  },
  "language_info": {
   "codemirror_mode": {
    "name": "ipython",
    "version": 3
   },
   "file_extension": ".py",
   "mimetype": "text/x-python",
   "name": "python",
   "nbconvert_exporter": "python",
   "pygments_lexer": "ipython3",
   "version": "3.10.4"
  },
  "vscode": {
   "interpreter": {
    "hash": "b72b541741a01b63e16a52c9eedaa3c9cf112b962b98b32647952d63ea8babf5"
   }
  }
 },
 "nbformat": 4,
 "nbformat_minor": 0
}