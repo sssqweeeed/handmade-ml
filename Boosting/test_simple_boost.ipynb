{
 "cells": [
  {
   "cell_type": "code",
   "execution_count": 1,
   "metadata": {
    "collapsed": true
   },
   "outputs": [
    {
     "ename": "ModuleNotFoundError",
     "evalue": "No module named 'metrics'",
     "output_type": "error",
     "traceback": [
      "\u001B[0;31m---------------------------------------------------------------------------\u001B[0m",
      "\u001B[0;31mModuleNotFoundError\u001B[0m                       Traceback (most recent call last)",
      "\u001B[1;32m/home/mikhail/PycharmProjects/handmade-ml/Boosting/test_simple_boost.ipynb Cell 1'\u001B[0m in \u001B[0;36m<cell line: 2>\u001B[0;34m()\u001B[0m\n\u001B[1;32m      <a href='vscode-notebook-cell://ssh-remote%2B77.37.130.72/home/mikhail/PycharmProjects/handmade-ml/Boosting/test_simple_boost.ipynb#ch0000000vscode-remote?line=0'>1</a>\u001B[0m \u001B[39mfrom\u001B[39;00m \u001B[39msklearn\u001B[39;00m\u001B[39m.\u001B[39;00m\u001B[39mmodel_selection\u001B[39;00m \u001B[39mimport\u001B[39;00m train_test_split\n\u001B[0;32m----> <a href='vscode-notebook-cell://ssh-remote%2B77.37.130.72/home/mikhail/PycharmProjects/handmade-ml/Boosting/test_simple_boost.ipynb#ch0000000vscode-remote?line=1'>2</a>\u001B[0m \u001B[39mfrom\u001B[39;00m \u001B[39mmetrics\u001B[39;00m \u001B[39mimport\u001B[39;00m mse, accuracy, error\n\u001B[1;32m      <a href='vscode-notebook-cell://ssh-remote%2B77.37.130.72/home/mikhail/PycharmProjects/handmade-ml/Boosting/test_simple_boost.ipynb#ch0000000vscode-remote?line=2'>3</a>\u001B[0m \u001B[39mfrom\u001B[39;00m \u001B[39mBoosting\u001B[39;00m\u001B[39m.\u001B[39;00m\u001B[39mTreeBoost\u001B[39;00m \u001B[39mimport\u001B[39;00m SimpleTreeBoostRegressor\n\u001B[1;32m      <a href='vscode-notebook-cell://ssh-remote%2B77.37.130.72/home/mikhail/PycharmProjects/handmade-ml/Boosting/test_simple_boost.ipynb#ch0000000vscode-remote?line=3'>4</a>\u001B[0m \u001B[39mimport\u001B[39;00m \u001B[39mmatplotlib\u001B[39;00m\u001B[39m.\u001B[39;00m\u001B[39mpyplot\u001B[39;00m \u001B[39mas\u001B[39;00m \u001B[39mplt\u001B[39;00m\n",
      "\u001B[0;31mModuleNotFoundError\u001B[0m: No module named 'metrics'"
     ]
    }
   ],
   "source": [
    "import sys\n",
    "sys.path.append('../')\n",
    "\n",
    "import pandas as pd\n",
    "import numpy as np\n",
    "import seaborn as sns\n",
    "import matplotlib.pyplot as plt\n",
    "from Boosting.TreeBoost import SimpleTreeBoostRegressor\n",
    "from metrics import mse, accuracy, error\n",
    "from sklearn.model_selection import train_test_split\n",
    "\n",
    "%load_ext autoreload\n",
    "%autoreload 2\n",
    "%matplotlib inline\n",
    "%config InlineBackend.figure_format = 'svg'"
   ]
  },
  {
   "cell_type": "code",
   "execution_count": null,
   "metadata": {},
   "outputs": [],
   "source": []
  },
  {
   "cell_type": "code",
   "execution_count": 5,
   "metadata": {
    "collapsed": false
   },
   "outputs": [
    {
     "data": {
      "image/svg+xml": "<?xml version=\"1.0\" encoding=\"utf-8\" standalone=\"no\"?>\n<!DOCTYPE svg PUBLIC \"-//W3C//DTD SVG 1.1//EN\"\n  \"http://www.w3.org/Graphics/SVG/1.1/DTD/svg11.dtd\">\n<svg xmlns:xlink=\"http://www.w3.org/1999/xlink\" width=\"394.160937pt\" height=\"262.19625pt\" viewBox=\"0 0 394.160937 262.19625\" xmlns=\"http://www.w3.org/2000/svg\" version=\"1.1\">\n <metadata>\n  <rdf:RDF xmlns:dc=\"http://purl.org/dc/elements/1.1/\" xmlns:cc=\"http://creativecommons.org/ns#\" xmlns:rdf=\"http://www.w3.org/1999/02/22-rdf-syntax-ns#\">\n   <cc:Work>\n    <dc:type rdf:resource=\"http://purl.org/dc/dcmitype/StillImage\"/>\n    <dc:date>2022-08-12T10:58:12.525290</dc:date>\n    <dc:format>image/svg+xml</dc:format>\n    <dc:creator>\n     <cc:Agent>\n      <dc:title>Matplotlib v3.5.2, https://matplotlib.org/</dc:title>\n     </cc:Agent>\n    </dc:creator>\n   </cc:Work>\n  </rdf:RDF>\n </metadata>\n <defs>\n  <style type=\"text/css\">*{stroke-linejoin: round; stroke-linecap: butt}</style>\n </defs>\n <g id=\"figure_1\">\n  <g id=\"patch_1\">\n   <path d=\"M 0 262.19625 \nL 394.160937 262.19625 \nL 394.160937 0 \nL 0 0 \nL 0 262.19625 \nz\n\" style=\"fill: none\"/>\n  </g>\n  <g id=\"axes_1\">\n   <g id=\"patch_2\">\n    <path d=\"M 52.160938 224.64 \nL 386.960938 224.64 \nL 386.960938 7.2 \nL 52.160938 7.2 \nz\n\" style=\"fill: #ffffff\"/>\n   </g>\n   <g id=\"PathCollection_1\">\n    <defs>\n     <path id=\"maf3832d3e6\" d=\"M 0 3 \nC 0.795609 3 1.55874 2.683901 2.12132 2.12132 \nC 2.683901 1.55874 3 0.795609 3 0 \nC 3 -0.795609 2.683901 -1.55874 2.12132 -2.12132 \nC 1.55874 -2.683901 0.795609 -3 0 -3 \nC -0.795609 -3 -1.55874 -2.683901 -2.12132 -2.12132 \nC -2.683901 -1.55874 -3 -0.795609 -3 0 \nC -3 0.795609 -2.683901 1.55874 -2.12132 2.12132 \nC -1.55874 2.683901 -0.795609 3 0 3 \nz\n\" style=\"stroke: #ffffff; stroke-width: 0.48\"/>\n    </defs>\n    <g clip-path=\"url(#pdcdd303323)\">\n     <use xlink:href=\"#maf3832d3e6\" x=\"231.982029\" y=\"93.709394\" style=\"fill: #1f77b4; stroke: #ffffff; stroke-width: 0.48\"/>\n     <use xlink:href=\"#maf3832d3e6\" x=\"117.040632\" y=\"184.431516\" style=\"fill: #1f77b4; stroke: #ffffff; stroke-width: 0.48\"/>\n     <use xlink:href=\"#maf3832d3e6\" x=\"69.020436\" y=\"139.075038\" style=\"fill: #1f77b4; stroke: #ffffff; stroke-width: 0.48\"/>\n     <use xlink:href=\"#maf3832d3e6\" x=\"297.206789\" y=\"81.701949\" style=\"fill: #1f77b4; stroke: #ffffff; stroke-width: 0.48\"/>\n     <use xlink:href=\"#maf3832d3e6\" x=\"354.736024\" y=\"87.132351\" style=\"fill: #1f77b4; stroke: #ffffff; stroke-width: 0.48\"/>\n     <use xlink:href=\"#maf3832d3e6\" x=\"354.504833\" y=\"99.011807\" style=\"fill: #1f77b4; stroke: #ffffff; stroke-width: 0.48\"/>\n     <use xlink:href=\"#maf3832d3e6\" x=\"351.467735\" y=\"92.631006\" style=\"fill: #1f77b4; stroke: #ffffff; stroke-width: 0.48\"/>\n     <use xlink:href=\"#maf3832d3e6\" x=\"364.017248\" y=\"107.419224\" style=\"fill: #1f77b4; stroke: #ffffff; stroke-width: 0.48\"/>\n     <use xlink:href=\"#maf3832d3e6\" x=\"87.205427\" y=\"130.490958\" style=\"fill: #1f77b4; stroke: #ffffff; stroke-width: 0.48\"/>\n     <use xlink:href=\"#maf3832d3e6\" x=\"323.005792\" y=\"60.195382\" style=\"fill: #1f77b4; stroke: #ffffff; stroke-width: 0.48\"/>\n     <use xlink:href=\"#maf3832d3e6\" x=\"330.566787\" y=\"70.601331\" style=\"fill: #1f77b4; stroke: #ffffff; stroke-width: 0.48\"/>\n     <use xlink:href=\"#maf3832d3e6\" x=\"137.766359\" y=\"214.756364\" style=\"fill: #1f77b4; stroke: #ffffff; stroke-width: 0.48\"/>\n     <use xlink:href=\"#maf3832d3e6\" x=\"337.108837\" y=\"66.125102\" style=\"fill: #1f77b4; stroke: #ffffff; stroke-width: 0.48\"/>\n     <use xlink:href=\"#maf3832d3e6\" x=\"268.653368\" y=\"54.550092\" style=\"fill: #1f77b4; stroke: #ffffff; stroke-width: 0.48\"/>\n     <use xlink:href=\"#maf3832d3e6\" x=\"141.570736\" y=\"191.441127\" style=\"fill: #1f77b4; stroke: #ffffff; stroke-width: 0.48\"/>\n     <use xlink:href=\"#maf3832d3e6\" x=\"103.966272\" y=\"197.076229\" style=\"fill: #1f77b4; stroke: #ffffff; stroke-width: 0.48\"/>\n     <use xlink:href=\"#maf3832d3e6\" x=\"286.878416\" y=\"55.74122\" style=\"fill: #1f77b4; stroke: #ffffff; stroke-width: 0.48\"/>\n     <use xlink:href=\"#maf3832d3e6\" x=\"346.681742\" y=\"74.692982\" style=\"fill: #1f77b4; stroke: #ffffff; stroke-width: 0.48\"/>\n     <use xlink:href=\"#maf3832d3e6\" x=\"143.149843\" y=\"190.929751\" style=\"fill: #1f77b4; stroke: #ffffff; stroke-width: 0.48\"/>\n     <use xlink:href=\"#maf3832d3e6\" x=\"112.956779\" y=\"166.527704\" style=\"fill: #1f77b4; stroke: #ffffff; stroke-width: 0.48\"/>\n     <use xlink:href=\"#maf3832d3e6\" x=\"261.117765\" y=\"71.204776\" style=\"fill: #1f77b4; stroke: #ffffff; stroke-width: 0.48\"/>\n     <use xlink:href=\"#maf3832d3e6\" x=\"75.055501\" y=\"146.77359\" style=\"fill: #1f77b4; stroke: #ffffff; stroke-width: 0.48\"/>\n     <use xlink:href=\"#maf3832d3e6\" x=\"245.17235\" y=\"81.317377\" style=\"fill: #1f77b4; stroke: #ffffff; stroke-width: 0.48\"/>\n     <use xlink:href=\"#maf3832d3e6\" x=\"116.63493\" y=\"211.135674\" style=\"fill: #1f77b4; stroke: #ffffff; stroke-width: 0.48\"/>\n     <use xlink:href=\"#maf3832d3e6\" x=\"279.003362\" y=\"44.112619\" style=\"fill: #1f77b4; stroke: #ffffff; stroke-width: 0.48\"/>\n     <use xlink:href=\"#maf3832d3e6\" x=\"345.934006\" y=\"81.353091\" style=\"fill: #1f77b4; stroke: #ffffff; stroke-width: 0.48\"/>\n     <use xlink:href=\"#maf3832d3e6\" x=\"148.526006\" y=\"178.524089\" style=\"fill: #1f77b4; stroke: #ffffff; stroke-width: 0.48\"/>\n     <use xlink:href=\"#maf3832d3e6\" x=\"141.905957\" y=\"171.736021\" style=\"fill: #1f77b4; stroke: #ffffff; stroke-width: 0.48\"/>\n     <use xlink:href=\"#maf3832d3e6\" x=\"116.51055\" y=\"164.80094\" style=\"fill: #1f77b4; stroke: #ffffff; stroke-width: 0.48\"/>\n     <use xlink:href=\"#maf3832d3e6\" x=\"261.282622\" y=\"75.365302\" style=\"fill: #1f77b4; stroke: #ffffff; stroke-width: 0.48\"/>\n     <use xlink:href=\"#maf3832d3e6\" x=\"253.345604\" y=\"65.878999\" style=\"fill: #1f77b4; stroke: #ffffff; stroke-width: 0.48\"/>\n     <use xlink:href=\"#maf3832d3e6\" x=\"119.195865\" y=\"188.276337\" style=\"fill: #1f77b4; stroke: #ffffff; stroke-width: 0.48\"/>\n     <use xlink:href=\"#maf3832d3e6\" x=\"271.972082\" y=\"60.563114\" style=\"fill: #1f77b4; stroke: #ffffff; stroke-width: 0.48\"/>\n     <use xlink:href=\"#maf3832d3e6\" x=\"130.418149\" y=\"187.11997\" style=\"fill: #1f77b4; stroke: #ffffff; stroke-width: 0.48\"/>\n     <use xlink:href=\"#maf3832d3e6\" x=\"102.921582\" y=\"146.248664\" style=\"fill: #1f77b4; stroke: #ffffff; stroke-width: 0.48\"/>\n     <use xlink:href=\"#maf3832d3e6\" x=\"83.766746\" y=\"187.96499\" style=\"fill: #1f77b4; stroke: #ffffff; stroke-width: 0.48\"/>\n     <use xlink:href=\"#maf3832d3e6\" x=\"235.381792\" y=\"105.981488\" style=\"fill: #1f77b4; stroke: #ffffff; stroke-width: 0.48\"/>\n     <use xlink:href=\"#maf3832d3e6\" x=\"211.084012\" y=\"128.44089\" style=\"fill: #1f77b4; stroke: #ffffff; stroke-width: 0.48\"/>\n     <use xlink:href=\"#maf3832d3e6\" x=\"369.856856\" y=\"126.528054\" style=\"fill: #1f77b4; stroke: #ffffff; stroke-width: 0.48\"/>\n     <use xlink:href=\"#maf3832d3e6\" x=\"274.107901\" y=\"59.103486\" style=\"fill: #1f77b4; stroke: #ffffff; stroke-width: 0.48\"/>\n     <use xlink:href=\"#maf3832d3e6\" x=\"295.235682\" y=\"37.547019\" style=\"fill: #1f77b4; stroke: #ffffff; stroke-width: 0.48\"/>\n     <use xlink:href=\"#maf3832d3e6\" x=\"73.513382\" y=\"138.22623\" style=\"fill: #1f77b4; stroke: #ffffff; stroke-width: 0.48\"/>\n     <use xlink:href=\"#maf3832d3e6\" x=\"324.841272\" y=\"66.953739\" style=\"fill: #1f77b4; stroke: #ffffff; stroke-width: 0.48\"/>\n     <use xlink:href=\"#maf3832d3e6\" x=\"205.310301\" y=\"157.990305\" style=\"fill: #1f77b4; stroke: #ffffff; stroke-width: 0.48\"/>\n     <use xlink:href=\"#maf3832d3e6\" x=\"224.334019\" y=\"93.190156\" style=\"fill: #1f77b4; stroke: #ffffff; stroke-width: 0.48\"/>\n     <use xlink:href=\"#maf3832d3e6\" x=\"142.587426\" y=\"171.998262\" style=\"fill: #1f77b4; stroke: #ffffff; stroke-width: 0.48\"/>\n     <use xlink:href=\"#maf3832d3e6\" x=\"139.74149\" y=\"160.907687\" style=\"fill: #1f77b4; stroke: #ffffff; stroke-width: 0.48\"/>\n     <use xlink:href=\"#maf3832d3e6\" x=\"175.361087\" y=\"174.1843\" style=\"fill: #1f77b4; stroke: #ffffff; stroke-width: 0.48\"/>\n     <use xlink:href=\"#maf3832d3e6\" x=\"75.450397\" y=\"148.216239\" style=\"fill: #1f77b4; stroke: #ffffff; stroke-width: 0.48\"/>\n     <use xlink:href=\"#maf3832d3e6\" x=\"348.07501\" y=\"74.500223\" style=\"fill: #1f77b4; stroke: #ffffff; stroke-width: 0.48\"/>\n     <use xlink:href=\"#maf3832d3e6\" x=\"86.665236\" y=\"150.232897\" style=\"fill: #1f77b4; stroke: #ffffff; stroke-width: 0.48\"/>\n     <use xlink:href=\"#maf3832d3e6\" x=\"284.022766\" y=\"56.130187\" style=\"fill: #1f77b4; stroke: #ffffff; stroke-width: 0.48\"/>\n     <use xlink:href=\"#maf3832d3e6\" x=\"355.351122\" y=\"100.688313\" style=\"fill: #1f77b4; stroke: #ffffff; stroke-width: 0.48\"/>\n     <use xlink:href=\"#maf3832d3e6\" x=\"294.963827\" y=\"34.674601\" style=\"fill: #1f77b4; stroke: #ffffff; stroke-width: 0.48\"/>\n     <use xlink:href=\"#maf3832d3e6\" x=\"172.087361\" y=\"171.005224\" style=\"fill: #1f77b4; stroke: #ffffff; stroke-width: 0.48\"/>\n     <use xlink:href=\"#maf3832d3e6\" x=\"229.793374\" y=\"125.511436\" style=\"fill: #1f77b4; stroke: #ffffff; stroke-width: 0.48\"/>\n     <use xlink:href=\"#maf3832d3e6\" x=\"287.983532\" y=\"64.149226\" style=\"fill: #1f77b4; stroke: #ffffff; stroke-width: 0.48\"/>\n     <use xlink:href=\"#maf3832d3e6\" x=\"114.543745\" y=\"171.785727\" style=\"fill: #1f77b4; stroke: #ffffff; stroke-width: 0.48\"/>\n     <use xlink:href=\"#maf3832d3e6\" x=\"262.018431\" y=\"99.988354\" style=\"fill: #1f77b4; stroke: #ffffff; stroke-width: 0.48\"/>\n     <use xlink:href=\"#maf3832d3e6\" x=\"98.126704\" y=\"181.134831\" style=\"fill: #1f77b4; stroke: #ffffff; stroke-width: 0.48\"/>\n     <use xlink:href=\"#maf3832d3e6\" x=\"279.772195\" y=\"17.083636\" style=\"fill: #1f77b4; stroke: #ffffff; stroke-width: 0.48\"/>\n     <use xlink:href=\"#maf3832d3e6\" x=\"289.54507\" y=\"37.466921\" style=\"fill: #1f77b4; stroke: #ffffff; stroke-width: 0.48\"/>\n     <use xlink:href=\"#maf3832d3e6\" x=\"206.654747\" y=\"115.870207\" style=\"fill: #1f77b4; stroke: #ffffff; stroke-width: 0.48\"/>\n     <use xlink:href=\"#maf3832d3e6\" x=\"359.449261\" y=\"98.740262\" style=\"fill: #1f77b4; stroke: #ffffff; stroke-width: 0.48\"/>\n     <use xlink:href=\"#maf3832d3e6\" x=\"289.312739\" y=\"51.539144\" style=\"fill: #1f77b4; stroke: #ffffff; stroke-width: 0.48\"/>\n     <use xlink:href=\"#maf3832d3e6\" x=\"205.025906\" y=\"139.579351\" style=\"fill: #1f77b4; stroke: #ffffff; stroke-width: 0.48\"/>\n     <use xlink:href=\"#maf3832d3e6\" x=\"345.864429\" y=\"58.799002\" style=\"fill: #1f77b4; stroke: #ffffff; stroke-width: 0.48\"/>\n     <use xlink:href=\"#maf3832d3e6\" x=\"114.053854\" y=\"192.434387\" style=\"fill: #1f77b4; stroke: #ffffff; stroke-width: 0.48\"/>\n     <use xlink:href=\"#maf3832d3e6\" x=\"251.025032\" y=\"95.879304\" style=\"fill: #1f77b4; stroke: #ffffff; stroke-width: 0.48\"/>\n     <use xlink:href=\"#maf3832d3e6\" x=\"208.539158\" y=\"134.673169\" style=\"fill: #1f77b4; stroke: #ffffff; stroke-width: 0.48\"/>\n     <use xlink:href=\"#maf3832d3e6\" x=\"349.125175\" y=\"84.981391\" style=\"fill: #1f77b4; stroke: #ffffff; stroke-width: 0.48\"/>\n     <use xlink:href=\"#maf3832d3e6\" x=\"83.197114\" y=\"132.472476\" style=\"fill: #1f77b4; stroke: #ffffff; stroke-width: 0.48\"/>\n     <use xlink:href=\"#maf3832d3e6\" x=\"321.179524\" y=\"54.402705\" style=\"fill: #1f77b4; stroke: #ffffff; stroke-width: 0.48\"/>\n     <use xlink:href=\"#maf3832d3e6\" x=\"127.750279\" y=\"175.132703\" style=\"fill: #1f77b4; stroke: #ffffff; stroke-width: 0.48\"/>\n     <use xlink:href=\"#maf3832d3e6\" x=\"285.752849\" y=\"57.887444\" style=\"fill: #1f77b4; stroke: #ffffff; stroke-width: 0.48\"/>\n     <use xlink:href=\"#maf3832d3e6\" x=\"78.827984\" y=\"182.927306\" style=\"fill: #1f77b4; stroke: #ffffff; stroke-width: 0.48\"/>\n     <use xlink:href=\"#maf3832d3e6\" x=\"167.46681\" y=\"188.169709\" style=\"fill: #1f77b4; stroke: #ffffff; stroke-width: 0.48\"/>\n     <use xlink:href=\"#maf3832d3e6\" x=\"152.84557\" y=\"171.794797\" style=\"fill: #1f77b4; stroke: #ffffff; stroke-width: 0.48\"/>\n     <use xlink:href=\"#maf3832d3e6\" x=\"238.336525\" y=\"74.035948\" style=\"fill: #1f77b4; stroke: #ffffff; stroke-width: 0.48\"/>\n     <use xlink:href=\"#maf3832d3e6\" x=\"343.996985\" y=\"90.475837\" style=\"fill: #1f77b4; stroke: #ffffff; stroke-width: 0.48\"/>\n     <use xlink:href=\"#maf3832d3e6\" x=\"113.887219\" y=\"145.161139\" style=\"fill: #1f77b4; stroke: #ffffff; stroke-width: 0.48\"/>\n     <use xlink:href=\"#maf3832d3e6\" x=\"214.335631\" y=\"126.077216\" style=\"fill: #1f77b4; stroke: #ffffff; stroke-width: 0.48\"/>\n     <use xlink:href=\"#maf3832d3e6\" x=\"279.589903\" y=\"67.954823\" style=\"fill: #1f77b4; stroke: #ffffff; stroke-width: 0.48\"/>\n     <use xlink:href=\"#maf3832d3e6\" x=\"318.170854\" y=\"43.50601\" style=\"fill: #1f77b4; stroke: #ffffff; stroke-width: 0.48\"/>\n     <use xlink:href=\"#maf3832d3e6\" x=\"241.747317\" y=\"86.191253\" style=\"fill: #1f77b4; stroke: #ffffff; stroke-width: 0.48\"/>\n     <use xlink:href=\"#maf3832d3e6\" x=\"343.957364\" y=\"77.086699\" style=\"fill: #1f77b4; stroke: #ffffff; stroke-width: 0.48\"/>\n     <use xlink:href=\"#maf3832d3e6\" x=\"320.416035\" y=\"72.703939\" style=\"fill: #1f77b4; stroke: #ffffff; stroke-width: 0.48\"/>\n     <use xlink:href=\"#maf3832d3e6\" x=\"327.98503\" y=\"85.068832\" style=\"fill: #1f77b4; stroke: #ffffff; stroke-width: 0.48\"/>\n     <use xlink:href=\"#maf3832d3e6\" x=\"341.938292\" y=\"75.720276\" style=\"fill: #1f77b4; stroke: #ffffff; stroke-width: 0.48\"/>\n     <use xlink:href=\"#maf3832d3e6\" x=\"144.106812\" y=\"187.305936\" style=\"fill: #1f77b4; stroke: #ffffff; stroke-width: 0.48\"/>\n     <use xlink:href=\"#maf3832d3e6\" x=\"370.152055\" y=\"108.686153\" style=\"fill: #1f77b4; stroke: #ffffff; stroke-width: 0.48\"/>\n     <use xlink:href=\"#maf3832d3e6\" x=\"78.250046\" y=\"156.001999\" style=\"fill: #1f77b4; stroke: #ffffff; stroke-width: 0.48\"/>\n     <use xlink:href=\"#maf3832d3e6\" x=\"363.793912\" y=\"90.727483\" style=\"fill: #1f77b4; stroke: #ffffff; stroke-width: 0.48\"/>\n     <use xlink:href=\"#maf3832d3e6\" x=\"179.089634\" y=\"157.628591\" style=\"fill: #1f77b4; stroke: #ffffff; stroke-width: 0.48\"/>\n     <use xlink:href=\"#maf3832d3e6\" x=\"74.923136\" y=\"142.914145\" style=\"fill: #1f77b4; stroke: #ffffff; stroke-width: 0.48\"/>\n     <use xlink:href=\"#maf3832d3e6\" x=\"319.589745\" y=\"56.25545\" style=\"fill: #1f77b4; stroke: #ffffff; stroke-width: 0.48\"/>\n     <use xlink:href=\"#maf3832d3e6\" x=\"341.993247\" y=\"80.794242\" style=\"fill: #1f77b4; stroke: #ffffff; stroke-width: 0.48\"/>\n     <use xlink:href=\"#maf3832d3e6\" x=\"307.69055\" y=\"75.77366\" style=\"fill: #1f77b4; stroke: #ffffff; stroke-width: 0.48\"/>\n     <use xlink:href=\"#maf3832d3e6\" x=\"136.457515\" y=\"171.008977\" style=\"fill: #1f77b4; stroke: #ffffff; stroke-width: 0.48\"/>\n     <use xlink:href=\"#maf3832d3e6\" x=\"338.02431\" y=\"79.098925\" style=\"fill: #1f77b4; stroke: #ffffff; stroke-width: 0.48\"/>\n     <use xlink:href=\"#maf3832d3e6\" x=\"309.563572\" y=\"64.02452\" style=\"fill: #1f77b4; stroke: #ffffff; stroke-width: 0.48\"/>\n     <use xlink:href=\"#maf3832d3e6\" x=\"127.666447\" y=\"188.224774\" style=\"fill: #1f77b4; stroke: #ffffff; stroke-width: 0.48\"/>\n     <use xlink:href=\"#maf3832d3e6\" x=\"141.504955\" y=\"175.646589\" style=\"fill: #1f77b4; stroke: #ffffff; stroke-width: 0.48\"/>\n     <use xlink:href=\"#maf3832d3e6\" x=\"95.803344\" y=\"169.494028\" style=\"fill: #1f77b4; stroke: #ffffff; stroke-width: 0.48\"/>\n     <use xlink:href=\"#maf3832d3e6\" x=\"271.837525\" y=\"50.908983\" style=\"fill: #1f77b4; stroke: #ffffff; stroke-width: 0.48\"/>\n     <use xlink:href=\"#maf3832d3e6\" x=\"206.784214\" y=\"138.640991\" style=\"fill: #1f77b4; stroke: #ffffff; stroke-width: 0.48\"/>\n     <use xlink:href=\"#maf3832d3e6\" x=\"117.655534\" y=\"190.693771\" style=\"fill: #1f77b4; stroke: #ffffff; stroke-width: 0.48\"/>\n     <use xlink:href=\"#maf3832d3e6\" x=\"97.58693\" y=\"164.009226\" style=\"fill: #1f77b4; stroke: #ffffff; stroke-width: 0.48\"/>\n     <use xlink:href=\"#maf3832d3e6\" x=\"147.602736\" y=\"193.179404\" style=\"fill: #1f77b4; stroke: #ffffff; stroke-width: 0.48\"/>\n     <use xlink:href=\"#maf3832d3e6\" x=\"235.509319\" y=\"106.416343\" style=\"fill: #1f77b4; stroke: #ffffff; stroke-width: 0.48\"/>\n     <use xlink:href=\"#maf3832d3e6\" x=\"331.172982\" y=\"55.408883\" style=\"fill: #1f77b4; stroke: #ffffff; stroke-width: 0.48\"/>\n     <use xlink:href=\"#maf3832d3e6\" x=\"128.739057\" y=\"195.504447\" style=\"fill: #1f77b4; stroke: #ffffff; stroke-width: 0.48\"/>\n     <use xlink:href=\"#maf3832d3e6\" x=\"319.322835\" y=\"63.170322\" style=\"fill: #1f77b4; stroke: #ffffff; stroke-width: 0.48\"/>\n     <use xlink:href=\"#maf3832d3e6\" x=\"92.740048\" y=\"156.526997\" style=\"fill: #1f77b4; stroke: #ffffff; stroke-width: 0.48\"/>\n     <use xlink:href=\"#maf3832d3e6\" x=\"124.358507\" y=\"179.648434\" style=\"fill: #1f77b4; stroke: #ffffff; stroke-width: 0.48\"/>\n     <use xlink:href=\"#maf3832d3e6\" x=\"353.035199\" y=\"77.322929\" style=\"fill: #1f77b4; stroke: #ffffff; stroke-width: 0.48\"/>\n     <use xlink:href=\"#maf3832d3e6\" x=\"325.367582\" y=\"74.954205\" style=\"fill: #1f77b4; stroke: #ffffff; stroke-width: 0.48\"/>\n     <use xlink:href=\"#maf3832d3e6\" x=\"152.411983\" y=\"178.589461\" style=\"fill: #1f77b4; stroke: #ffffff; stroke-width: 0.48\"/>\n     <use xlink:href=\"#maf3832d3e6\" x=\"240.525401\" y=\"104.717317\" style=\"fill: #1f77b4; stroke: #ffffff; stroke-width: 0.48\"/>\n     <use xlink:href=\"#maf3832d3e6\" x=\"67.379119\" y=\"123.187224\" style=\"fill: #1f77b4; stroke: #ffffff; stroke-width: 0.48\"/>\n     <use xlink:href=\"#maf3832d3e6\" x=\"348.402252\" y=\"82.350048\" style=\"fill: #1f77b4; stroke: #ffffff; stroke-width: 0.48\"/>\n     <use xlink:href=\"#maf3832d3e6\" x=\"252.60919\" y=\"55.299061\" style=\"fill: #1f77b4; stroke: #ffffff; stroke-width: 0.48\"/>\n     <use xlink:href=\"#maf3832d3e6\" x=\"233.741018\" y=\"97.415687\" style=\"fill: #1f77b4; stroke: #ffffff; stroke-width: 0.48\"/>\n     <use xlink:href=\"#maf3832d3e6\" x=\"247.498488\" y=\"93.144447\" style=\"fill: #1f77b4; stroke: #ffffff; stroke-width: 0.48\"/>\n     <use xlink:href=\"#maf3832d3e6\" x=\"176.661242\" y=\"167.152002\" style=\"fill: #1f77b4; stroke: #ffffff; stroke-width: 0.48\"/>\n     <use xlink:href=\"#maf3832d3e6\" x=\"188.680946\" y=\"158.508593\" style=\"fill: #1f77b4; stroke: #ffffff; stroke-width: 0.48\"/>\n     <use xlink:href=\"#maf3832d3e6\" x=\"355.800568\" y=\"113.320181\" style=\"fill: #1f77b4; stroke: #ffffff; stroke-width: 0.48\"/>\n     <use xlink:href=\"#maf3832d3e6\" x=\"353.016663\" y=\"98.899142\" style=\"fill: #1f77b4; stroke: #ffffff; stroke-width: 0.48\"/>\n     <use xlink:href=\"#maf3832d3e6\" x=\"162.381571\" y=\"189.711628\" style=\"fill: #1f77b4; stroke: #ffffff; stroke-width: 0.48\"/>\n     <use xlink:href=\"#maf3832d3e6\" x=\"107.527926\" y=\"170.610306\" style=\"fill: #1f77b4; stroke: #ffffff; stroke-width: 0.48\"/>\n     <use xlink:href=\"#maf3832d3e6\" x=\"85.153397\" y=\"161.646273\" style=\"fill: #1f77b4; stroke: #ffffff; stroke-width: 0.48\"/>\n     <use xlink:href=\"#maf3832d3e6\" x=\"280.859737\" y=\"66.331559\" style=\"fill: #1f77b4; stroke: #ffffff; stroke-width: 0.48\"/>\n     <use xlink:href=\"#maf3832d3e6\" x=\"219.967034\" y=\"96.705636\" style=\"fill: #1f77b4; stroke: #ffffff; stroke-width: 0.48\"/>\n     <use xlink:href=\"#maf3832d3e6\" x=\"281.774729\" y=\"71.808953\" style=\"fill: #1f77b4; stroke: #ffffff; stroke-width: 0.48\"/>\n     <use xlink:href=\"#maf3832d3e6\" x=\"211.943202\" y=\"121.935685\" style=\"fill: #1f77b4; stroke: #ffffff; stroke-width: 0.48\"/>\n     <use xlink:href=\"#maf3832d3e6\" x=\"183.034936\" y=\"178.385295\" style=\"fill: #1f77b4; stroke: #ffffff; stroke-width: 0.48\"/>\n     <use xlink:href=\"#maf3832d3e6\" x=\"239.509374\" y=\"92.455688\" style=\"fill: #1f77b4; stroke: #ffffff; stroke-width: 0.48\"/>\n     <use xlink:href=\"#maf3832d3e6\" x=\"173.606125\" y=\"171.557897\" style=\"fill: #1f77b4; stroke: #ffffff; stroke-width: 0.48\"/>\n     <use xlink:href=\"#maf3832d3e6\" x=\"73.071548\" y=\"157.271783\" style=\"fill: #1f77b4; stroke: #ffffff; stroke-width: 0.48\"/>\n     <use xlink:href=\"#maf3832d3e6\" x=\"202.665109\" y=\"114.090934\" style=\"fill: #1f77b4; stroke: #ffffff; stroke-width: 0.48\"/>\n     <use xlink:href=\"#maf3832d3e6\" x=\"371.742756\" y=\"98.751793\" style=\"fill: #1f77b4; stroke: #ffffff; stroke-width: 0.48\"/>\n     <use xlink:href=\"#maf3832d3e6\" x=\"162.680782\" y=\"197.275664\" style=\"fill: #1f77b4; stroke: #ffffff; stroke-width: 0.48\"/>\n     <use xlink:href=\"#maf3832d3e6\" x=\"227.214555\" y=\"92.046957\" style=\"fill: #1f77b4; stroke: #ffffff; stroke-width: 0.48\"/>\n     <use xlink:href=\"#maf3832d3e6\" x=\"178.445719\" y=\"165.796676\" style=\"fill: #1f77b4; stroke: #ffffff; stroke-width: 0.48\"/>\n     <use xlink:href=\"#maf3832d3e6\" x=\"271.511773\" y=\"88.09643\" style=\"fill: #1f77b4; stroke: #ffffff; stroke-width: 0.48\"/>\n     <use xlink:href=\"#maf3832d3e6\" x=\"87.169554\" y=\"145.228998\" style=\"fill: #1f77b4; stroke: #ffffff; stroke-width: 0.48\"/>\n     <use xlink:href=\"#maf3832d3e6\" x=\"349.860342\" y=\"96.828897\" style=\"fill: #1f77b4; stroke: #ffffff; stroke-width: 0.48\"/>\n     <use xlink:href=\"#maf3832d3e6\" x=\"103.523275\" y=\"196.845158\" style=\"fill: #1f77b4; stroke: #ffffff; stroke-width: 0.48\"/>\n     <use xlink:href=\"#maf3832d3e6\" x=\"290.277639\" y=\"76.450114\" style=\"fill: #1f77b4; stroke: #ffffff; stroke-width: 0.48\"/>\n     <use xlink:href=\"#maf3832d3e6\" x=\"314.017137\" y=\"35.475234\" style=\"fill: #1f77b4; stroke: #ffffff; stroke-width: 0.48\"/>\n     <use xlink:href=\"#maf3832d3e6\" x=\"344.84275\" y=\"74.302136\" style=\"fill: #1f77b4; stroke: #ffffff; stroke-width: 0.48\"/>\n     <use xlink:href=\"#maf3832d3e6\" x=\"222.983531\" y=\"104.346431\" style=\"fill: #1f77b4; stroke: #ffffff; stroke-width: 0.48\"/>\n     <use xlink:href=\"#maf3832d3e6\" x=\"275.137345\" y=\"49.410089\" style=\"fill: #1f77b4; stroke: #ffffff; stroke-width: 0.48\"/>\n     <use xlink:href=\"#maf3832d3e6\" x=\"199.017744\" y=\"127.376343\" style=\"fill: #1f77b4; stroke: #ffffff; stroke-width: 0.48\"/>\n     <use xlink:href=\"#maf3832d3e6\" x=\"202.962485\" y=\"120.3476\" style=\"fill: #1f77b4; stroke: #ffffff; stroke-width: 0.48\"/>\n     <use xlink:href=\"#maf3832d3e6\" x=\"147.336592\" y=\"177.273873\" style=\"fill: #1f77b4; stroke: #ffffff; stroke-width: 0.48\"/>\n     <use xlink:href=\"#maf3832d3e6\" x=\"273.248523\" y=\"33.989477\" style=\"fill: #1f77b4; stroke: #ffffff; stroke-width: 0.48\"/>\n     <use xlink:href=\"#maf3832d3e6\" x=\"277.869673\" y=\"64.119891\" style=\"fill: #1f77b4; stroke: #ffffff; stroke-width: 0.48\"/>\n     <use xlink:href=\"#maf3832d3e6\" x=\"176.909328\" y=\"161.989432\" style=\"fill: #1f77b4; stroke: #ffffff; stroke-width: 0.48\"/>\n     <use xlink:href=\"#maf3832d3e6\" x=\"185.431351\" y=\"181.337864\" style=\"fill: #1f77b4; stroke: #ffffff; stroke-width: 0.48\"/>\n     <use xlink:href=\"#maf3832d3e6\" x=\"141.974554\" y=\"205.224684\" style=\"fill: #1f77b4; stroke: #ffffff; stroke-width: 0.48\"/>\n     <use xlink:href=\"#maf3832d3e6\" x=\"308.084214\" y=\"69.66252\" style=\"fill: #1f77b4; stroke: #ffffff; stroke-width: 0.48\"/>\n     <use xlink:href=\"#maf3832d3e6\" x=\"247.170061\" y=\"85.084465\" style=\"fill: #1f77b4; stroke: #ffffff; stroke-width: 0.48\"/>\n     <use xlink:href=\"#maf3832d3e6\" x=\"222.526908\" y=\"109.134582\" style=\"fill: #1f77b4; stroke: #ffffff; stroke-width: 0.48\"/>\n     <use xlink:href=\"#maf3832d3e6\" x=\"313.006385\" y=\"66.185552\" style=\"fill: #1f77b4; stroke: #ffffff; stroke-width: 0.48\"/>\n     <use xlink:href=\"#maf3832d3e6\" x=\"91.934353\" y=\"147.027442\" style=\"fill: #1f77b4; stroke: #ffffff; stroke-width: 0.48\"/>\n     <use xlink:href=\"#maf3832d3e6\" x=\"295.157445\" y=\"59.164856\" style=\"fill: #1f77b4; stroke: #ffffff; stroke-width: 0.48\"/>\n     <use xlink:href=\"#maf3832d3e6\" x=\"275.212558\" y=\"48.450514\" style=\"fill: #1f77b4; stroke: #ffffff; stroke-width: 0.48\"/>\n     <use xlink:href=\"#maf3832d3e6\" x=\"114.891929\" y=\"178.427982\" style=\"fill: #1f77b4; stroke: #ffffff; stroke-width: 0.48\"/>\n     <use xlink:href=\"#maf3832d3e6\" x=\"137.732172\" y=\"181.461682\" style=\"fill: #1f77b4; stroke: #ffffff; stroke-width: 0.48\"/>\n     <use xlink:href=\"#maf3832d3e6\" x=\"178.138545\" y=\"174.086604\" style=\"fill: #1f77b4; stroke: #ffffff; stroke-width: 0.48\"/>\n     <use xlink:href=\"#maf3832d3e6\" x=\"367.319854\" y=\"79.54085\" style=\"fill: #1f77b4; stroke: #ffffff; stroke-width: 0.48\"/>\n     <use xlink:href=\"#maf3832d3e6\" x=\"275.374142\" y=\"80.316313\" style=\"fill: #1f77b4; stroke: #ffffff; stroke-width: 0.48\"/>\n     <use xlink:href=\"#maf3832d3e6\" x=\"287.561359\" y=\"39.172268\" style=\"fill: #1f77b4; stroke: #ffffff; stroke-width: 0.48\"/>\n     <use xlink:href=\"#maf3832d3e6\" x=\"86.394362\" y=\"151.072009\" style=\"fill: #1f77b4; stroke: #ffffff; stroke-width: 0.48\"/>\n     <use xlink:href=\"#maf3832d3e6\" x=\"363.467979\" y=\"88.234089\" style=\"fill: #1f77b4; stroke: #ffffff; stroke-width: 0.48\"/>\n     <use xlink:href=\"#maf3832d3e6\" x=\"278.556858\" y=\"61.159994\" style=\"fill: #1f77b4; stroke: #ffffff; stroke-width: 0.48\"/>\n     <use xlink:href=\"#maf3832d3e6\" x=\"192.391518\" y=\"146.932869\" style=\"fill: #1f77b4; stroke: #ffffff; stroke-width: 0.48\"/>\n     <use xlink:href=\"#maf3832d3e6\" x=\"318.875155\" y=\"57.119055\" style=\"fill: #1f77b4; stroke: #ffffff; stroke-width: 0.48\"/>\n     <use xlink:href=\"#maf3832d3e6\" x=\"342.035683\" y=\"84.4387\" style=\"fill: #1f77b4; stroke: #ffffff; stroke-width: 0.48\"/>\n     <use xlink:href=\"#maf3832d3e6\" x=\"201.13673\" y=\"125.260661\" style=\"fill: #1f77b4; stroke: #ffffff; stroke-width: 0.48\"/>\n     <use xlink:href=\"#maf3832d3e6\" x=\"246.446533\" y=\"123.134967\" style=\"fill: #1f77b4; stroke: #ffffff; stroke-width: 0.48\"/>\n     <use xlink:href=\"#maf3832d3e6\" x=\"141.700631\" y=\"180.666873\" style=\"fill: #1f77b4; stroke: #ffffff; stroke-width: 0.48\"/>\n     <use xlink:href=\"#maf3832d3e6\" x=\"172.736375\" y=\"169.959135\" style=\"fill: #1f77b4; stroke: #ffffff; stroke-width: 0.48\"/>\n     <use xlink:href=\"#maf3832d3e6\" x=\"81.836002\" y=\"143.645968\" style=\"fill: #1f77b4; stroke: #ffffff; stroke-width: 0.48\"/>\n     <use xlink:href=\"#maf3832d3e6\" x=\"306.639187\" y=\"42.433415\" style=\"fill: #1f77b4; stroke: #ffffff; stroke-width: 0.48\"/>\n     <use xlink:href=\"#maf3832d3e6\" x=\"144.939057\" y=\"166.373421\" style=\"fill: #1f77b4; stroke: #ffffff; stroke-width: 0.48\"/>\n     <use xlink:href=\"#maf3832d3e6\" x=\"93.171064\" y=\"166.255954\" style=\"fill: #1f77b4; stroke: #ffffff; stroke-width: 0.48\"/>\n     <use xlink:href=\"#maf3832d3e6\" x=\"334.924113\" y=\"59.884421\" style=\"fill: #1f77b4; stroke: #ffffff; stroke-width: 0.48\"/>\n     <use xlink:href=\"#maf3832d3e6\" x=\"352.323859\" y=\"105.479073\" style=\"fill: #1f77b4; stroke: #ffffff; stroke-width: 0.48\"/>\n     <use xlink:href=\"#maf3832d3e6\" x=\"238.923507\" y=\"94.475255\" style=\"fill: #1f77b4; stroke: #ffffff; stroke-width: 0.48\"/>\n     <use xlink:href=\"#maf3832d3e6\" x=\"360.869988\" y=\"90.079905\" style=\"fill: #1f77b4; stroke: #ffffff; stroke-width: 0.48\"/>\n     <use xlink:href=\"#maf3832d3e6\" x=\"233.986289\" y=\"116.649644\" style=\"fill: #1f77b4; stroke: #ffffff; stroke-width: 0.48\"/>\n     <use xlink:href=\"#maf3832d3e6\" x=\"71.31042\" y=\"148.123341\" style=\"fill: #1f77b4; stroke: #ffffff; stroke-width: 0.48\"/>\n     <use xlink:href=\"#maf3832d3e6\" x=\"241.519359\" y=\"83.38005\" style=\"fill: #1f77b4; stroke: #ffffff; stroke-width: 0.48\"/>\n     <use xlink:href=\"#maf3832d3e6\" x=\"178.140065\" y=\"154.643422\" style=\"fill: #1f77b4; stroke: #ffffff; stroke-width: 0.48\"/>\n     <use xlink:href=\"#maf3832d3e6\" x=\"194.273531\" y=\"138.888015\" style=\"fill: #1f77b4; stroke: #ffffff; stroke-width: 0.48\"/>\n     <use xlink:href=\"#maf3832d3e6\" x=\"342.858598\" y=\"56.101061\" style=\"fill: #1f77b4; stroke: #ffffff; stroke-width: 0.48\"/>\n     <use xlink:href=\"#maf3832d3e6\" x=\"119.934959\" y=\"201.328517\" style=\"fill: #1f77b4; stroke: #ffffff; stroke-width: 0.48\"/>\n     <use xlink:href=\"#maf3832d3e6\" x=\"330.367468\" y=\"51.796575\" style=\"fill: #1f77b4; stroke: #ffffff; stroke-width: 0.48\"/>\n    </g>\n   </g>\n   <g id=\"matplotlib.axis_1\">\n    <g id=\"xtick_1\">\n     <g id=\"line2d_1\">\n      <defs>\n       <path id=\"md4dcecec4b\" d=\"M 0 0 \nL 0 3.5 \n\" style=\"stroke: #000000; stroke-width: 0.8\"/>\n      </defs>\n      <g>\n       <use xlink:href=\"#md4dcecec4b\" x=\"64.090687\" y=\"224.64\" style=\"stroke: #000000; stroke-width: 0.8\"/>\n      </g>\n     </g>\n     <g id=\"text_1\">\n      <!-- −3 -->\n      <g transform=\"translate(56.719593 239.238437)scale(0.1 -0.1)\">\n       <defs>\n        <path id=\"DejaVuSans-2212\" d=\"M 678 2272 \nL 4684 2272 \nL 4684 1741 \nL 678 1741 \nL 678 2272 \nz\n\" transform=\"scale(0.015625)\"/>\n        <path id=\"DejaVuSans-33\" d=\"M 2597 2516 \nQ 3050 2419 3304 2112 \nQ 3559 1806 3559 1356 \nQ 3559 666 3084 287 \nQ 2609 -91 1734 -91 \nQ 1441 -91 1130 -33 \nQ 819 25 488 141 \nL 488 750 \nQ 750 597 1062 519 \nQ 1375 441 1716 441 \nQ 2309 441 2620 675 \nQ 2931 909 2931 1356 \nQ 2931 1769 2642 2001 \nQ 2353 2234 1838 2234 \nL 1294 2234 \nL 1294 2753 \nL 1863 2753 \nQ 2328 2753 2575 2939 \nQ 2822 3125 2822 3475 \nQ 2822 3834 2567 4026 \nQ 2313 4219 1838 4219 \nQ 1578 4219 1281 4162 \nQ 984 4106 628 3988 \nL 628 4550 \nQ 988 4650 1302 4700 \nQ 1616 4750 1894 4750 \nQ 2613 4750 3031 4423 \nQ 3450 4097 3450 3541 \nQ 3450 3153 3228 2886 \nQ 3006 2619 2597 2516 \nz\n\" transform=\"scale(0.015625)\"/>\n       </defs>\n       <use xlink:href=\"#DejaVuSans-2212\"/>\n       <use xlink:href=\"#DejaVuSans-33\" x=\"83.789062\"/>\n      </g>\n     </g>\n    </g>\n    <g id=\"xtick_2\">\n     <g id=\"line2d_2\">\n      <g>\n       <use xlink:href=\"#md4dcecec4b\" x=\"115.377968\" y=\"224.64\" style=\"stroke: #000000; stroke-width: 0.8\"/>\n      </g>\n     </g>\n     <g id=\"text_2\">\n      <!-- −2 -->\n      <g transform=\"translate(108.006874 239.238437)scale(0.1 -0.1)\">\n       <defs>\n        <path id=\"DejaVuSans-32\" d=\"M 1228 531 \nL 3431 531 \nL 3431 0 \nL 469 0 \nL 469 531 \nQ 828 903 1448 1529 \nQ 2069 2156 2228 2338 \nQ 2531 2678 2651 2914 \nQ 2772 3150 2772 3378 \nQ 2772 3750 2511 3984 \nQ 2250 4219 1831 4219 \nQ 1534 4219 1204 4116 \nQ 875 4013 500 3803 \nL 500 4441 \nQ 881 4594 1212 4672 \nQ 1544 4750 1819 4750 \nQ 2544 4750 2975 4387 \nQ 3406 4025 3406 3419 \nQ 3406 3131 3298 2873 \nQ 3191 2616 2906 2266 \nQ 2828 2175 2409 1742 \nQ 1991 1309 1228 531 \nz\n\" transform=\"scale(0.015625)\"/>\n       </defs>\n       <use xlink:href=\"#DejaVuSans-2212\"/>\n       <use xlink:href=\"#DejaVuSans-32\" x=\"83.789062\"/>\n      </g>\n     </g>\n    </g>\n    <g id=\"xtick_3\">\n     <g id=\"line2d_3\">\n      <g>\n       <use xlink:href=\"#md4dcecec4b\" x=\"166.665249\" y=\"224.64\" style=\"stroke: #000000; stroke-width: 0.8\"/>\n      </g>\n     </g>\n     <g id=\"text_3\">\n      <!-- −1 -->\n      <g transform=\"translate(159.294155 239.238437)scale(0.1 -0.1)\">\n       <defs>\n        <path id=\"DejaVuSans-31\" d=\"M 794 531 \nL 1825 531 \nL 1825 4091 \nL 703 3866 \nL 703 4441 \nL 1819 4666 \nL 2450 4666 \nL 2450 531 \nL 3481 531 \nL 3481 0 \nL 794 0 \nL 794 531 \nz\n\" transform=\"scale(0.015625)\"/>\n       </defs>\n       <use xlink:href=\"#DejaVuSans-2212\"/>\n       <use xlink:href=\"#DejaVuSans-31\" x=\"83.789062\"/>\n      </g>\n     </g>\n    </g>\n    <g id=\"xtick_4\">\n     <g id=\"line2d_4\">\n      <g>\n       <use xlink:href=\"#md4dcecec4b\" x=\"217.952529\" y=\"224.64\" style=\"stroke: #000000; stroke-width: 0.8\"/>\n      </g>\n     </g>\n     <g id=\"text_4\">\n      <!-- 0 -->\n      <g transform=\"translate(214.771279 239.238437)scale(0.1 -0.1)\">\n       <defs>\n        <path id=\"DejaVuSans-30\" d=\"M 2034 4250 \nQ 1547 4250 1301 3770 \nQ 1056 3291 1056 2328 \nQ 1056 1369 1301 889 \nQ 1547 409 2034 409 \nQ 2525 409 2770 889 \nQ 3016 1369 3016 2328 \nQ 3016 3291 2770 3770 \nQ 2525 4250 2034 4250 \nz\nM 2034 4750 \nQ 2819 4750 3233 4129 \nQ 3647 3509 3647 2328 \nQ 3647 1150 3233 529 \nQ 2819 -91 2034 -91 \nQ 1250 -91 836 529 \nQ 422 1150 422 2328 \nQ 422 3509 836 4129 \nQ 1250 4750 2034 4750 \nz\n\" transform=\"scale(0.015625)\"/>\n       </defs>\n       <use xlink:href=\"#DejaVuSans-30\"/>\n      </g>\n     </g>\n    </g>\n    <g id=\"xtick_5\">\n     <g id=\"line2d_5\">\n      <g>\n       <use xlink:href=\"#md4dcecec4b\" x=\"269.23981\" y=\"224.64\" style=\"stroke: #000000; stroke-width: 0.8\"/>\n      </g>\n     </g>\n     <g id=\"text_5\">\n      <!-- 1 -->\n      <g transform=\"translate(266.05856 239.238437)scale(0.1 -0.1)\">\n       <use xlink:href=\"#DejaVuSans-31\"/>\n      </g>\n     </g>\n    </g>\n    <g id=\"xtick_6\">\n     <g id=\"line2d_6\">\n      <g>\n       <use xlink:href=\"#md4dcecec4b\" x=\"320.527091\" y=\"224.64\" style=\"stroke: #000000; stroke-width: 0.8\"/>\n      </g>\n     </g>\n     <g id=\"text_6\">\n      <!-- 2 -->\n      <g transform=\"translate(317.345841 239.238437)scale(0.1 -0.1)\">\n       <use xlink:href=\"#DejaVuSans-32\"/>\n      </g>\n     </g>\n    </g>\n    <g id=\"xtick_7\">\n     <g id=\"line2d_7\">\n      <g>\n       <use xlink:href=\"#md4dcecec4b\" x=\"371.814372\" y=\"224.64\" style=\"stroke: #000000; stroke-width: 0.8\"/>\n      </g>\n     </g>\n     <g id=\"text_7\">\n      <!-- 3 -->\n      <g transform=\"translate(368.633122 239.238437)scale(0.1 -0.1)\">\n       <use xlink:href=\"#DejaVuSans-33\"/>\n      </g>\n     </g>\n    </g>\n    <g id=\"text_8\">\n     <!-- x -->\n     <g transform=\"translate(216.601563 252.916562)scale(0.1 -0.1)\">\n      <defs>\n       <path id=\"DejaVuSans-78\" d=\"M 3513 3500 \nL 2247 1797 \nL 3578 0 \nL 2900 0 \nL 1881 1375 \nL 863 0 \nL 184 0 \nL 1544 1831 \nL 300 3500 \nL 978 3500 \nL 1906 2253 \nL 2834 3500 \nL 3513 3500 \nz\n\" transform=\"scale(0.015625)\"/>\n      </defs>\n      <use xlink:href=\"#DejaVuSans-78\"/>\n     </g>\n    </g>\n   </g>\n   <g id=\"matplotlib.axis_2\">\n    <g id=\"ytick_1\">\n     <g id=\"line2d_8\">\n      <defs>\n       <path id=\"m08f1153262\" d=\"M 0 0 \nL -3.5 0 \n\" style=\"stroke: #000000; stroke-width: 0.8\"/>\n      </defs>\n      <g>\n       <use xlink:href=\"#m08f1153262\" x=\"52.160938\" y=\"217.458854\" style=\"stroke: #000000; stroke-width: 0.8\"/>\n      </g>\n     </g>\n     <g id=\"text_9\">\n      <!-- −1.5 -->\n      <g transform=\"translate(20.878125 221.258073)scale(0.1 -0.1)\">\n       <defs>\n        <path id=\"DejaVuSans-2e\" d=\"M 684 794 \nL 1344 794 \nL 1344 0 \nL 684 0 \nL 684 794 \nz\n\" transform=\"scale(0.015625)\"/>\n        <path id=\"DejaVuSans-35\" d=\"M 691 4666 \nL 3169 4666 \nL 3169 4134 \nL 1269 4134 \nL 1269 2991 \nQ 1406 3038 1543 3061 \nQ 1681 3084 1819 3084 \nQ 2600 3084 3056 2656 \nQ 3513 2228 3513 1497 \nQ 3513 744 3044 326 \nQ 2575 -91 1722 -91 \nQ 1428 -91 1123 -41 \nQ 819 9 494 109 \nL 494 744 \nQ 775 591 1075 516 \nQ 1375 441 1709 441 \nQ 2250 441 2565 725 \nQ 2881 1009 2881 1497 \nQ 2881 1984 2565 2268 \nQ 2250 2553 1709 2553 \nQ 1456 2553 1204 2497 \nQ 953 2441 691 2322 \nL 691 4666 \nz\n\" transform=\"scale(0.015625)\"/>\n       </defs>\n       <use xlink:href=\"#DejaVuSans-2212\"/>\n       <use xlink:href=\"#DejaVuSans-31\" x=\"83.789062\"/>\n       <use xlink:href=\"#DejaVuSans-2e\" x=\"147.412109\"/>\n       <use xlink:href=\"#DejaVuSans-35\" x=\"179.199219\"/>\n      </g>\n     </g>\n    </g>\n    <g id=\"ytick_2\">\n     <g id=\"line2d_9\">\n      <g>\n       <use xlink:href=\"#m08f1153262\" x=\"52.160938\" y=\"184.921375\" style=\"stroke: #000000; stroke-width: 0.8\"/>\n      </g>\n     </g>\n     <g id=\"text_10\">\n      <!-- −1.0 -->\n      <g transform=\"translate(20.878125 188.720594)scale(0.1 -0.1)\">\n       <use xlink:href=\"#DejaVuSans-2212\"/>\n       <use xlink:href=\"#DejaVuSans-31\" x=\"83.789062\"/>\n       <use xlink:href=\"#DejaVuSans-2e\" x=\"147.412109\"/>\n       <use xlink:href=\"#DejaVuSans-30\" x=\"179.199219\"/>\n      </g>\n     </g>\n    </g>\n    <g id=\"ytick_3\">\n     <g id=\"line2d_10\">\n      <g>\n       <use xlink:href=\"#m08f1153262\" x=\"52.160938\" y=\"152.383896\" style=\"stroke: #000000; stroke-width: 0.8\"/>\n      </g>\n     </g>\n     <g id=\"text_11\">\n      <!-- −0.5 -->\n      <g transform=\"translate(20.878125 156.183115)scale(0.1 -0.1)\">\n       <use xlink:href=\"#DejaVuSans-2212\"/>\n       <use xlink:href=\"#DejaVuSans-30\" x=\"83.789062\"/>\n       <use xlink:href=\"#DejaVuSans-2e\" x=\"147.412109\"/>\n       <use xlink:href=\"#DejaVuSans-35\" x=\"179.199219\"/>\n      </g>\n     </g>\n    </g>\n    <g id=\"ytick_4\">\n     <g id=\"line2d_11\">\n      <g>\n       <use xlink:href=\"#m08f1153262\" x=\"52.160938\" y=\"119.846418\" style=\"stroke: #000000; stroke-width: 0.8\"/>\n      </g>\n     </g>\n     <g id=\"text_12\">\n      <!-- 0.0 -->\n      <g transform=\"translate(29.257812 123.645636)scale(0.1 -0.1)\">\n       <use xlink:href=\"#DejaVuSans-30\"/>\n       <use xlink:href=\"#DejaVuSans-2e\" x=\"63.623047\"/>\n       <use xlink:href=\"#DejaVuSans-30\" x=\"95.410156\"/>\n      </g>\n     </g>\n    </g>\n    <g id=\"ytick_5\">\n     <g id=\"line2d_12\">\n      <g>\n       <use xlink:href=\"#m08f1153262\" x=\"52.160938\" y=\"87.308939\" style=\"stroke: #000000; stroke-width: 0.8\"/>\n      </g>\n     </g>\n     <g id=\"text_13\">\n      <!-- 0.5 -->\n      <g transform=\"translate(29.257812 91.108158)scale(0.1 -0.1)\">\n       <use xlink:href=\"#DejaVuSans-30\"/>\n       <use xlink:href=\"#DejaVuSans-2e\" x=\"63.623047\"/>\n       <use xlink:href=\"#DejaVuSans-35\" x=\"95.410156\"/>\n      </g>\n     </g>\n    </g>\n    <g id=\"ytick_6\">\n     <g id=\"line2d_13\">\n      <g>\n       <use xlink:href=\"#m08f1153262\" x=\"52.160938\" y=\"54.77146\" style=\"stroke: #000000; stroke-width: 0.8\"/>\n      </g>\n     </g>\n     <g id=\"text_14\">\n      <!-- 1.0 -->\n      <g transform=\"translate(29.257812 58.570679)scale(0.1 -0.1)\">\n       <use xlink:href=\"#DejaVuSans-31\"/>\n       <use xlink:href=\"#DejaVuSans-2e\" x=\"63.623047\"/>\n       <use xlink:href=\"#DejaVuSans-30\" x=\"95.410156\"/>\n      </g>\n     </g>\n    </g>\n    <g id=\"ytick_7\">\n     <g id=\"line2d_14\">\n      <g>\n       <use xlink:href=\"#m08f1153262\" x=\"52.160938\" y=\"22.233981\" style=\"stroke: #000000; stroke-width: 0.8\"/>\n      </g>\n     </g>\n     <g id=\"text_15\">\n      <!-- 1.5 -->\n      <g transform=\"translate(29.257812 26.0332)scale(0.1 -0.1)\">\n       <use xlink:href=\"#DejaVuSans-31\"/>\n       <use xlink:href=\"#DejaVuSans-2e\" x=\"63.623047\"/>\n       <use xlink:href=\"#DejaVuSans-35\" x=\"95.410156\"/>\n      </g>\n     </g>\n    </g>\n    <g id=\"text_16\">\n     <!-- f(x) -->\n     <g transform=\"translate(14.798438 124.541094)rotate(-90)scale(0.1 -0.1)\">\n      <defs>\n       <path id=\"DejaVuSans-66\" d=\"M 2375 4863 \nL 2375 4384 \nL 1825 4384 \nQ 1516 4384 1395 4259 \nQ 1275 4134 1275 3809 \nL 1275 3500 \nL 2222 3500 \nL 2222 3053 \nL 1275 3053 \nL 1275 0 \nL 697 0 \nL 697 3053 \nL 147 3053 \nL 147 3500 \nL 697 3500 \nL 697 3744 \nQ 697 4328 969 4595 \nQ 1241 4863 1831 4863 \nL 2375 4863 \nz\n\" transform=\"scale(0.015625)\"/>\n       <path id=\"DejaVuSans-28\" d=\"M 1984 4856 \nQ 1566 4138 1362 3434 \nQ 1159 2731 1159 2009 \nQ 1159 1288 1364 580 \nQ 1569 -128 1984 -844 \nL 1484 -844 \nQ 1016 -109 783 600 \nQ 550 1309 550 2009 \nQ 550 2706 781 3412 \nQ 1013 4119 1484 4856 \nL 1984 4856 \nz\n\" transform=\"scale(0.015625)\"/>\n       <path id=\"DejaVuSans-29\" d=\"M 513 4856 \nL 1013 4856 \nQ 1481 4119 1714 3412 \nQ 1947 2706 1947 2009 \nQ 1947 1309 1714 600 \nQ 1481 -109 1013 -844 \nL 513 -844 \nQ 928 -128 1133 580 \nQ 1338 1288 1338 2009 \nQ 1338 2731 1133 3434 \nQ 928 4138 513 4856 \nz\n\" transform=\"scale(0.015625)\"/>\n      </defs>\n      <use xlink:href=\"#DejaVuSans-66\"/>\n      <use xlink:href=\"#DejaVuSans-28\" x=\"35.205078\"/>\n      <use xlink:href=\"#DejaVuSans-78\" x=\"74.21875\"/>\n      <use xlink:href=\"#DejaVuSans-29\" x=\"133.398438\"/>\n     </g>\n    </g>\n   </g>\n   <g id=\"patch_3\">\n    <path d=\"M 52.160938 224.64 \nL 52.160938 7.2 \n\" style=\"fill: none; stroke: #000000; stroke-width: 0.8; stroke-linejoin: miter; stroke-linecap: square\"/>\n   </g>\n   <g id=\"patch_4\">\n    <path d=\"M 386.960938 224.64 \nL 386.960938 7.2 \n\" style=\"fill: none; stroke: #000000; stroke-width: 0.8; stroke-linejoin: miter; stroke-linecap: square\"/>\n   </g>\n   <g id=\"patch_5\">\n    <path d=\"M 52.160937 224.64 \nL 386.960938 224.64 \n\" style=\"fill: none; stroke: #000000; stroke-width: 0.8; stroke-linejoin: miter; stroke-linecap: square\"/>\n   </g>\n   <g id=\"patch_6\">\n    <path d=\"M 52.160937 7.2 \nL 386.960938 7.2 \n\" style=\"fill: none; stroke: #000000; stroke-width: 0.8; stroke-linejoin: miter; stroke-linecap: square\"/>\n   </g>\n  </g>\n </g>\n <defs>\n  <clipPath id=\"pdcdd303323\">\n   <rect x=\"52.160938\" y=\"7.2\" width=\"334.8\" height=\"217.44\"/>\n  </clipPath>\n </defs>\n</svg>\n",
      "text/plain": [
       "<Figure size 432x288 with 1 Axes>"
      ]
     },
     "metadata": {
      "needs_background": "light"
     },
     "output_type": "display_data"
    }
   ],
   "source": [
    "SIZE = 200\n",
    "\n",
    "noise = np.random.normal(0, 0.2, size=SIZE)\n",
    "x = np.random.uniform(-3, 3, size=SIZE)\n",
    "y = np.sin(x)\n",
    "df = pd.DataFrame(columns=['x', 'f(x)'])\n",
    "df['x'] = x\n",
    "df['f(x)'] = y + noise\n",
    "sns.scatterplot(data=df, x = 'x', y = 'f(x)')\n",
    "plt.show()"
   ]
  },
  {
   "cell_type": "code",
   "execution_count": 3,
   "metadata": {
    "collapsed": false
   },
   "outputs": [
    {
     "name": "stdout",
     "output_type": "stream",
     "text": [
      "Iteration: 0, Loss: 0.5801832207150626\n",
      "\n"
     ]
    },
    {
     "ename": "AttributeError",
     "evalue": "'NoneType' object has no attribute 'feature'",
     "output_type": "error",
     "traceback": [
      "\u001B[0;31m---------------------------------------------------------------------------\u001B[0m",
      "\u001B[0;31mAttributeError\u001B[0m                            Traceback (most recent call last)",
      "\u001B[1;32m/home/mikhail/PycharmProjects/handmade-ml/Boosting/test_simple_boost.ipynb Cell 4'\u001B[0m in \u001B[0;36m<cell line: 2>\u001B[0;34m()\u001B[0m\n\u001B[1;32m      <a href='vscode-notebook-cell://ssh-remote%2B77.37.130.72/home/mikhail/PycharmProjects/handmade-ml/Boosting/test_simple_boost.ipynb#ch0000002vscode-remote?line=0'>1</a>\u001B[0m model \u001B[39m=\u001B[39m SimpleTreeBoostRegressor(n_estimators\u001B[39m=\u001B[39m\u001B[39m30\u001B[39m, metric\u001B[39m=\u001B[39mmse, derivative\u001B[39m=\u001B[39merror, max_depth\u001B[39m=\u001B[39m\u001B[39m4\u001B[39m, colsample_bytree\u001B[39m=\u001B[39m\u001B[39m1.0\u001B[39m, criterion\u001B[39m=\u001B[39m\u001B[39m'\u001B[39m\u001B[39mentropy\u001B[39m\u001B[39m'\u001B[39m, subsample\u001B[39m=\u001B[39m\u001B[39m0.99\u001B[39m, minimize\u001B[39m=\u001B[39m\u001B[39mTrue\u001B[39;00m, debug\u001B[39m=\u001B[39m\u001B[39mFalse\u001B[39;00m, lr\u001B[39m=\u001B[39m\u001B[39m0.1\u001B[39m)\n\u001B[0;32m----> <a href='vscode-notebook-cell://ssh-remote%2B77.37.130.72/home/mikhail/PycharmProjects/handmade-ml/Boosting/test_simple_boost.ipynb#ch0000002vscode-remote?line=1'>2</a>\u001B[0m model\u001B[39m.\u001B[39;49mfit(df, target\u001B[39m=\u001B[39;49m\u001B[39m'\u001B[39;49m\u001B[39mf(x)\u001B[39;49m\u001B[39m'\u001B[39;49m)\n\u001B[1;32m      <a href='vscode-notebook-cell://ssh-remote%2B77.37.130.72/home/mikhail/PycharmProjects/handmade-ml/Boosting/test_simple_boost.ipynb#ch0000002vscode-remote?line=2'>3</a>\u001B[0m model\u001B[39m.\u001B[39mpredict(df, predict_col\u001B[39m=\u001B[39m\u001B[39m'\u001B[39m\u001B[39mpred\u001B[39m\u001B[39m'\u001B[39m)\n",
      "File \u001B[0;32m~/PycharmProjects/handmade-ml/Boosting/../Boosting/TreeBoost.py:52\u001B[0m, in \u001B[0;36mSimpleTreeBoostRegressor.fit\u001B[0;34m(self, df, target)\u001B[0m\n\u001B[1;32m     49\u001B[0m \u001B[39mif\u001B[39;00m \u001B[39mself\u001B[39m\u001B[39m.\u001B[39mdebug:\n\u001B[1;32m     50\u001B[0m     \u001B[39mprint\u001B[39m(train_features)\n\u001B[0;32m---> 52\u001B[0m predicts \u001B[39m=\u001B[39m \u001B[39mself\u001B[39;49m\u001B[39m.\u001B[39;49mpredict(train)\n\u001B[1;32m     54\u001B[0m grad \u001B[39m=\u001B[39m \u001B[39mself\u001B[39m\u001B[39m.\u001B[39mderivative(predicts, train[target])\n\u001B[1;32m     55\u001B[0m \u001B[39m# print('predict: ', predicts[0])\u001B[39;00m\n\u001B[1;32m     56\u001B[0m \u001B[39m# print('grad: ', grad[0])\u001B[39;00m\n",
      "File \u001B[0;32m~/PycharmProjects/handmade-ml/Boosting/../Boosting/TreeBoost.py:72\u001B[0m, in \u001B[0;36mSimpleTreeBoostRegressor.predict\u001B[0;34m(self, df, predict_col, first_n_estimators)\u001B[0m\n\u001B[1;32m     70\u001B[0m predicts \u001B[39m=\u001B[39m []\n\u001B[1;32m     71\u001B[0m \u001B[39mfor\u001B[39;00m tree, weight \u001B[39min\u001B[39;00m \u001B[39mzip\u001B[39m(\u001B[39mself\u001B[39m\u001B[39m.\u001B[39mtrees, \u001B[39mself\u001B[39m\u001B[39m.\u001B[39mweights):\n\u001B[0;32m---> 72\u001B[0m     pred \u001B[39m=\u001B[39m weight \u001B[39m*\u001B[39m tree\u001B[39m.\u001B[39;49mpredict(df, predict_col\u001B[39m=\u001B[39;49m\u001B[39mNone\u001B[39;49;00m)\n\u001B[1;32m     73\u001B[0m     predicts\u001B[39m.\u001B[39mappend(pred\u001B[39m.\u001B[39mcopy())\n\u001B[1;32m     74\u001B[0m predicts \u001B[39m=\u001B[39m pd\u001B[39m.\u001B[39mDataFrame(predicts)\n",
      "File \u001B[0;32m~/PycharmProjects/handmade-ml/Boosting/../Trees/Tree.py:171\u001B[0m, in \u001B[0;36mTree.predict\u001B[0;34m(self, df, predict_col)\u001B[0m\n\u001B[1;32m    169\u001B[0m predicts \u001B[39m=\u001B[39m []\n\u001B[1;32m    170\u001B[0m \u001B[39mfor\u001B[39;00m i, row \u001B[39min\u001B[39;00m df\u001B[39m.\u001B[39miterrows():\n\u001B[0;32m--> 171\u001B[0m     predicts\u001B[39m.\u001B[39mappend(\u001B[39mself\u001B[39;49m\u001B[39m.\u001B[39;49mpassing_tree(\u001B[39mself\u001B[39;49m\u001B[39m.\u001B[39;49mtree, row))\n\u001B[1;32m    172\u001B[0m \u001B[39mif\u001B[39;00m predict_col \u001B[39mis\u001B[39;00m \u001B[39mnot\u001B[39;00m \u001B[39mNone\u001B[39;00m:\n\u001B[1;32m    173\u001B[0m     df[predict_col] \u001B[39m=\u001B[39m predicts\n",
      "File \u001B[0;32m~/PycharmProjects/handmade-ml/Boosting/../Trees/Tree.py:156\u001B[0m, in \u001B[0;36mTree.passing_tree\u001B[0;34m(self, node, row)\u001B[0m\n\u001B[1;32m    155\u001B[0m \u001B[39mdef\u001B[39;00m \u001B[39mpassing_tree\u001B[39m(\u001B[39mself\u001B[39m, node: Node, row: pd\u001B[39m.\u001B[39mSeries):\n\u001B[0;32m--> 156\u001B[0m     \u001B[39mif\u001B[39;00m row[node\u001B[39m.\u001B[39;49mfeature] \u001B[39m<\u001B[39m\u001B[39m=\u001B[39m node\u001B[39m.\u001B[39mthreshold:\n\u001B[1;32m    157\u001B[0m         \u001B[39mif\u001B[39;00m node\u001B[39m.\u001B[39mleft_leaf \u001B[39mis\u001B[39;00m \u001B[39mnot\u001B[39;00m \u001B[39mNone\u001B[39;00m:\n\u001B[1;32m    158\u001B[0m             \u001B[39mreturn\u001B[39;00m \u001B[39mself\u001B[39m\u001B[39m.\u001B[39mpassing_tree(node\u001B[39m.\u001B[39mleft_leaf, row)\n",
      "\u001B[0;31mAttributeError\u001B[0m: 'NoneType' object has no attribute 'feature'"
     ]
    }
   ],
   "source": [
    "model = SimpleTreeBoostRegressor(n_estimators=30, metric=mse, derivative=error, max_depth=4, colsample_bytree=1.0, criterion='entropy', subsample=0.99, minimize=True, debug=False, lr=0.1)\n",
    "model.fit(df, target='f(x)')\n",
    "model.predict(df, predict_col='pred')"
   ]
  },
  {
   "cell_type": "code",
   "execution_count": 14,
   "metadata": {
    "collapsed": false
   },
   "outputs": [
    {
     "data": {
      "text/plain": [
       "<AxesSubplot:xlabel='x', ylabel='pred'>"
      ]
     },
     "execution_count": 14,
     "metadata": {},
     "output_type": "execute_result"
    },
    {
     "data": {
      "image/svg+xml": "<?xml version=\"1.0\" encoding=\"utf-8\" standalone=\"no\"?>\n<!DOCTYPE svg PUBLIC \"-//W3C//DTD SVG 1.1//EN\"\n  \"http://www.w3.org/Graphics/SVG/1.1/DTD/svg11.dtd\">\n<svg xmlns:xlink=\"http://www.w3.org/1999/xlink\" width=\"400.523437pt\" height=\"262.19625pt\" viewBox=\"0 0 400.523437 262.19625\" xmlns=\"http://www.w3.org/2000/svg\" version=\"1.1\">\n <metadata>\n  <rdf:RDF xmlns:dc=\"http://purl.org/dc/elements/1.1/\" xmlns:cc=\"http://creativecommons.org/ns#\" xmlns:rdf=\"http://www.w3.org/1999/02/22-rdf-syntax-ns#\">\n   <cc:Work>\n    <dc:type rdf:resource=\"http://purl.org/dc/dcmitype/StillImage\"/>\n    <dc:date>2022-08-10T17:35:14.451077</dc:date>\n    <dc:format>image/svg+xml</dc:format>\n    <dc:creator>\n     <cc:Agent>\n      <dc:title>Matplotlib v3.5.2, https://matplotlib.org/</dc:title>\n     </cc:Agent>\n    </dc:creator>\n   </cc:Work>\n  </rdf:RDF>\n </metadata>\n <defs>\n  <style type=\"text/css\">*{stroke-linejoin: round; stroke-linecap: butt}</style>\n </defs>\n <g id=\"figure_1\">\n  <g id=\"patch_1\">\n   <path d=\"M 0 262.19625 \nL 400.523437 262.19625 \nL 400.523437 0 \nL 0 0 \nL 0 262.19625 \nz\n\" style=\"fill: none\"/>\n  </g>\n  <g id=\"axes_1\">\n   <g id=\"patch_2\">\n    <path d=\"M 58.523438 224.64 \nL 393.323438 224.64 \nL 393.323438 7.2 \nL 58.523438 7.2 \nz\n\" style=\"fill: #ffffff\"/>\n   </g>\n   <g id=\"matplotlib.axis_1\">\n    <g id=\"xtick_1\">\n     <g id=\"line2d_1\">\n      <path d=\"M 72.240349 224.64 \nL 72.240349 7.2 \n\" clip-path=\"url(#p2af83d428a)\" style=\"fill: none; stroke: #cccccc; stroke-width: 0.8; stroke-linecap: round\"/>\n     </g>\n     <g id=\"text_1\">\n      <!-- −3 -->\n      <g style=\"fill: #262626\" transform=\"translate(64.869255 239.238437)scale(0.1 -0.1)\">\n       <defs>\n        <path id=\"DejaVuSans-2212\" d=\"M 678 2272 \nL 4684 2272 \nL 4684 1741 \nL 678 1741 \nL 678 2272 \nz\n\" transform=\"scale(0.015625)\"/>\n        <path id=\"DejaVuSans-33\" d=\"M 2597 2516 \nQ 3050 2419 3304 2112 \nQ 3559 1806 3559 1356 \nQ 3559 666 3084 287 \nQ 2609 -91 1734 -91 \nQ 1441 -91 1130 -33 \nQ 819 25 488 141 \nL 488 750 \nQ 750 597 1062 519 \nQ 1375 441 1716 441 \nQ 2309 441 2620 675 \nQ 2931 909 2931 1356 \nQ 2931 1769 2642 2001 \nQ 2353 2234 1838 2234 \nL 1294 2234 \nL 1294 2753 \nL 1863 2753 \nQ 2328 2753 2575 2939 \nQ 2822 3125 2822 3475 \nQ 2822 3834 2567 4026 \nQ 2313 4219 1838 4219 \nQ 1578 4219 1281 4162 \nQ 984 4106 628 3988 \nL 628 4550 \nQ 988 4650 1302 4700 \nQ 1616 4750 1894 4750 \nQ 2613 4750 3031 4423 \nQ 3450 4097 3450 3541 \nQ 3450 3153 3228 2886 \nQ 3006 2619 2597 2516 \nz\n\" transform=\"scale(0.015625)\"/>\n       </defs>\n       <use xlink:href=\"#DejaVuSans-2212\"/>\n       <use xlink:href=\"#DejaVuSans-33\" x=\"83.789062\"/>\n      </g>\n     </g>\n    </g>\n    <g id=\"xtick_2\">\n     <g id=\"line2d_2\">\n      <path d=\"M 123.253861 224.64 \nL 123.253861 7.2 \n\" clip-path=\"url(#p2af83d428a)\" style=\"fill: none; stroke: #cccccc; stroke-width: 0.8; stroke-linecap: round\"/>\n     </g>\n     <g id=\"text_2\">\n      <!-- −2 -->\n      <g style=\"fill: #262626\" transform=\"translate(115.882767 239.238437)scale(0.1 -0.1)\">\n       <defs>\n        <path id=\"DejaVuSans-32\" d=\"M 1228 531 \nL 3431 531 \nL 3431 0 \nL 469 0 \nL 469 531 \nQ 828 903 1448 1529 \nQ 2069 2156 2228 2338 \nQ 2531 2678 2651 2914 \nQ 2772 3150 2772 3378 \nQ 2772 3750 2511 3984 \nQ 2250 4219 1831 4219 \nQ 1534 4219 1204 4116 \nQ 875 4013 500 3803 \nL 500 4441 \nQ 881 4594 1212 4672 \nQ 1544 4750 1819 4750 \nQ 2544 4750 2975 4387 \nQ 3406 4025 3406 3419 \nQ 3406 3131 3298 2873 \nQ 3191 2616 2906 2266 \nQ 2828 2175 2409 1742 \nQ 1991 1309 1228 531 \nz\n\" transform=\"scale(0.015625)\"/>\n       </defs>\n       <use xlink:href=\"#DejaVuSans-2212\"/>\n       <use xlink:href=\"#DejaVuSans-32\" x=\"83.789062\"/>\n      </g>\n     </g>\n    </g>\n    <g id=\"xtick_3\">\n     <g id=\"line2d_3\">\n      <path d=\"M 174.267373 224.64 \nL 174.267373 7.2 \n\" clip-path=\"url(#p2af83d428a)\" style=\"fill: none; stroke: #cccccc; stroke-width: 0.8; stroke-linecap: round\"/>\n     </g>\n     <g id=\"text_3\">\n      <!-- −1 -->\n      <g style=\"fill: #262626\" transform=\"translate(166.89628 239.238437)scale(0.1 -0.1)\">\n       <defs>\n        <path id=\"DejaVuSans-31\" d=\"M 794 531 \nL 1825 531 \nL 1825 4091 \nL 703 3866 \nL 703 4441 \nL 1819 4666 \nL 2450 4666 \nL 2450 531 \nL 3481 531 \nL 3481 0 \nL 794 0 \nL 794 531 \nz\n\" transform=\"scale(0.015625)\"/>\n       </defs>\n       <use xlink:href=\"#DejaVuSans-2212\"/>\n       <use xlink:href=\"#DejaVuSans-31\" x=\"83.789062\"/>\n      </g>\n     </g>\n    </g>\n    <g id=\"xtick_4\">\n     <g id=\"line2d_4\">\n      <path d=\"M 225.280886 224.64 \nL 225.280886 7.2 \n\" clip-path=\"url(#p2af83d428a)\" style=\"fill: none; stroke: #cccccc; stroke-width: 0.8; stroke-linecap: round\"/>\n     </g>\n     <g id=\"text_4\">\n      <!-- 0 -->\n      <g style=\"fill: #262626\" transform=\"translate(222.099636 239.238437)scale(0.1 -0.1)\">\n       <defs>\n        <path id=\"DejaVuSans-30\" d=\"M 2034 4250 \nQ 1547 4250 1301 3770 \nQ 1056 3291 1056 2328 \nQ 1056 1369 1301 889 \nQ 1547 409 2034 409 \nQ 2525 409 2770 889 \nQ 3016 1369 3016 2328 \nQ 3016 3291 2770 3770 \nQ 2525 4250 2034 4250 \nz\nM 2034 4750 \nQ 2819 4750 3233 4129 \nQ 3647 3509 3647 2328 \nQ 3647 1150 3233 529 \nQ 2819 -91 2034 -91 \nQ 1250 -91 836 529 \nQ 422 1150 422 2328 \nQ 422 3509 836 4129 \nQ 1250 4750 2034 4750 \nz\n\" transform=\"scale(0.015625)\"/>\n       </defs>\n       <use xlink:href=\"#DejaVuSans-30\"/>\n      </g>\n     </g>\n    </g>\n    <g id=\"xtick_5\">\n     <g id=\"line2d_5\">\n      <path d=\"M 276.294398 224.64 \nL 276.294398 7.2 \n\" clip-path=\"url(#p2af83d428a)\" style=\"fill: none; stroke: #cccccc; stroke-width: 0.8; stroke-linecap: round\"/>\n     </g>\n     <g id=\"text_5\">\n      <!-- 1 -->\n      <g style=\"fill: #262626\" transform=\"translate(273.113148 239.238437)scale(0.1 -0.1)\">\n       <use xlink:href=\"#DejaVuSans-31\"/>\n      </g>\n     </g>\n    </g>\n    <g id=\"xtick_6\">\n     <g id=\"line2d_6\">\n      <path d=\"M 327.307911 224.64 \nL 327.307911 7.2 \n\" clip-path=\"url(#p2af83d428a)\" style=\"fill: none; stroke: #cccccc; stroke-width: 0.8; stroke-linecap: round\"/>\n     </g>\n     <g id=\"text_6\">\n      <!-- 2 -->\n      <g style=\"fill: #262626\" transform=\"translate(324.126661 239.238437)scale(0.1 -0.1)\">\n       <use xlink:href=\"#DejaVuSans-32\"/>\n      </g>\n     </g>\n    </g>\n    <g id=\"xtick_7\">\n     <g id=\"line2d_7\">\n      <path d=\"M 378.321423 224.64 \nL 378.321423 7.2 \n\" clip-path=\"url(#p2af83d428a)\" style=\"fill: none; stroke: #cccccc; stroke-width: 0.8; stroke-linecap: round\"/>\n     </g>\n     <g id=\"text_7\">\n      <!-- 3 -->\n      <g style=\"fill: #262626\" transform=\"translate(375.140173 239.238437)scale(0.1 -0.1)\">\n       <use xlink:href=\"#DejaVuSans-33\"/>\n      </g>\n     </g>\n    </g>\n    <g id=\"text_8\">\n     <!-- x -->\n     <g style=\"fill: #262626\" transform=\"translate(222.964063 252.916562)scale(0.1 -0.1)\">\n      <defs>\n       <path id=\"DejaVuSans-78\" d=\"M 3513 3500 \nL 2247 1797 \nL 3578 0 \nL 2900 0 \nL 1881 1375 \nL 863 0 \nL 184 0 \nL 1544 1831 \nL 300 3500 \nL 978 3500 \nL 1906 2253 \nL 2834 3500 \nL 3513 3500 \nz\n\" transform=\"scale(0.015625)\"/>\n      </defs>\n      <use xlink:href=\"#DejaVuSans-78\"/>\n     </g>\n    </g>\n   </g>\n   <g id=\"matplotlib.axis_2\">\n    <g id=\"ytick_1\">\n     <g id=\"line2d_8\">\n      <path d=\"M 58.523438 211.189642 \nL 393.323438 211.189642 \n\" clip-path=\"url(#p2af83d428a)\" style=\"fill: none; stroke: #cccccc; stroke-width: 0.8; stroke-linecap: round\"/>\n     </g>\n     <g id=\"text_9\">\n      <!-- −1.00 -->\n      <g style=\"fill: #262626\" transform=\"translate(20.878125 214.98886)scale(0.1 -0.1)\">\n       <defs>\n        <path id=\"DejaVuSans-2e\" d=\"M 684 794 \nL 1344 794 \nL 1344 0 \nL 684 0 \nL 684 794 \nz\n\" transform=\"scale(0.015625)\"/>\n       </defs>\n       <use xlink:href=\"#DejaVuSans-2212\"/>\n       <use xlink:href=\"#DejaVuSans-31\" x=\"83.789062\"/>\n       <use xlink:href=\"#DejaVuSans-2e\" x=\"147.412109\"/>\n       <use xlink:href=\"#DejaVuSans-30\" x=\"179.199219\"/>\n       <use xlink:href=\"#DejaVuSans-30\" x=\"242.822266\"/>\n      </g>\n     </g>\n    </g>\n    <g id=\"ytick_2\">\n     <g id=\"line2d_9\">\n      <path d=\"M 58.523438 186.788729 \nL 393.323438 186.788729 \n\" clip-path=\"url(#p2af83d428a)\" style=\"fill: none; stroke: #cccccc; stroke-width: 0.8; stroke-linecap: round\"/>\n     </g>\n     <g id=\"text_10\">\n      <!-- −0.75 -->\n      <g style=\"fill: #262626\" transform=\"translate(20.878125 190.587947)scale(0.1 -0.1)\">\n       <defs>\n        <path id=\"DejaVuSans-37\" d=\"M 525 4666 \nL 3525 4666 \nL 3525 4397 \nL 1831 0 \nL 1172 0 \nL 2766 4134 \nL 525 4134 \nL 525 4666 \nz\n\" transform=\"scale(0.015625)\"/>\n        <path id=\"DejaVuSans-35\" d=\"M 691 4666 \nL 3169 4666 \nL 3169 4134 \nL 1269 4134 \nL 1269 2991 \nQ 1406 3038 1543 3061 \nQ 1681 3084 1819 3084 \nQ 2600 3084 3056 2656 \nQ 3513 2228 3513 1497 \nQ 3513 744 3044 326 \nQ 2575 -91 1722 -91 \nQ 1428 -91 1123 -41 \nQ 819 9 494 109 \nL 494 744 \nQ 775 591 1075 516 \nQ 1375 441 1709 441 \nQ 2250 441 2565 725 \nQ 2881 1009 2881 1497 \nQ 2881 1984 2565 2268 \nQ 2250 2553 1709 2553 \nQ 1456 2553 1204 2497 \nQ 953 2441 691 2322 \nL 691 4666 \nz\n\" transform=\"scale(0.015625)\"/>\n       </defs>\n       <use xlink:href=\"#DejaVuSans-2212\"/>\n       <use xlink:href=\"#DejaVuSans-30\" x=\"83.789062\"/>\n       <use xlink:href=\"#DejaVuSans-2e\" x=\"147.412109\"/>\n       <use xlink:href=\"#DejaVuSans-37\" x=\"179.199219\"/>\n       <use xlink:href=\"#DejaVuSans-35\" x=\"242.822266\"/>\n      </g>\n     </g>\n    </g>\n    <g id=\"ytick_3\">\n     <g id=\"line2d_10\">\n      <path d=\"M 58.523438 162.387816 \nL 393.323438 162.387816 \n\" clip-path=\"url(#p2af83d428a)\" style=\"fill: none; stroke: #cccccc; stroke-width: 0.8; stroke-linecap: round\"/>\n     </g>\n     <g id=\"text_11\">\n      <!-- −0.50 -->\n      <g style=\"fill: #262626\" transform=\"translate(20.878125 166.187034)scale(0.1 -0.1)\">\n       <use xlink:href=\"#DejaVuSans-2212\"/>\n       <use xlink:href=\"#DejaVuSans-30\" x=\"83.789062\"/>\n       <use xlink:href=\"#DejaVuSans-2e\" x=\"147.412109\"/>\n       <use xlink:href=\"#DejaVuSans-35\" x=\"179.199219\"/>\n       <use xlink:href=\"#DejaVuSans-30\" x=\"242.822266\"/>\n      </g>\n     </g>\n    </g>\n    <g id=\"ytick_4\">\n     <g id=\"line2d_11\">\n      <path d=\"M 58.523438 137.986903 \nL 393.323438 137.986903 \n\" clip-path=\"url(#p2af83d428a)\" style=\"fill: none; stroke: #cccccc; stroke-width: 0.8; stroke-linecap: round\"/>\n     </g>\n     <g id=\"text_12\">\n      <!-- −0.25 -->\n      <g style=\"fill: #262626\" transform=\"translate(20.878125 141.786121)scale(0.1 -0.1)\">\n       <use xlink:href=\"#DejaVuSans-2212\"/>\n       <use xlink:href=\"#DejaVuSans-30\" x=\"83.789062\"/>\n       <use xlink:href=\"#DejaVuSans-2e\" x=\"147.412109\"/>\n       <use xlink:href=\"#DejaVuSans-32\" x=\"179.199219\"/>\n       <use xlink:href=\"#DejaVuSans-35\" x=\"242.822266\"/>\n      </g>\n     </g>\n    </g>\n    <g id=\"ytick_5\">\n     <g id=\"line2d_12\">\n      <path d=\"M 58.523438 113.58599 \nL 393.323438 113.58599 \n\" clip-path=\"url(#p2af83d428a)\" style=\"fill: none; stroke: #cccccc; stroke-width: 0.8; stroke-linecap: round\"/>\n     </g>\n     <g id=\"text_13\">\n      <!-- 0.00 -->\n      <g style=\"fill: #262626\" transform=\"translate(29.257813 117.385208)scale(0.1 -0.1)\">\n       <use xlink:href=\"#DejaVuSans-30\"/>\n       <use xlink:href=\"#DejaVuSans-2e\" x=\"63.623047\"/>\n       <use xlink:href=\"#DejaVuSans-30\" x=\"95.410156\"/>\n       <use xlink:href=\"#DejaVuSans-30\" x=\"159.033203\"/>\n      </g>\n     </g>\n    </g>\n    <g id=\"ytick_6\">\n     <g id=\"line2d_13\">\n      <path d=\"M 58.523438 89.185076 \nL 393.323438 89.185076 \n\" clip-path=\"url(#p2af83d428a)\" style=\"fill: none; stroke: #cccccc; stroke-width: 0.8; stroke-linecap: round\"/>\n     </g>\n     <g id=\"text_14\">\n      <!-- 0.25 -->\n      <g style=\"fill: #262626\" transform=\"translate(29.257813 92.984295)scale(0.1 -0.1)\">\n       <use xlink:href=\"#DejaVuSans-30\"/>\n       <use xlink:href=\"#DejaVuSans-2e\" x=\"63.623047\"/>\n       <use xlink:href=\"#DejaVuSans-32\" x=\"95.410156\"/>\n       <use xlink:href=\"#DejaVuSans-35\" x=\"159.033203\"/>\n      </g>\n     </g>\n    </g>\n    <g id=\"ytick_7\">\n     <g id=\"line2d_14\">\n      <path d=\"M 58.523438 64.784163 \nL 393.323438 64.784163 \n\" clip-path=\"url(#p2af83d428a)\" style=\"fill: none; stroke: #cccccc; stroke-width: 0.8; stroke-linecap: round\"/>\n     </g>\n     <g id=\"text_15\">\n      <!-- 0.50 -->\n      <g style=\"fill: #262626\" transform=\"translate(29.257813 68.583382)scale(0.1 -0.1)\">\n       <use xlink:href=\"#DejaVuSans-30\"/>\n       <use xlink:href=\"#DejaVuSans-2e\" x=\"63.623047\"/>\n       <use xlink:href=\"#DejaVuSans-35\" x=\"95.410156\"/>\n       <use xlink:href=\"#DejaVuSans-30\" x=\"159.033203\"/>\n      </g>\n     </g>\n    </g>\n    <g id=\"ytick_8\">\n     <g id=\"line2d_15\">\n      <path d=\"M 58.523438 40.38325 \nL 393.323438 40.38325 \n\" clip-path=\"url(#p2af83d428a)\" style=\"fill: none; stroke: #cccccc; stroke-width: 0.8; stroke-linecap: round\"/>\n     </g>\n     <g id=\"text_16\">\n      <!-- 0.75 -->\n      <g style=\"fill: #262626\" transform=\"translate(29.257813 44.182469)scale(0.1 -0.1)\">\n       <use xlink:href=\"#DejaVuSans-30\"/>\n       <use xlink:href=\"#DejaVuSans-2e\" x=\"63.623047\"/>\n       <use xlink:href=\"#DejaVuSans-37\" x=\"95.410156\"/>\n       <use xlink:href=\"#DejaVuSans-35\" x=\"159.033203\"/>\n      </g>\n     </g>\n    </g>\n    <g id=\"ytick_9\">\n     <g id=\"line2d_16\">\n      <path d=\"M 58.523438 15.982337 \nL 393.323438 15.982337 \n\" clip-path=\"url(#p2af83d428a)\" style=\"fill: none; stroke: #cccccc; stroke-width: 0.8; stroke-linecap: round\"/>\n     </g>\n     <g id=\"text_17\">\n      <!-- 1.00 -->\n      <g style=\"fill: #262626\" transform=\"translate(29.257813 19.781556)scale(0.1 -0.1)\">\n       <use xlink:href=\"#DejaVuSans-31\"/>\n       <use xlink:href=\"#DejaVuSans-2e\" x=\"63.623047\"/>\n       <use xlink:href=\"#DejaVuSans-30\" x=\"95.410156\"/>\n       <use xlink:href=\"#DejaVuSans-30\" x=\"159.033203\"/>\n      </g>\n     </g>\n    </g>\n    <g id=\"text_18\">\n     <!-- pred -->\n     <g style=\"fill: #262626\" transform=\"translate(14.798438 127.287969)rotate(-90)scale(0.1 -0.1)\">\n      <defs>\n       <path id=\"DejaVuSans-70\" d=\"M 1159 525 \nL 1159 -1331 \nL 581 -1331 \nL 581 3500 \nL 1159 3500 \nL 1159 2969 \nQ 1341 3281 1617 3432 \nQ 1894 3584 2278 3584 \nQ 2916 3584 3314 3078 \nQ 3713 2572 3713 1747 \nQ 3713 922 3314 415 \nQ 2916 -91 2278 -91 \nQ 1894 -91 1617 61 \nQ 1341 213 1159 525 \nz\nM 3116 1747 \nQ 3116 2381 2855 2742 \nQ 2594 3103 2138 3103 \nQ 1681 3103 1420 2742 \nQ 1159 2381 1159 1747 \nQ 1159 1113 1420 752 \nQ 1681 391 2138 391 \nQ 2594 391 2855 752 \nQ 3116 1113 3116 1747 \nz\n\" transform=\"scale(0.015625)\"/>\n       <path id=\"DejaVuSans-72\" d=\"M 2631 2963 \nQ 2534 3019 2420 3045 \nQ 2306 3072 2169 3072 \nQ 1681 3072 1420 2755 \nQ 1159 2438 1159 1844 \nL 1159 0 \nL 581 0 \nL 581 3500 \nL 1159 3500 \nL 1159 2956 \nQ 1341 3275 1631 3429 \nQ 1922 3584 2338 3584 \nQ 2397 3584 2469 3576 \nQ 2541 3569 2628 3553 \nL 2631 2963 \nz\n\" transform=\"scale(0.015625)\"/>\n       <path id=\"DejaVuSans-65\" d=\"M 3597 1894 \nL 3597 1613 \nL 953 1613 \nQ 991 1019 1311 708 \nQ 1631 397 2203 397 \nQ 2534 397 2845 478 \nQ 3156 559 3463 722 \nL 3463 178 \nQ 3153 47 2828 -22 \nQ 2503 -91 2169 -91 \nQ 1331 -91 842 396 \nQ 353 884 353 1716 \nQ 353 2575 817 3079 \nQ 1281 3584 2069 3584 \nQ 2775 3584 3186 3129 \nQ 3597 2675 3597 1894 \nz\nM 3022 2063 \nQ 3016 2534 2758 2815 \nQ 2500 3097 2075 3097 \nQ 1594 3097 1305 2825 \nQ 1016 2553 972 2059 \nL 3022 2063 \nz\n\" transform=\"scale(0.015625)\"/>\n       <path id=\"DejaVuSans-64\" d=\"M 2906 2969 \nL 2906 4863 \nL 3481 4863 \nL 3481 0 \nL 2906 0 \nL 2906 525 \nQ 2725 213 2448 61 \nQ 2172 -91 1784 -91 \nQ 1150 -91 751 415 \nQ 353 922 353 1747 \nQ 353 2572 751 3078 \nQ 1150 3584 1784 3584 \nQ 2172 3584 2448 3432 \nQ 2725 3281 2906 2969 \nz\nM 947 1747 \nQ 947 1113 1208 752 \nQ 1469 391 1925 391 \nQ 2381 391 2643 752 \nQ 2906 1113 2906 1747 \nQ 2906 2381 2643 2742 \nQ 2381 3103 1925 3103 \nQ 1469 3103 1208 2742 \nQ 947 2381 947 1747 \nz\n\" transform=\"scale(0.015625)\"/>\n      </defs>\n      <use xlink:href=\"#DejaVuSans-70\"/>\n      <use xlink:href=\"#DejaVuSans-72\" x=\"63.476562\"/>\n      <use xlink:href=\"#DejaVuSans-65\" x=\"102.339844\"/>\n      <use xlink:href=\"#DejaVuSans-64\" x=\"163.863281\"/>\n     </g>\n    </g>\n   </g>\n   <g id=\"PathCollection_1\">\n    <defs>\n     <path id=\"mb5d898f0fd\" d=\"M 0 3 \nC 0.795609 3 1.55874 2.683901 2.12132 2.12132 \nC 2.683901 1.55874 3 0.795609 3 0 \nC 3 -0.795609 2.683901 -1.55874 2.12132 -2.12132 \nC 1.55874 -2.683901 0.795609 -3 0 -3 \nC -0.795609 -3 -1.55874 -2.683901 -2.12132 -2.12132 \nC -2.683901 -1.55874 -3 -0.795609 -3 0 \nC -3 0.795609 -2.683901 1.55874 -2.12132 2.12132 \nC -1.55874 2.683901 -0.795609 3 0 3 \nz\n\" style=\"stroke: #ffffff; stroke-width: 0.48\"/>\n    </defs>\n    <g clip-path=\"url(#p2af83d428a)\">\n     <use xlink:href=\"#mb5d898f0fd\" x=\"186.698168\" y=\"170.953929\" style=\"fill: #1f77b4; stroke: #ffffff; stroke-width: 0.48\"/>\n     <use xlink:href=\"#mb5d898f0fd\" x=\"130.496359\" y=\"214.531796\" style=\"fill: #1f77b4; stroke: #ffffff; stroke-width: 0.48\"/>\n     <use xlink:href=\"#mb5d898f0fd\" x=\"284.326694\" y=\"25.538471\" style=\"fill: #1f77b4; stroke: #ffffff; stroke-width: 0.48\"/>\n     <use xlink:href=\"#mb5d898f0fd\" x=\"250.336632\" y=\"80.214124\" style=\"fill: #1f77b4; stroke: #ffffff; stroke-width: 0.48\"/>\n     <use xlink:href=\"#mb5d898f0fd\" x=\"214.629993\" y=\"140.986116\" style=\"fill: #1f77b4; stroke: #ffffff; stroke-width: 0.48\"/>\n     <use xlink:href=\"#mb5d898f0fd\" x=\"235.815475\" y=\"111.116053\" style=\"fill: #1f77b4; stroke: #ffffff; stroke-width: 0.48\"/>\n     <use xlink:href=\"#mb5d898f0fd\" x=\"210.411659\" y=\"140.986116\" style=\"fill: #1f77b4; stroke: #ffffff; stroke-width: 0.48\"/>\n     <use xlink:href=\"#mb5d898f0fd\" x=\"367.210727\" y=\"92.372304\" style=\"fill: #1f77b4; stroke: #ffffff; stroke-width: 0.48\"/>\n     <use xlink:href=\"#mb5d898f0fd\" x=\"140.379829\" y=\"214.531796\" style=\"fill: #1f77b4; stroke: #ffffff; stroke-width: 0.48\"/>\n     <use xlink:href=\"#mb5d898f0fd\" x=\"325.039505\" y=\"24.41192\" style=\"fill: #1f77b4; stroke: #ffffff; stroke-width: 0.48\"/>\n     <use xlink:href=\"#mb5d898f0fd\" x=\"104.15811\" y=\"161.511828\" style=\"fill: #1f77b4; stroke: #ffffff; stroke-width: 0.48\"/>\n     <use xlink:href=\"#mb5d898f0fd\" x=\"300.577385\" y=\"18.184268\" style=\"fill: #1f77b4; stroke: #ffffff; stroke-width: 0.48\"/>\n     <use xlink:href=\"#mb5d898f0fd\" x=\"356.417747\" y=\"51.015255\" style=\"fill: #1f77b4; stroke: #ffffff; stroke-width: 0.48\"/>\n     <use xlink:href=\"#mb5d898f0fd\" x=\"169.525327\" y=\"198.714389\" style=\"fill: #1f77b4; stroke: #ffffff; stroke-width: 0.48\"/>\n     <use xlink:href=\"#mb5d898f0fd\" x=\"275.964574\" y=\"55.47998\" style=\"fill: #1f77b4; stroke: #ffffff; stroke-width: 0.48\"/>\n     <use xlink:href=\"#mb5d898f0fd\" x=\"237.541442\" y=\"105.700148\" style=\"fill: #1f77b4; stroke: #ffffff; stroke-width: 0.48\"/>\n     <use xlink:href=\"#mb5d898f0fd\" x=\"358.734964\" y=\"51.015255\" style=\"fill: #1f77b4; stroke: #ffffff; stroke-width: 0.48\"/>\n     <use xlink:href=\"#mb5d898f0fd\" x=\"153.049988\" y=\"197.450512\" style=\"fill: #1f77b4; stroke: #ffffff; stroke-width: 0.48\"/>\n     <use xlink:href=\"#mb5d898f0fd\" x=\"357.836657\" y=\"51.015255\" style=\"fill: #1f77b4; stroke: #ffffff; stroke-width: 0.48\"/>\n     <use xlink:href=\"#mb5d898f0fd\" x=\"80.204991\" y=\"134.77223\" style=\"fill: #1f77b4; stroke: #ffffff; stroke-width: 0.48\"/>\n     <use xlink:href=\"#mb5d898f0fd\" x=\"312.399564\" y=\"18.184268\" style=\"fill: #1f77b4; stroke: #ffffff; stroke-width: 0.48\"/>\n     <use xlink:href=\"#mb5d898f0fd\" x=\"82.325103\" y=\"161.511828\" style=\"fill: #1f77b4; stroke: #ffffff; stroke-width: 0.48\"/>\n     <use xlink:href=\"#mb5d898f0fd\" x=\"156.575612\" y=\"197.450512\" style=\"fill: #1f77b4; stroke: #ffffff; stroke-width: 0.48\"/>\n     <use xlink:href=\"#mb5d898f0fd\" x=\"221.499561\" y=\"110.48062\" style=\"fill: #1f77b4; stroke: #ffffff; stroke-width: 0.48\"/>\n     <use xlink:href=\"#mb5d898f0fd\" x=\"306.768507\" y=\"18.184268\" style=\"fill: #1f77b4; stroke: #ffffff; stroke-width: 0.48\"/>\n     <use xlink:href=\"#mb5d898f0fd\" x=\"293.861408\" y=\"24.364916\" style=\"fill: #1f77b4; stroke: #ffffff; stroke-width: 0.48\"/>\n     <use xlink:href=\"#mb5d898f0fd\" x=\"111.876557\" y=\"161.511828\" style=\"fill: #1f77b4; stroke: #ffffff; stroke-width: 0.48\"/>\n     <use xlink:href=\"#mb5d898f0fd\" x=\"293.716833\" y=\"25.538471\" style=\"fill: #1f77b4; stroke: #ffffff; stroke-width: 0.48\"/>\n     <use xlink:href=\"#mb5d898f0fd\" x=\"369.639713\" y=\"92.372304\" style=\"fill: #1f77b4; stroke: #ffffff; stroke-width: 0.48\"/>\n     <use xlink:href=\"#mb5d898f0fd\" x=\"122.597391\" y=\"195.459884\" style=\"fill: #1f77b4; stroke: #ffffff; stroke-width: 0.48\"/>\n     <use xlink:href=\"#mb5d898f0fd\" x=\"242.118276\" y=\"80.214124\" style=\"fill: #1f77b4; stroke: #ffffff; stroke-width: 0.48\"/>\n     <use xlink:href=\"#mb5d898f0fd\" x=\"302.955948\" y=\"18.184268\" style=\"fill: #1f77b4; stroke: #ffffff; stroke-width: 0.48\"/>\n     <use xlink:href=\"#mb5d898f0fd\" x=\"178.206849\" y=\"188.903131\" style=\"fill: #1f77b4; stroke: #ffffff; stroke-width: 0.48\"/>\n     <use xlink:href=\"#mb5d898f0fd\" x=\"183.091469\" y=\"170.906079\" style=\"fill: #1f77b4; stroke: #ffffff; stroke-width: 0.48\"/>\n     <use xlink:href=\"#mb5d898f0fd\" x=\"237.593358\" y=\"83.283309\" style=\"fill: #1f77b4; stroke: #ffffff; stroke-width: 0.48\"/>\n     <use xlink:href=\"#mb5d898f0fd\" x=\"294.147652\" y=\"18.184268\" style=\"fill: #1f77b4; stroke: #ffffff; stroke-width: 0.48\"/>\n     <use xlink:href=\"#mb5d898f0fd\" x=\"317.751565\" y=\"22.83996\" style=\"fill: #1f77b4; stroke: #ffffff; stroke-width: 0.48\"/>\n     <use xlink:href=\"#mb5d898f0fd\" x=\"201.122394\" y=\"140.986116\" style=\"fill: #1f77b4; stroke: #ffffff; stroke-width: 0.48\"/>\n     <use xlink:href=\"#mb5d898f0fd\" x=\"133.178249\" y=\"214.531796\" style=\"fill: #1f77b4; stroke: #ffffff; stroke-width: 0.48\"/>\n     <use xlink:href=\"#mb5d898f0fd\" x=\"81.777347\" y=\"134.77223\" style=\"fill: #1f77b4; stroke: #ffffff; stroke-width: 0.48\"/>\n     <use xlink:href=\"#mb5d898f0fd\" x=\"263.556802\" y=\"58.749668\" style=\"fill: #1f77b4; stroke: #ffffff; stroke-width: 0.48\"/>\n     <use xlink:href=\"#mb5d898f0fd\" x=\"142.051918\" y=\"214.531796\" style=\"fill: #1f77b4; stroke: #ffffff; stroke-width: 0.48\"/>\n     <use xlink:href=\"#mb5d898f0fd\" x=\"294.113925\" y=\"17.083636\" style=\"fill: #1f77b4; stroke: #ffffff; stroke-width: 0.48\"/>\n     <use xlink:href=\"#mb5d898f0fd\" x=\"376.646575\" y=\"92.372304\" style=\"fill: #1f77b4; stroke: #ffffff; stroke-width: 0.48\"/>\n     <use xlink:href=\"#mb5d898f0fd\" x=\"248.323123\" y=\"80.214124\" style=\"fill: #1f77b4; stroke: #ffffff; stroke-width: 0.48\"/>\n     <use xlink:href=\"#mb5d898f0fd\" x=\"348.722542\" y=\"51.015255\" style=\"fill: #1f77b4; stroke: #ffffff; stroke-width: 0.48\"/>\n     <use xlink:href=\"#mb5d898f0fd\" x=\"84.611282\" y=\"161.511828\" style=\"fill: #1f77b4; stroke: #ffffff; stroke-width: 0.48\"/>\n     <use xlink:href=\"#mb5d898f0fd\" x=\"237.458831\" y=\"111.116053\" style=\"fill: #1f77b4; stroke: #ffffff; stroke-width: 0.48\"/>\n     <use xlink:href=\"#mb5d898f0fd\" x=\"232.037471\" y=\"111.116053\" style=\"fill: #1f77b4; stroke: #ffffff; stroke-width: 0.48\"/>\n     <use xlink:href=\"#mb5d898f0fd\" x=\"83.895059\" y=\"161.511828\" style=\"fill: #1f77b4; stroke: #ffffff; stroke-width: 0.48\"/>\n     <use xlink:href=\"#mb5d898f0fd\" x=\"367.399999\" y=\"92.372304\" style=\"fill: #1f77b4; stroke: #ffffff; stroke-width: 0.48\"/>\n     <use xlink:href=\"#mb5d898f0fd\" x=\"288.392512\" y=\"25.538471\" style=\"fill: #1f77b4; stroke: #ffffff; stroke-width: 0.48\"/>\n     <use xlink:href=\"#mb5d898f0fd\" x=\"256.085381\" y=\"58.749668\" style=\"fill: #1f77b4; stroke: #ffffff; stroke-width: 0.48\"/>\n     <use xlink:href=\"#mb5d898f0fd\" x=\"123.872994\" y=\"195.459884\" style=\"fill: #1f77b4; stroke: #ffffff; stroke-width: 0.48\"/>\n     <use xlink:href=\"#mb5d898f0fd\" x=\"273.18047\" y=\"58.749668\" style=\"fill: #1f77b4; stroke: #ffffff; stroke-width: 0.48\"/>\n     <use xlink:href=\"#mb5d898f0fd\" x=\"284.10985\" y=\"25.538471\" style=\"fill: #1f77b4; stroke: #ffffff; stroke-width: 0.48\"/>\n     <use xlink:href=\"#mb5d898f0fd\" x=\"333.242726\" y=\"30.587691\" style=\"fill: #1f77b4; stroke: #ffffff; stroke-width: 0.48\"/>\n     <use xlink:href=\"#mb5d898f0fd\" x=\"343.757772\" y=\"51.015255\" style=\"fill: #1f77b4; stroke: #ffffff; stroke-width: 0.48\"/>\n     <use xlink:href=\"#mb5d898f0fd\" x=\"114.502904\" y=\"195.459884\" style=\"fill: #1f77b4; stroke: #ffffff; stroke-width: 0.48\"/>\n     <use xlink:href=\"#mb5d898f0fd\" x=\"118.655892\" y=\"195.459884\" style=\"fill: #1f77b4; stroke: #ffffff; stroke-width: 0.48\"/>\n     <use xlink:href=\"#mb5d898f0fd\" x=\"75.757626\" y=\"134.77223\" style=\"fill: #1f77b4; stroke: #ffffff; stroke-width: 0.48\"/>\n     <use xlink:href=\"#mb5d898f0fd\" x=\"147.814624\" y=\"197.450512\" style=\"fill: #1f77b4; stroke: #ffffff; stroke-width: 0.48\"/>\n     <use xlink:href=\"#mb5d898f0fd\" x=\"188.841907\" y=\"170.953929\" style=\"fill: #1f77b4; stroke: #ffffff; stroke-width: 0.48\"/>\n     <use xlink:href=\"#mb5d898f0fd\" x=\"292.337972\" y=\"25.538471\" style=\"fill: #1f77b4; stroke: #ffffff; stroke-width: 0.48\"/>\n     <use xlink:href=\"#mb5d898f0fd\" x=\"88.092709\" y=\"161.511828\" style=\"fill: #1f77b4; stroke: #ffffff; stroke-width: 0.48\"/>\n     <use xlink:href=\"#mb5d898f0fd\" x=\"289.80122\" y=\"25.538471\" style=\"fill: #1f77b4; stroke: #ffffff; stroke-width: 0.48\"/>\n     <use xlink:href=\"#mb5d898f0fd\" x=\"133.267478\" y=\"214.531796\" style=\"fill: #1f77b4; stroke: #ffffff; stroke-width: 0.48\"/>\n     <use xlink:href=\"#mb5d898f0fd\" x=\"93.567958\" y=\"161.511828\" style=\"fill: #1f77b4; stroke: #ffffff; stroke-width: 0.48\"/>\n     <use xlink:href=\"#mb5d898f0fd\" x=\"264.810197\" y=\"58.749668\" style=\"fill: #1f77b4; stroke: #ffffff; stroke-width: 0.48\"/>\n     <use xlink:href=\"#mb5d898f0fd\" x=\"133.662863\" y=\"214.531796\" style=\"fill: #1f77b4; stroke: #ffffff; stroke-width: 0.48\"/>\n     <use xlink:href=\"#mb5d898f0fd\" x=\"377.736354\" y=\"92.372304\" style=\"fill: #1f77b4; stroke: #ffffff; stroke-width: 0.48\"/>\n     <use xlink:href=\"#mb5d898f0fd\" x=\"77.016838\" y=\"134.77223\" style=\"fill: #1f77b4; stroke: #ffffff; stroke-width: 0.48\"/>\n     <use xlink:href=\"#mb5d898f0fd\" x=\"218.856991\" y=\"140.986116\" style=\"fill: #1f77b4; stroke: #ffffff; stroke-width: 0.48\"/>\n     <use xlink:href=\"#mb5d898f0fd\" x=\"298.358118\" y=\"18.184268\" style=\"fill: #1f77b4; stroke: #ffffff; stroke-width: 0.48\"/>\n     <use xlink:href=\"#mb5d898f0fd\" x=\"196.451886\" y=\"170.953929\" style=\"fill: #1f77b4; stroke: #ffffff; stroke-width: 0.48\"/>\n     <use xlink:href=\"#mb5d898f0fd\" x=\"145.817984\" y=\"197.450512\" style=\"fill: #1f77b4; stroke: #ffffff; stroke-width: 0.48\"/>\n     <use xlink:href=\"#mb5d898f0fd\" x=\"178.105111\" y=\"198.714389\" style=\"fill: #1f77b4; stroke: #ffffff; stroke-width: 0.48\"/>\n     <use xlink:href=\"#mb5d898f0fd\" x=\"331.847001\" y=\"24.41192\" style=\"fill: #1f77b4; stroke: #ffffff; stroke-width: 0.48\"/>\n     <use xlink:href=\"#mb5d898f0fd\" x=\"286.91961\" y=\"25.538471\" style=\"fill: #1f77b4; stroke: #ffffff; stroke-width: 0.48\"/>\n     <use xlink:href=\"#mb5d898f0fd\" x=\"364.022518\" y=\"92.372304\" style=\"fill: #1f77b4; stroke: #ffffff; stroke-width: 0.48\"/>\n     <use xlink:href=\"#mb5d898f0fd\" x=\"173.432501\" y=\"198.714389\" style=\"fill: #1f77b4; stroke: #ffffff; stroke-width: 0.48\"/>\n     <use xlink:href=\"#mb5d898f0fd\" x=\"333.288986\" y=\"51.015255\" style=\"fill: #1f77b4; stroke: #ffffff; stroke-width: 0.48\"/>\n     <use xlink:href=\"#mb5d898f0fd\" x=\"238.929715\" y=\"80.214124\" style=\"fill: #1f77b4; stroke: #ffffff; stroke-width: 0.48\"/>\n     <use xlink:href=\"#mb5d898f0fd\" x=\"277.451545\" y=\"25.538471\" style=\"fill: #1f77b4; stroke: #ffffff; stroke-width: 0.48\"/>\n     <use xlink:href=\"#mb5d898f0fd\" x=\"166.778134\" y=\"198.714389\" style=\"fill: #1f77b4; stroke: #ffffff; stroke-width: 0.48\"/>\n     <use xlink:href=\"#mb5d898f0fd\" x=\"161.36539\" y=\"198.509361\" style=\"fill: #1f77b4; stroke: #ffffff; stroke-width: 0.48\"/>\n     <use xlink:href=\"#mb5d898f0fd\" x=\"190.047513\" y=\"170.953929\" style=\"fill: #1f77b4; stroke: #ffffff; stroke-width: 0.48\"/>\n     <use xlink:href=\"#mb5d898f0fd\" x=\"318.408083\" y=\"24.41192\" style=\"fill: #1f77b4; stroke: #ffffff; stroke-width: 0.48\"/>\n     <use xlink:href=\"#mb5d898f0fd\" x=\"173.660827\" y=\"198.714389\" style=\"fill: #1f77b4; stroke: #ffffff; stroke-width: 0.48\"/>\n     <use xlink:href=\"#mb5d898f0fd\" x=\"254.663151\" y=\"62.273416\" style=\"fill: #1f77b4; stroke: #ffffff; stroke-width: 0.48\"/>\n     <use xlink:href=\"#mb5d898f0fd\" x=\"192.856649\" y=\"170.953929\" style=\"fill: #1f77b4; stroke: #ffffff; stroke-width: 0.48\"/>\n     <use xlink:href=\"#mb5d898f0fd\" x=\"77.169079\" y=\"134.77223\" style=\"fill: #1f77b4; stroke: #ffffff; stroke-width: 0.48\"/>\n     <use xlink:href=\"#mb5d898f0fd\" x=\"89.478791\" y=\"161.511828\" style=\"fill: #1f77b4; stroke: #ffffff; stroke-width: 0.48\"/>\n     <use xlink:href=\"#mb5d898f0fd\" x=\"143.501355\" y=\"202.589151\" style=\"fill: #1f77b4; stroke: #ffffff; stroke-width: 0.48\"/>\n     <use xlink:href=\"#mb5d898f0fd\" x=\"103.379845\" y=\"161.511828\" style=\"fill: #1f77b4; stroke: #ffffff; stroke-width: 0.48\"/>\n     <use xlink:href=\"#mb5d898f0fd\" x=\"336.080623\" y=\"51.015255\" style=\"fill: #1f77b4; stroke: #ffffff; stroke-width: 0.48\"/>\n     <use xlink:href=\"#mb5d898f0fd\" x=\"314.419375\" y=\"18.851742\" style=\"fill: #1f77b4; stroke: #ffffff; stroke-width: 0.48\"/>\n     <use xlink:href=\"#mb5d898f0fd\" x=\"183.257934\" y=\"170.953929\" style=\"fill: #1f77b4; stroke: #ffffff; stroke-width: 0.48\"/>\n     <use xlink:href=\"#mb5d898f0fd\" x=\"255.6837\" y=\"58.749668\" style=\"fill: #1f77b4; stroke: #ffffff; stroke-width: 0.48\"/>\n     <use xlink:href=\"#mb5d898f0fd\" x=\"130.261284\" y=\"214.531796\" style=\"fill: #1f77b4; stroke: #ffffff; stroke-width: 0.48\"/>\n     <use xlink:href=\"#mb5d898f0fd\" x=\"272.548711\" y=\"58.749668\" style=\"fill: #1f77b4; stroke: #ffffff; stroke-width: 0.48\"/>\n     <use xlink:href=\"#mb5d898f0fd\" x=\"276.086365\" y=\"38.995231\" style=\"fill: #1f77b4; stroke: #ffffff; stroke-width: 0.48\"/>\n     <use xlink:href=\"#mb5d898f0fd\" x=\"322.277605\" y=\"24.41192\" style=\"fill: #1f77b4; stroke: #ffffff; stroke-width: 0.48\"/>\n     <use xlink:href=\"#mb5d898f0fd\" x=\"139.040836\" y=\"214.531796\" style=\"fill: #1f77b4; stroke: #ffffff; stroke-width: 0.48\"/>\n     <use xlink:href=\"#mb5d898f0fd\" x=\"116.920711\" y=\"195.459884\" style=\"fill: #1f77b4; stroke: #ffffff; stroke-width: 0.48\"/>\n     <use xlink:href=\"#mb5d898f0fd\" x=\"326.440325\" y=\"24.41192\" style=\"fill: #1f77b4; stroke: #ffffff; stroke-width: 0.48\"/>\n     <use xlink:href=\"#mb5d898f0fd\" x=\"374.30387\" y=\"92.372304\" style=\"fill: #1f77b4; stroke: #ffffff; stroke-width: 0.48\"/>\n     <use xlink:href=\"#mb5d898f0fd\" x=\"189.035155\" y=\"170.953929\" style=\"fill: #1f77b4; stroke: #ffffff; stroke-width: 0.48\"/>\n     <use xlink:href=\"#mb5d898f0fd\" x=\"84.518785\" y=\"161.511828\" style=\"fill: #1f77b4; stroke: #ffffff; stroke-width: 0.48\"/>\n     <use xlink:href=\"#mb5d898f0fd\" x=\"73.741619\" y=\"134.77223\" style=\"fill: #1f77b4; stroke: #ffffff; stroke-width: 0.48\"/>\n     <use xlink:href=\"#mb5d898f0fd\" x=\"374.159484\" y=\"92.372304\" style=\"fill: #1f77b4; stroke: #ffffff; stroke-width: 0.48\"/>\n     <use xlink:href=\"#mb5d898f0fd\" x=\"217.003815\" y=\"140.986116\" style=\"fill: #1f77b4; stroke: #ffffff; stroke-width: 0.48\"/>\n     <use xlink:href=\"#mb5d898f0fd\" x=\"323.503391\" y=\"24.41192\" style=\"fill: #1f77b4; stroke: #ffffff; stroke-width: 0.48\"/>\n     <use xlink:href=\"#mb5d898f0fd\" x=\"378.105256\" y=\"92.372304\" style=\"fill: #1f77b4; stroke: #ffffff; stroke-width: 0.48\"/>\n     <use xlink:href=\"#mb5d898f0fd\" x=\"193.8116\" y=\"170.953929\" style=\"fill: #1f77b4; stroke: #ffffff; stroke-width: 0.48\"/>\n     <use xlink:href=\"#mb5d898f0fd\" x=\"126.31617\" y=\"214.756364\" style=\"fill: #1f77b4; stroke: #ffffff; stroke-width: 0.48\"/>\n     <use xlink:href=\"#mb5d898f0fd\" x=\"126.164702\" y=\"211.876278\" style=\"fill: #1f77b4; stroke: #ffffff; stroke-width: 0.48\"/>\n     <use xlink:href=\"#mb5d898f0fd\" x=\"335.309485\" y=\"51.015255\" style=\"fill: #1f77b4; stroke: #ffffff; stroke-width: 0.48\"/>\n     <use xlink:href=\"#mb5d898f0fd\" x=\"230.217471\" y=\"111.116053\" style=\"fill: #1f77b4; stroke: #ffffff; stroke-width: 0.48\"/>\n     <use xlink:href=\"#mb5d898f0fd\" x=\"246.202617\" y=\"80.214124\" style=\"fill: #1f77b4; stroke: #ffffff; stroke-width: 0.48\"/>\n     <use xlink:href=\"#mb5d898f0fd\" x=\"365.726162\" y=\"92.372304\" style=\"fill: #1f77b4; stroke: #ffffff; stroke-width: 0.48\"/>\n     <use xlink:href=\"#mb5d898f0fd\" x=\"324.03778\" y=\"24.41192\" style=\"fill: #1f77b4; stroke: #ffffff; stroke-width: 0.48\"/>\n     <use xlink:href=\"#mb5d898f0fd\" x=\"128.076458\" y=\"214.531796\" style=\"fill: #1f77b4; stroke: #ffffff; stroke-width: 0.48\"/>\n     <use xlink:href=\"#mb5d898f0fd\" x=\"177.775074\" y=\"198.714389\" style=\"fill: #1f77b4; stroke: #ffffff; stroke-width: 0.48\"/>\n     <use xlink:href=\"#mb5d898f0fd\" x=\"207.098237\" y=\"140.986116\" style=\"fill: #1f77b4; stroke: #ffffff; stroke-width: 0.48\"/>\n     <use xlink:href=\"#mb5d898f0fd\" x=\"91.237254\" y=\"161.511828\" style=\"fill: #1f77b4; stroke: #ffffff; stroke-width: 0.48\"/>\n     <use xlink:href=\"#mb5d898f0fd\" x=\"148.080122\" y=\"197.450512\" style=\"fill: #1f77b4; stroke: #ffffff; stroke-width: 0.48\"/>\n     <use xlink:href=\"#mb5d898f0fd\" x=\"75.399208\" y=\"134.77223\" style=\"fill: #1f77b4; stroke: #ffffff; stroke-width: 0.48\"/>\n     <use xlink:href=\"#mb5d898f0fd\" x=\"81.888337\" y=\"134.77223\" style=\"fill: #1f77b4; stroke: #ffffff; stroke-width: 0.48\"/>\n     <use xlink:href=\"#mb5d898f0fd\" x=\"114.969915\" y=\"195.459884\" style=\"fill: #1f77b4; stroke: #ffffff; stroke-width: 0.48\"/>\n     <use xlink:href=\"#mb5d898f0fd\" x=\"121.424764\" y=\"195.459884\" style=\"fill: #1f77b4; stroke: #ffffff; stroke-width: 0.48\"/>\n     <use xlink:href=\"#mb5d898f0fd\" x=\"264.195591\" y=\"58.749668\" style=\"fill: #1f77b4; stroke: #ffffff; stroke-width: 0.48\"/>\n     <use xlink:href=\"#mb5d898f0fd\" x=\"75.163822\" y=\"134.77223\" style=\"fill: #1f77b4; stroke: #ffffff; stroke-width: 0.48\"/>\n     <use xlink:href=\"#mb5d898f0fd\" x=\"222.269701\" y=\"111.116053\" style=\"fill: #1f77b4; stroke: #ffffff; stroke-width: 0.48\"/>\n     <use xlink:href=\"#mb5d898f0fd\" x=\"144.076701\" y=\"197.450512\" style=\"fill: #1f77b4; stroke: #ffffff; stroke-width: 0.48\"/>\n     <use xlink:href=\"#mb5d898f0fd\" x=\"238.120225\" y=\"80.214124\" style=\"fill: #1f77b4; stroke: #ffffff; stroke-width: 0.48\"/>\n     <use xlink:href=\"#mb5d898f0fd\" x=\"131.451179\" y=\"214.531796\" style=\"fill: #1f77b4; stroke: #ffffff; stroke-width: 0.48\"/>\n     <use xlink:href=\"#mb5d898f0fd\" x=\"160.961205\" y=\"196.363931\" style=\"fill: #1f77b4; stroke: #ffffff; stroke-width: 0.48\"/>\n     <use xlink:href=\"#mb5d898f0fd\" x=\"176.765303\" y=\"198.714389\" style=\"fill: #1f77b4; stroke: #ffffff; stroke-width: 0.48\"/>\n     <use xlink:href=\"#mb5d898f0fd\" x=\"227.657602\" y=\"111.116053\" style=\"fill: #1f77b4; stroke: #ffffff; stroke-width: 0.48\"/>\n     <use xlink:href=\"#mb5d898f0fd\" x=\"103.888808\" y=\"161.511828\" style=\"fill: #1f77b4; stroke: #ffffff; stroke-width: 0.48\"/>\n     <use xlink:href=\"#mb5d898f0fd\" x=\"290.58621\" y=\"25.538471\" style=\"fill: #1f77b4; stroke: #ffffff; stroke-width: 0.48\"/>\n     <use xlink:href=\"#mb5d898f0fd\" x=\"227.516721\" y=\"111.116053\" style=\"fill: #1f77b4; stroke: #ffffff; stroke-width: 0.48\"/>\n     <use xlink:href=\"#mb5d898f0fd\" x=\"160.195873\" y=\"197.450512\" style=\"fill: #1f77b4; stroke: #ffffff; stroke-width: 0.48\"/>\n     <use xlink:href=\"#mb5d898f0fd\" x=\"118.914374\" y=\"195.459884\" style=\"fill: #1f77b4; stroke: #ffffff; stroke-width: 0.48\"/>\n     <use xlink:href=\"#mb5d898f0fd\" x=\"143.86773\" y=\"197.602806\" style=\"fill: #1f77b4; stroke: #ffffff; stroke-width: 0.48\"/>\n     <use xlink:href=\"#mb5d898f0fd\" x=\"239.254688\" y=\"80.214124\" style=\"fill: #1f77b4; stroke: #ffffff; stroke-width: 0.48\"/>\n     <use xlink:href=\"#mb5d898f0fd\" x=\"268.759659\" y=\"58.749668\" style=\"fill: #1f77b4; stroke: #ffffff; stroke-width: 0.48\"/>\n     <use xlink:href=\"#mb5d898f0fd\" x=\"156.656279\" y=\"197.450512\" style=\"fill: #1f77b4; stroke: #ffffff; stroke-width: 0.48\"/>\n     <use xlink:href=\"#mb5d898f0fd\" x=\"74.484191\" y=\"134.77223\" style=\"fill: #1f77b4; stroke: #ffffff; stroke-width: 0.48\"/>\n     <use xlink:href=\"#mb5d898f0fd\" x=\"190.858076\" y=\"170.953929\" style=\"fill: #1f77b4; stroke: #ffffff; stroke-width: 0.48\"/>\n     <use xlink:href=\"#mb5d898f0fd\" x=\"199.973293\" y=\"144.78046\" style=\"fill: #1f77b4; stroke: #ffffff; stroke-width: 0.48\"/>\n     <use xlink:href=\"#mb5d898f0fd\" x=\"359.654339\" y=\"56.611679\" style=\"fill: #1f77b4; stroke: #ffffff; stroke-width: 0.48\"/>\n     <use xlink:href=\"#mb5d898f0fd\" x=\"177.568444\" y=\"198.714389\" style=\"fill: #1f77b4; stroke: #ffffff; stroke-width: 0.48\"/>\n     <use xlink:href=\"#mb5d898f0fd\" x=\"152.358403\" y=\"197.450512\" style=\"fill: #1f77b4; stroke: #ffffff; stroke-width: 0.48\"/>\n     <use xlink:href=\"#mb5d898f0fd\" x=\"351.408313\" y=\"51.015255\" style=\"fill: #1f77b4; stroke: #ffffff; stroke-width: 0.48\"/>\n     <use xlink:href=\"#mb5d898f0fd\" x=\"78.939616\" y=\"134.77223\" style=\"fill: #1f77b4; stroke: #ffffff; stroke-width: 0.48\"/>\n     <use xlink:href=\"#mb5d898f0fd\" x=\"112.64535\" y=\"189.887972\" style=\"fill: #1f77b4; stroke: #ffffff; stroke-width: 0.48\"/>\n     <use xlink:href=\"#mb5d898f0fd\" x=\"193.225201\" y=\"170.953929\" style=\"fill: #1f77b4; stroke: #ffffff; stroke-width: 0.48\"/>\n     <use xlink:href=\"#mb5d898f0fd\" x=\"288.719334\" y=\"25.538471\" style=\"fill: #1f77b4; stroke: #ffffff; stroke-width: 0.48\"/>\n     <use xlink:href=\"#mb5d898f0fd\" x=\"242.222581\" y=\"80.214124\" style=\"fill: #1f77b4; stroke: #ffffff; stroke-width: 0.48\"/>\n     <use xlink:href=\"#mb5d898f0fd\" x=\"133.242862\" y=\"214.531796\" style=\"fill: #1f77b4; stroke: #ffffff; stroke-width: 0.48\"/>\n     <use xlink:href=\"#mb5d898f0fd\" x=\"309.017167\" y=\"18.184268\" style=\"fill: #1f77b4; stroke: #ffffff; stroke-width: 0.48\"/>\n     <use xlink:href=\"#mb5d898f0fd\" x=\"371.150626\" y=\"92.372304\" style=\"fill: #1f77b4; stroke: #ffffff; stroke-width: 0.48\"/>\n     <use xlink:href=\"#mb5d898f0fd\" x=\"325.905033\" y=\"24.41192\" style=\"fill: #1f77b4; stroke: #ffffff; stroke-width: 0.48\"/>\n     <use xlink:href=\"#mb5d898f0fd\" x=\"175.860943\" y=\"198.714389\" style=\"fill: #1f77b4; stroke: #ffffff; stroke-width: 0.48\"/>\n     <use xlink:href=\"#mb5d898f0fd\" x=\"266.740624\" y=\"58.749668\" style=\"fill: #1f77b4; stroke: #ffffff; stroke-width: 0.48\"/>\n     <use xlink:href=\"#mb5d898f0fd\" x=\"335.616435\" y=\"51.015255\" style=\"fill: #1f77b4; stroke: #ffffff; stroke-width: 0.48\"/>\n     <use xlink:href=\"#mb5d898f0fd\" x=\"361.191728\" y=\"92.372304\" style=\"fill: #1f77b4; stroke: #ffffff; stroke-width: 0.48\"/>\n     <use xlink:href=\"#mb5d898f0fd\" x=\"260.35349\" y=\"58.749668\" style=\"fill: #1f77b4; stroke: #ffffff; stroke-width: 0.48\"/>\n     <use xlink:href=\"#mb5d898f0fd\" x=\"336.877626\" y=\"51.015255\" style=\"fill: #1f77b4; stroke: #ffffff; stroke-width: 0.48\"/>\n     <use xlink:href=\"#mb5d898f0fd\" x=\"253.388817\" y=\"73.813921\" style=\"fill: #1f77b4; stroke: #ffffff; stroke-width: 0.48\"/>\n     <use xlink:href=\"#mb5d898f0fd\" x=\"222.276344\" y=\"111.116053\" style=\"fill: #1f77b4; stroke: #ffffff; stroke-width: 0.48\"/>\n     <use xlink:href=\"#mb5d898f0fd\" x=\"203.33642\" y=\"140.986116\" style=\"fill: #1f77b4; stroke: #ffffff; stroke-width: 0.48\"/>\n     <use xlink:href=\"#mb5d898f0fd\" x=\"346.174063\" y=\"51.015255\" style=\"fill: #1f77b4; stroke: #ffffff; stroke-width: 0.48\"/>\n     <use xlink:href=\"#mb5d898f0fd\" x=\"114.362181\" y=\"194.299097\" style=\"fill: #1f77b4; stroke: #ffffff; stroke-width: 0.48\"/>\n     <use xlink:href=\"#mb5d898f0fd\" x=\"326.726582\" y=\"24.41192\" style=\"fill: #1f77b4; stroke: #ffffff; stroke-width: 0.48\"/>\n     <use xlink:href=\"#mb5d898f0fd\" x=\"242.312052\" y=\"80.214124\" style=\"fill: #1f77b4; stroke: #ffffff; stroke-width: 0.48\"/>\n     <use xlink:href=\"#mb5d898f0fd\" x=\"297.499458\" y=\"18.184268\" style=\"fill: #1f77b4; stroke: #ffffff; stroke-width: 0.48\"/>\n     <use xlink:href=\"#mb5d898f0fd\" x=\"293.438945\" y=\"25.538471\" style=\"fill: #1f77b4; stroke: #ffffff; stroke-width: 0.48\"/>\n     <use xlink:href=\"#mb5d898f0fd\" x=\"199.119912\" y=\"162.936453\" style=\"fill: #1f77b4; stroke: #ffffff; stroke-width: 0.48\"/>\n     <use xlink:href=\"#mb5d898f0fd\" x=\"125.7181\" y=\"195.459884\" style=\"fill: #1f77b4; stroke: #ffffff; stroke-width: 0.48\"/>\n     <use xlink:href=\"#mb5d898f0fd\" x=\"202.15379\" y=\"140.986116\" style=\"fill: #1f77b4; stroke: #ffffff; stroke-width: 0.48\"/>\n     <use xlink:href=\"#mb5d898f0fd\" x=\"219.025018\" y=\"132.214199\" style=\"fill: #1f77b4; stroke: #ffffff; stroke-width: 0.48\"/>\n     <use xlink:href=\"#mb5d898f0fd\" x=\"189.601822\" y=\"170.953929\" style=\"fill: #1f77b4; stroke: #ffffff; stroke-width: 0.48\"/>\n     <use xlink:href=\"#mb5d898f0fd\" x=\"324.030099\" y=\"24.41192\" style=\"fill: #1f77b4; stroke: #ffffff; stroke-width: 0.48\"/>\n     <use xlink:href=\"#mb5d898f0fd\" x=\"377.474667\" y=\"92.372304\" style=\"fill: #1f77b4; stroke: #ffffff; stroke-width: 0.48\"/>\n     <use xlink:href=\"#mb5d898f0fd\" x=\"301.298632\" y=\"18.184268\" style=\"fill: #1f77b4; stroke: #ffffff; stroke-width: 0.48\"/>\n     <use xlink:href=\"#mb5d898f0fd\" x=\"209.081215\" y=\"140.986116\" style=\"fill: #1f77b4; stroke: #ffffff; stroke-width: 0.48\"/>\n     <use xlink:href=\"#mb5d898f0fd\" x=\"159.505802\" y=\"197.450512\" style=\"fill: #1f77b4; stroke: #ffffff; stroke-width: 0.48\"/>\n     <use xlink:href=\"#mb5d898f0fd\" x=\"201.618287\" y=\"140.986116\" style=\"fill: #1f77b4; stroke: #ffffff; stroke-width: 0.48\"/>\n     <use xlink:href=\"#mb5d898f0fd\" x=\"329.201128\" y=\"24.41192\" style=\"fill: #1f77b4; stroke: #ffffff; stroke-width: 0.48\"/>\n     <use xlink:href=\"#mb5d898f0fd\" x=\"118.580739\" y=\"195.459884\" style=\"fill: #1f77b4; stroke: #ffffff; stroke-width: 0.48\"/>\n     <use xlink:href=\"#mb5d898f0fd\" x=\"211.931829\" y=\"140.986116\" style=\"fill: #1f77b4; stroke: #ffffff; stroke-width: 0.48\"/>\n     <use xlink:href=\"#mb5d898f0fd\" x=\"222.515273\" y=\"111.116053\" style=\"fill: #1f77b4; stroke: #ffffff; stroke-width: 0.48\"/>\n     <use xlink:href=\"#mb5d898f0fd\" x=\"174.500731\" y=\"198.714389\" style=\"fill: #1f77b4; stroke: #ffffff; stroke-width: 0.48\"/>\n     <use xlink:href=\"#mb5d898f0fd\" x=\"252.654215\" y=\"80.214124\" style=\"fill: #1f77b4; stroke: #ffffff; stroke-width: 0.48\"/>\n     <use xlink:href=\"#mb5d898f0fd\" x=\"321.814516\" y=\"24.41192\" style=\"fill: #1f77b4; stroke: #ffffff; stroke-width: 0.48\"/>\n     <use xlink:href=\"#mb5d898f0fd\" x=\"298.813316\" y=\"18.184268\" style=\"fill: #1f77b4; stroke: #ffffff; stroke-width: 0.48\"/>\n     <use xlink:href=\"#mb5d898f0fd\" x=\"231.104974\" y=\"111.116053\" style=\"fill: #1f77b4; stroke: #ffffff; stroke-width: 0.48\"/>\n    </g>\n   </g>\n   <g id=\"patch_3\">\n    <path d=\"M 58.523438 224.64 \nL 58.523438 7.2 \n\" style=\"fill: none; stroke: #cccccc; stroke-width: 0.8; stroke-linejoin: miter; stroke-linecap: square\"/>\n   </g>\n   <g id=\"patch_4\">\n    <path d=\"M 393.323438 224.64 \nL 393.323438 7.2 \n\" style=\"fill: none; stroke: #cccccc; stroke-width: 0.8; stroke-linejoin: miter; stroke-linecap: square\"/>\n   </g>\n   <g id=\"patch_5\">\n    <path d=\"M 58.523438 224.64 \nL 393.323437 224.64 \n\" style=\"fill: none; stroke: #cccccc; stroke-width: 0.8; stroke-linejoin: miter; stroke-linecap: square\"/>\n   </g>\n   <g id=\"patch_6\">\n    <path d=\"M 58.523438 7.2 \nL 393.323437 7.2 \n\" style=\"fill: none; stroke: #cccccc; stroke-width: 0.8; stroke-linejoin: miter; stroke-linecap: square\"/>\n   </g>\n  </g>\n </g>\n <defs>\n  <clipPath id=\"p2af83d428a\">\n   <rect x=\"58.523438\" y=\"7.2\" width=\"334.8\" height=\"217.44\"/>\n  </clipPath>\n </defs>\n</svg>\n",
      "text/plain": [
       "<Figure size 432x288 with 1 Axes>"
      ]
     },
     "metadata": {
      "needs_background": "light"
     },
     "output_type": "display_data"
    }
   ],
   "source": [
    "sns.scatterplot(data = df, x = 'x', y = 'pred')"
   ]
  },
  {
   "cell_type": "code",
   "execution_count": 15,
   "metadata": {
    "collapsed": false
   },
   "outputs": [],
   "source": [
    "# from Trees.Tree import TreeRegressor\n",
    "# model = TreeRegressor(max_depth=10, metric=mse, criterion='entropy', minimize=True)\n",
    "# model.trivial_fit(df, target='f(x)')\n",
    "# model.predict(df, 'pred f(x)')\n"
   ]
  },
  {
   "cell_type": "markdown",
   "metadata": {
    "collapsed": false
   },
   "source": [
    "### Real dataset"
   ]
  },
  {
   "cell_type": "code",
   "execution_count": 17,
   "metadata": {
    "collapsed": false
   },
   "outputs": [
    {
     "name": "stdout",
     "output_type": "stream",
     "text": [
      "Iteration: 0, Loss: 586003.0725723141\n",
      "\n",
      "Iteration: 1, Loss: 457415.0070676164\n",
      "\n",
      "Iteration: 2, Loss: 396612.8587534635\n",
      "\n",
      "Iteration: 3, Loss: 303546.032082648\n",
      "\n",
      "Iteration: 4, Loss: 247842.7225263718\n",
      "\n",
      "Iteration: 5, Loss: 155959.56443071822\n",
      "\n",
      "Iteration: 6, Loss: 189309.06645683394\n",
      "\n",
      "Iteration: 7, Loss: 112194.72790786198\n",
      "\n",
      "Iteration: 8, Loss: 157697.06041763083\n",
      "\n",
      "Iteration: 9, Loss: 140674.40458078647\n",
      "\n",
      "Iteration: 10, Loss: 129764.47886189655\n",
      "\n",
      "Iteration: 11, Loss: 125360.18401937127\n",
      "\n",
      "Iteration: 12, Loss: 116263.10651055236\n",
      "\n",
      "Iteration: 13, Loss: 120232.02257636572\n",
      "\n",
      "Iteration: 14, Loss: 75061.52311765526\n",
      "\n",
      "Iteration: 15, Loss: 110562.80078037782\n",
      "\n",
      "Iteration: 16, Loss: 115331.23475142033\n",
      "\n",
      "Iteration: 17, Loss: 105572.44886561752\n",
      "\n",
      "Iteration: 18, Loss: 78046.1766091063\n",
      "\n",
      "Iteration: 19, Loss: 80144.45286025845\n",
      "\n",
      "Iteration: 20, Loss: 103658.59076769905\n",
      "\n",
      "Iteration: 21, Loss: 108893.65090559224\n",
      "\n",
      "Iteration: 22, Loss: 68958.82127682526\n",
      "\n",
      "Iteration: 23, Loss: 103644.87323548332\n",
      "\n",
      "Iteration: 24, Loss: 104691.20650887664\n",
      "\n",
      "Iteration: 25, Loss: 98165.35814458819\n",
      "\n",
      "Iteration: 26, Loss: 98814.92351505661\n",
      "\n",
      "Iteration: 27, Loss: 67292.07387998198\n",
      "\n",
      "Iteration: 28, Loss: 86492.33441081007\n",
      "\n",
      "Iteration: 29, Loss: 95688.16683158594\n",
      "\n",
      "Iteration: 30, Loss: 94465.45134362842\n",
      "\n",
      "Iteration: 31, Loss: 60075.35250883901\n",
      "\n",
      "Iteration: 32, Loss: 64162.85915545517\n",
      "\n",
      "Iteration: 33, Loss: 84275.1834537227\n",
      "\n",
      "Iteration: 34, Loss: 63675.05355825584\n",
      "\n",
      "Iteration: 35, Loss: 55506.98675323997\n",
      "\n",
      "Iteration: 36, Loss: 58204.844922945544\n",
      "\n",
      "Iteration: 37, Loss: 86407.38759795616\n",
      "\n",
      "Iteration: 38, Loss: 90245.11935693627\n",
      "\n",
      "Iteration: 39, Loss: 79599.41899398054\n",
      "\n",
      "Iteration: 40, Loss: 87984.90320042065\n",
      "\n",
      "Iteration: 41, Loss: 89410.53007597267\n",
      "\n",
      "Iteration: 42, Loss: 55704.986484024725\n",
      "\n",
      "Iteration: 43, Loss: 57243.7213492042\n",
      "\n",
      "Iteration: 44, Loss: 80942.92197247826\n",
      "\n",
      "Iteration: 45, Loss: 86928.68669677418\n",
      "\n",
      "Iteration: 46, Loss: 75520.75872408341\n",
      "\n",
      "Iteration: 47, Loss: 77665.26658792677\n",
      "\n",
      "Iteration: 48, Loss: 79724.93985391043\n",
      "\n",
      "Iteration: 49, Loss: 75830.34973601106\n",
      "\n"
     ]
    }
   ],
   "source": [
    "dataset = sns.load_dataset(\"penguins\")\n",
    "dataset = dataset[dataset['body_mass_g'] != np.nan]\n",
    "dataset = dataset.drop(['island', 'sex', 'species'], axis=1)\n",
    "dataset = dataset.fillna(0)\n",
    "train, test = train_test_split(dataset, train_size=0.8, shuffle=True, random_state=42)\n",
    "# test = test.drop('species', axis=1)\n",
    "model = SimpleTreeBoostRegressor(n_estimators=50, metric=mse, derivative=error, max_depth=4, colsample_bytree=0.7, criterion='entropy', subsample=0.7, minimize=True, debug=False, lr=0.2)\n",
    "\n",
    "model.fit(train, target='body_mass_g')\n",
    "model.predict(test, predict_col='pred')\n"
   ]
  },
  {
   "cell_type": "code",
   "execution_count": 18,
   "metadata": {
    "collapsed": false
   },
   "outputs": [
    {
     "data": {
      "text/html": [
       "<div>\n",
       "<style scoped>\n",
       "    .dataframe tbody tr th:only-of-type {\n",
       "        vertical-align: middle;\n",
       "    }\n",
       "\n",
       "    .dataframe tbody tr th {\n",
       "        vertical-align: top;\n",
       "    }\n",
       "\n",
       "    .dataframe thead th {\n",
       "        text-align: right;\n",
       "    }\n",
       "</style>\n",
       "<table border=\"1\" class=\"dataframe\">\n",
       "  <thead>\n",
       "    <tr style=\"text-align: right;\">\n",
       "      <th></th>\n",
       "      <th>bill_length_mm</th>\n",
       "      <th>bill_depth_mm</th>\n",
       "      <th>flipper_length_mm</th>\n",
       "      <th>body_mass_g</th>\n",
       "      <th>pred</th>\n",
       "    </tr>\n",
       "  </thead>\n",
       "  <tbody>\n",
       "    <tr>\n",
       "      <th>194</th>\n",
       "      <td>50.9</td>\n",
       "      <td>19.1</td>\n",
       "      <td>196.0</td>\n",
       "      <td>3550.0</td>\n",
       "      <td>3859.382511</td>\n",
       "    </tr>\n",
       "    <tr>\n",
       "      <th>157</th>\n",
       "      <td>45.2</td>\n",
       "      <td>17.8</td>\n",
       "      <td>198.0</td>\n",
       "      <td>3950.0</td>\n",
       "      <td>3750.834189</td>\n",
       "    </tr>\n",
       "    <tr>\n",
       "      <th>225</th>\n",
       "      <td>46.5</td>\n",
       "      <td>13.5</td>\n",
       "      <td>210.0</td>\n",
       "      <td>4550.0</td>\n",
       "      <td>4311.249719</td>\n",
       "    </tr>\n",
       "    <tr>\n",
       "      <th>208</th>\n",
       "      <td>45.2</td>\n",
       "      <td>16.6</td>\n",
       "      <td>191.0</td>\n",
       "      <td>3250.0</td>\n",
       "      <td>3442.636621</td>\n",
       "    </tr>\n",
       "    <tr>\n",
       "      <th>318</th>\n",
       "      <td>48.4</td>\n",
       "      <td>14.4</td>\n",
       "      <td>203.0</td>\n",
       "      <td>4625.0</td>\n",
       "      <td>4313.408893</td>\n",
       "    </tr>\n",
       "    <tr>\n",
       "      <th>...</th>\n",
       "      <td>...</td>\n",
       "      <td>...</td>\n",
       "      <td>...</td>\n",
       "      <td>...</td>\n",
       "      <td>...</td>\n",
       "    </tr>\n",
       "    <tr>\n",
       "      <th>321</th>\n",
       "      <td>55.9</td>\n",
       "      <td>17.0</td>\n",
       "      <td>228.0</td>\n",
       "      <td>5600.0</td>\n",
       "      <td>5729.878980</td>\n",
       "    </tr>\n",
       "    <tr>\n",
       "      <th>172</th>\n",
       "      <td>42.4</td>\n",
       "      <td>17.3</td>\n",
       "      <td>181.0</td>\n",
       "      <td>3600.0</td>\n",
       "      <td>3566.424051</td>\n",
       "    </tr>\n",
       "    <tr>\n",
       "      <th>73</th>\n",
       "      <td>45.8</td>\n",
       "      <td>18.9</td>\n",
       "      <td>197.0</td>\n",
       "      <td>4150.0</td>\n",
       "      <td>3755.303439</td>\n",
       "    </tr>\n",
       "    <tr>\n",
       "      <th>76</th>\n",
       "      <td>40.9</td>\n",
       "      <td>16.8</td>\n",
       "      <td>191.0</td>\n",
       "      <td>3700.0</td>\n",
       "      <td>3243.944286</td>\n",
       "    </tr>\n",
       "    <tr>\n",
       "      <th>16</th>\n",
       "      <td>38.7</td>\n",
       "      <td>19.0</td>\n",
       "      <td>195.0</td>\n",
       "      <td>3450.0</td>\n",
       "      <td>3885.962881</td>\n",
       "    </tr>\n",
       "  </tbody>\n",
       "</table>\n",
       "<p>69 rows × 5 columns</p>\n",
       "</div>"
      ],
      "text/plain": [
       "     bill_length_mm  bill_depth_mm  flipper_length_mm  body_mass_g  \\\n",
       "194            50.9           19.1              196.0       3550.0   \n",
       "157            45.2           17.8              198.0       3950.0   \n",
       "225            46.5           13.5              210.0       4550.0   \n",
       "208            45.2           16.6              191.0       3250.0   \n",
       "318            48.4           14.4              203.0       4625.0   \n",
       "..              ...            ...                ...          ...   \n",
       "321            55.9           17.0              228.0       5600.0   \n",
       "172            42.4           17.3              181.0       3600.0   \n",
       "73             45.8           18.9              197.0       4150.0   \n",
       "76             40.9           16.8              191.0       3700.0   \n",
       "16             38.7           19.0              195.0       3450.0   \n",
       "\n",
       "            pred  \n",
       "194  3859.382511  \n",
       "157  3750.834189  \n",
       "225  4311.249719  \n",
       "208  3442.636621  \n",
       "318  4313.408893  \n",
       "..           ...  \n",
       "321  5729.878980  \n",
       "172  3566.424051  \n",
       "73   3755.303439  \n",
       "76   3243.944286  \n",
       "16   3885.962881  \n",
       "\n",
       "[69 rows x 5 columns]"
      ]
     },
     "execution_count": 18,
     "metadata": {},
     "output_type": "execute_result"
    }
   ],
   "source": [
    "test"
   ]
  },
  {
   "cell_type": "code",
   "execution_count": 19,
   "metadata": {
    "collapsed": false
   },
   "outputs": [
    {
     "data": {
      "text/plain": [
       "344.1944696544786"
      ]
     },
     "execution_count": 19,
     "metadata": {},
     "output_type": "execute_result"
    }
   ],
   "source": [
    "from metrics import me\n",
    "\n",
    "me(test['pred'], test['body_mass_g'])"
   ]
  },
  {
   "cell_type": "code",
   "execution_count": 20,
   "metadata": {
    "collapsed": false
   },
   "outputs": [
    {
     "data": {
      "text/plain": [
       "933.354712150505"
      ]
     },
     "execution_count": 20,
     "metadata": {},
     "output_type": "execute_result"
    }
   ],
   "source": [
    "np.std(test['body_mass_g'])"
   ]
  },
  {
   "cell_type": "code",
   "execution_count": null,
   "metadata": {
    "collapsed": false
   },
   "outputs": [],
   "source": []
  },
  {
   "cell_type": "code",
   "execution_count": 69,
   "metadata": {
    "collapsed": false
   },
   "outputs": [],
   "source": []
  }
 ],
 "metadata": {
  "kernelspec": {
   "display_name": "Python 3.10.4 ('venv': venv)",
   "language": "python",
   "name": "python3"
  },
  "language_info": {
   "codemirror_mode": {
    "name": "ipython",
    "version": 3
   },
   "file_extension": ".py",
   "mimetype": "text/x-python",
   "name": "python",
   "nbconvert_exporter": "python",
   "pygments_lexer": "ipython3",
   "version": "3.10.4"
  },
  "vscode": {
   "interpreter": {
    "hash": "b72b541741a01b63e16a52c9eedaa3c9cf112b962b98b32647952d63ea8babf5"
   }
  }
 },
 "nbformat": 4,
 "nbformat_minor": 0
}
