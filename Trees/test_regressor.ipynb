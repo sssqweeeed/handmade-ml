{
 "cells": [
  {
   "cell_type": "code",
   "execution_count": 48,
   "metadata": {
    "collapsed": true,
    "pycharm": {
     "name": "#%%\n"
    }
   },
   "outputs": [
    {
     "name": "stdout",
     "output_type": "stream",
     "text": [
      "The autoreload extension is already loaded. To reload it, use:\n",
      "  %reload_ext autoreload\n"
     ]
    }
   ],
   "source": [
    "import pandas as pd\n",
    "import numpy as np\n",
    "import seaborn as sns\n",
    "import matplotlib.pyplot as plt\n",
    "from Trees.Tree import TreeRegressor\n",
    "from metrics import mse, accuracy, me\n",
    "from sklearn.model_selection import train_test_split\n",
    "\n",
    "%load_ext autoreload\n",
    "%autoreload 2\n",
    "%matplotlib inline\n",
    "%config InlineBackend.figure_format = 'svg'"
   ]
  },
  {
   "cell_type": "code",
   "execution_count": 49,
   "outputs": [],
   "source": [
    "SIZE = 100\n",
    "\n",
    "noise = np.random.normal(0, 0.2, size=SIZE)\n",
    "x = np.random.uniform(-3, 3, size=SIZE)\n",
    "y = np.sin(x)\n",
    "df = pd.DataFrame(columns=['x', 'f(x)'])\n",
    "df['x'] = x\n",
    "df['f(x)'] = y + noise"
   ],
   "metadata": {
    "collapsed": false,
    "pycharm": {
     "name": "#%%\n"
    }
   }
  },
  {
   "cell_type": "code",
   "execution_count": 50,
   "outputs": [
    {
     "data": {
      "text/plain": "<AxesSubplot:xlabel='x', ylabel='f(x)'>"
     },
     "execution_count": 50,
     "metadata": {},
     "output_type": "execute_result"
    },
    {
     "data": {
      "text/plain": "<Figure size 432x288 with 1 Axes>",
      "image/svg+xml": "<?xml version=\"1.0\" encoding=\"utf-8\" standalone=\"no\"?>\n<!DOCTYPE svg PUBLIC \"-//W3C//DTD SVG 1.1//EN\"\n  \"http://www.w3.org/Graphics/SVG/1.1/DTD/svg11.dtd\">\n<svg xmlns:xlink=\"http://www.w3.org/1999/xlink\" width=\"394.160937pt\" height=\"262.19625pt\" viewBox=\"0 0 394.160937 262.19625\" xmlns=\"http://www.w3.org/2000/svg\" version=\"1.1\">\n <metadata>\n  <rdf:RDF xmlns:dc=\"http://purl.org/dc/elements/1.1/\" xmlns:cc=\"http://creativecommons.org/ns#\" xmlns:rdf=\"http://www.w3.org/1999/02/22-rdf-syntax-ns#\">\n   <cc:Work>\n    <dc:type rdf:resource=\"http://purl.org/dc/dcmitype/StillImage\"/>\n    <dc:date>2022-08-10T16:55:07.864172</dc:date>\n    <dc:format>image/svg+xml</dc:format>\n    <dc:creator>\n     <cc:Agent>\n      <dc:title>Matplotlib v3.5.2, https://matplotlib.org/</dc:title>\n     </cc:Agent>\n    </dc:creator>\n   </cc:Work>\n  </rdf:RDF>\n </metadata>\n <defs>\n  <style type=\"text/css\">*{stroke-linejoin: round; stroke-linecap: butt}</style>\n </defs>\n <g id=\"figure_1\">\n  <g id=\"patch_1\">\n   <path d=\"M 0 262.19625 \nL 394.160937 262.19625 \nL 394.160937 0 \nL 0 0 \nL 0 262.19625 \nz\n\" style=\"fill: none\"/>\n  </g>\n  <g id=\"axes_1\">\n   <g id=\"patch_2\">\n    <path d=\"M 52.160938 224.64 \nL 386.960938 224.64 \nL 386.960938 7.2 \nL 52.160938 7.2 \nz\n\" style=\"fill: #ffffff\"/>\n   </g>\n   <g id=\"matplotlib.axis_1\">\n    <g id=\"xtick_1\">\n     <g id=\"line2d_1\">\n      <path d=\"M 66.84652 224.64 \nL 66.84652 7.2 \n\" clip-path=\"url(#p307f51bcb3)\" style=\"fill: none; stroke: #cccccc; stroke-width: 0.8; stroke-linecap: round\"/>\n     </g>\n     <g id=\"text_1\">\n      <!-- −3 -->\n      <g style=\"fill: #262626\" transform=\"translate(59.475426 239.238437)scale(0.1 -0.1)\">\n       <defs>\n        <path id=\"DejaVuSans-2212\" d=\"M 678 2272 \nL 4684 2272 \nL 4684 1741 \nL 678 1741 \nL 678 2272 \nz\n\" transform=\"scale(0.015625)\"/>\n        <path id=\"DejaVuSans-33\" d=\"M 2597 2516 \nQ 3050 2419 3304 2112 \nQ 3559 1806 3559 1356 \nQ 3559 666 3084 287 \nQ 2609 -91 1734 -91 \nQ 1441 -91 1130 -33 \nQ 819 25 488 141 \nL 488 750 \nQ 750 597 1062 519 \nQ 1375 441 1716 441 \nQ 2309 441 2620 675 \nQ 2931 909 2931 1356 \nQ 2931 1769 2642 2001 \nQ 2353 2234 1838 2234 \nL 1294 2234 \nL 1294 2753 \nL 1863 2753 \nQ 2328 2753 2575 2939 \nQ 2822 3125 2822 3475 \nQ 2822 3834 2567 4026 \nQ 2313 4219 1838 4219 \nQ 1578 4219 1281 4162 \nQ 984 4106 628 3988 \nL 628 4550 \nQ 988 4650 1302 4700 \nQ 1616 4750 1894 4750 \nQ 2613 4750 3031 4423 \nQ 3450 4097 3450 3541 \nQ 3450 3153 3228 2886 \nQ 3006 2619 2597 2516 \nz\n\" transform=\"scale(0.015625)\"/>\n       </defs>\n       <use xlink:href=\"#DejaVuSans-2212\"/>\n       <use xlink:href=\"#DejaVuSans-33\" x=\"83.789062\"/>\n      </g>\n     </g>\n    </g>\n    <g id=\"xtick_2\">\n     <g id=\"line2d_2\">\n      <path d=\"M 118.177129 224.64 \nL 118.177129 7.2 \n\" clip-path=\"url(#p307f51bcb3)\" style=\"fill: none; stroke: #cccccc; stroke-width: 0.8; stroke-linecap: round\"/>\n     </g>\n     <g id=\"text_2\">\n      <!-- −2 -->\n      <g style=\"fill: #262626\" transform=\"translate(110.806035 239.238437)scale(0.1 -0.1)\">\n       <defs>\n        <path id=\"DejaVuSans-32\" d=\"M 1228 531 \nL 3431 531 \nL 3431 0 \nL 469 0 \nL 469 531 \nQ 828 903 1448 1529 \nQ 2069 2156 2228 2338 \nQ 2531 2678 2651 2914 \nQ 2772 3150 2772 3378 \nQ 2772 3750 2511 3984 \nQ 2250 4219 1831 4219 \nQ 1534 4219 1204 4116 \nQ 875 4013 500 3803 \nL 500 4441 \nQ 881 4594 1212 4672 \nQ 1544 4750 1819 4750 \nQ 2544 4750 2975 4387 \nQ 3406 4025 3406 3419 \nQ 3406 3131 3298 2873 \nQ 3191 2616 2906 2266 \nQ 2828 2175 2409 1742 \nQ 1991 1309 1228 531 \nz\n\" transform=\"scale(0.015625)\"/>\n       </defs>\n       <use xlink:href=\"#DejaVuSans-2212\"/>\n       <use xlink:href=\"#DejaVuSans-32\" x=\"83.789062\"/>\n      </g>\n     </g>\n    </g>\n    <g id=\"xtick_3\">\n     <g id=\"line2d_3\">\n      <path d=\"M 169.507739 224.64 \nL 169.507739 7.2 \n\" clip-path=\"url(#p307f51bcb3)\" style=\"fill: none; stroke: #cccccc; stroke-width: 0.8; stroke-linecap: round\"/>\n     </g>\n     <g id=\"text_3\">\n      <!-- −1 -->\n      <g style=\"fill: #262626\" transform=\"translate(162.136645 239.238437)scale(0.1 -0.1)\">\n       <defs>\n        <path id=\"DejaVuSans-31\" d=\"M 794 531 \nL 1825 531 \nL 1825 4091 \nL 703 3866 \nL 703 4441 \nL 1819 4666 \nL 2450 4666 \nL 2450 531 \nL 3481 531 \nL 3481 0 \nL 794 0 \nL 794 531 \nz\n\" transform=\"scale(0.015625)\"/>\n       </defs>\n       <use xlink:href=\"#DejaVuSans-2212\"/>\n       <use xlink:href=\"#DejaVuSans-31\" x=\"83.789062\"/>\n      </g>\n     </g>\n    </g>\n    <g id=\"xtick_4\">\n     <g id=\"line2d_4\">\n      <path d=\"M 220.838348 224.64 \nL 220.838348 7.2 \n\" clip-path=\"url(#p307f51bcb3)\" style=\"fill: none; stroke: #cccccc; stroke-width: 0.8; stroke-linecap: round\"/>\n     </g>\n     <g id=\"text_4\">\n      <!-- 0 -->\n      <g style=\"fill: #262626\" transform=\"translate(217.657098 239.238437)scale(0.1 -0.1)\">\n       <defs>\n        <path id=\"DejaVuSans-30\" d=\"M 2034 4250 \nQ 1547 4250 1301 3770 \nQ 1056 3291 1056 2328 \nQ 1056 1369 1301 889 \nQ 1547 409 2034 409 \nQ 2525 409 2770 889 \nQ 3016 1369 3016 2328 \nQ 3016 3291 2770 3770 \nQ 2525 4250 2034 4250 \nz\nM 2034 4750 \nQ 2819 4750 3233 4129 \nQ 3647 3509 3647 2328 \nQ 3647 1150 3233 529 \nQ 2819 -91 2034 -91 \nQ 1250 -91 836 529 \nQ 422 1150 422 2328 \nQ 422 3509 836 4129 \nQ 1250 4750 2034 4750 \nz\n\" transform=\"scale(0.015625)\"/>\n       </defs>\n       <use xlink:href=\"#DejaVuSans-30\"/>\n      </g>\n     </g>\n    </g>\n    <g id=\"xtick_5\">\n     <g id=\"line2d_5\">\n      <path d=\"M 272.168958 224.64 \nL 272.168958 7.2 \n\" clip-path=\"url(#p307f51bcb3)\" style=\"fill: none; stroke: #cccccc; stroke-width: 0.8; stroke-linecap: round\"/>\n     </g>\n     <g id=\"text_5\">\n      <!-- 1 -->\n      <g style=\"fill: #262626\" transform=\"translate(268.987708 239.238437)scale(0.1 -0.1)\">\n       <use xlink:href=\"#DejaVuSans-31\"/>\n      </g>\n     </g>\n    </g>\n    <g id=\"xtick_6\">\n     <g id=\"line2d_6\">\n      <path d=\"M 323.499567 224.64 \nL 323.499567 7.2 \n\" clip-path=\"url(#p307f51bcb3)\" style=\"fill: none; stroke: #cccccc; stroke-width: 0.8; stroke-linecap: round\"/>\n     </g>\n     <g id=\"text_6\">\n      <!-- 2 -->\n      <g style=\"fill: #262626\" transform=\"translate(320.318317 239.238437)scale(0.1 -0.1)\">\n       <use xlink:href=\"#DejaVuSans-32\"/>\n      </g>\n     </g>\n    </g>\n    <g id=\"xtick_7\">\n     <g id=\"line2d_7\">\n      <path d=\"M 374.830177 224.64 \nL 374.830177 7.2 \n\" clip-path=\"url(#p307f51bcb3)\" style=\"fill: none; stroke: #cccccc; stroke-width: 0.8; stroke-linecap: round\"/>\n     </g>\n     <g id=\"text_7\">\n      <!-- 3 -->\n      <g style=\"fill: #262626\" transform=\"translate(371.648927 239.238437)scale(0.1 -0.1)\">\n       <use xlink:href=\"#DejaVuSans-33\"/>\n      </g>\n     </g>\n    </g>\n    <g id=\"text_8\">\n     <!-- x -->\n     <g style=\"fill: #262626\" transform=\"translate(216.601563 252.916562)scale(0.1 -0.1)\">\n      <defs>\n       <path id=\"DejaVuSans-78\" d=\"M 3513 3500 \nL 2247 1797 \nL 3578 0 \nL 2900 0 \nL 1881 1375 \nL 863 0 \nL 184 0 \nL 1544 1831 \nL 300 3500 \nL 978 3500 \nL 1906 2253 \nL 2834 3500 \nL 3513 3500 \nz\n\" transform=\"scale(0.015625)\"/>\n      </defs>\n      <use xlink:href=\"#DejaVuSans-78\"/>\n     </g>\n    </g>\n   </g>\n   <g id=\"matplotlib.axis_2\">\n    <g id=\"ytick_1\">\n     <g id=\"line2d_8\">\n      <path d=\"M 52.160938 220.019091 \nL 386.960938 220.019091 \n\" clip-path=\"url(#p307f51bcb3)\" style=\"fill: none; stroke: #cccccc; stroke-width: 0.8; stroke-linecap: round\"/>\n     </g>\n     <g id=\"text_9\">\n      <!-- −1.5 -->\n      <g style=\"fill: #262626\" transform=\"translate(20.878125 223.81831)scale(0.1 -0.1)\">\n       <defs>\n        <path id=\"DejaVuSans-2e\" d=\"M 684 794 \nL 1344 794 \nL 1344 0 \nL 684 0 \nL 684 794 \nz\n\" transform=\"scale(0.015625)\"/>\n        <path id=\"DejaVuSans-35\" d=\"M 691 4666 \nL 3169 4666 \nL 3169 4134 \nL 1269 4134 \nL 1269 2991 \nQ 1406 3038 1543 3061 \nQ 1681 3084 1819 3084 \nQ 2600 3084 3056 2656 \nQ 3513 2228 3513 1497 \nQ 3513 744 3044 326 \nQ 2575 -91 1722 -91 \nQ 1428 -91 1123 -41 \nQ 819 9 494 109 \nL 494 744 \nQ 775 591 1075 516 \nQ 1375 441 1709 441 \nQ 2250 441 2565 725 \nQ 2881 1009 2881 1497 \nQ 2881 1984 2565 2268 \nQ 2250 2553 1709 2553 \nQ 1456 2553 1204 2497 \nQ 953 2441 691 2322 \nL 691 4666 \nz\n\" transform=\"scale(0.015625)\"/>\n       </defs>\n       <use xlink:href=\"#DejaVuSans-2212\"/>\n       <use xlink:href=\"#DejaVuSans-31\" x=\"83.789062\"/>\n       <use xlink:href=\"#DejaVuSans-2e\" x=\"147.412109\"/>\n       <use xlink:href=\"#DejaVuSans-35\" x=\"179.199219\"/>\n      </g>\n     </g>\n    </g>\n    <g id=\"ytick_2\">\n     <g id=\"line2d_9\">\n      <path d=\"M 52.160938 184.255143 \nL 386.960938 184.255143 \n\" clip-path=\"url(#p307f51bcb3)\" style=\"fill: none; stroke: #cccccc; stroke-width: 0.8; stroke-linecap: round\"/>\n     </g>\n     <g id=\"text_10\">\n      <!-- −1.0 -->\n      <g style=\"fill: #262626\" transform=\"translate(20.878125 188.054362)scale(0.1 -0.1)\">\n       <use xlink:href=\"#DejaVuSans-2212\"/>\n       <use xlink:href=\"#DejaVuSans-31\" x=\"83.789062\"/>\n       <use xlink:href=\"#DejaVuSans-2e\" x=\"147.412109\"/>\n       <use xlink:href=\"#DejaVuSans-30\" x=\"179.199219\"/>\n      </g>\n     </g>\n    </g>\n    <g id=\"ytick_3\">\n     <g id=\"line2d_10\">\n      <path d=\"M 52.160938 148.491196 \nL 386.960938 148.491196 \n\" clip-path=\"url(#p307f51bcb3)\" style=\"fill: none; stroke: #cccccc; stroke-width: 0.8; stroke-linecap: round\"/>\n     </g>\n     <g id=\"text_11\">\n      <!-- −0.5 -->\n      <g style=\"fill: #262626\" transform=\"translate(20.878125 152.290415)scale(0.1 -0.1)\">\n       <use xlink:href=\"#DejaVuSans-2212\"/>\n       <use xlink:href=\"#DejaVuSans-30\" x=\"83.789062\"/>\n       <use xlink:href=\"#DejaVuSans-2e\" x=\"147.412109\"/>\n       <use xlink:href=\"#DejaVuSans-35\" x=\"179.199219\"/>\n      </g>\n     </g>\n    </g>\n    <g id=\"ytick_4\">\n     <g id=\"line2d_11\">\n      <path d=\"M 52.160938 112.727248 \nL 386.960938 112.727248 \n\" clip-path=\"url(#p307f51bcb3)\" style=\"fill: none; stroke: #cccccc; stroke-width: 0.8; stroke-linecap: round\"/>\n     </g>\n     <g id=\"text_12\">\n      <!-- 0.0 -->\n      <g style=\"fill: #262626\" transform=\"translate(29.257812 116.526467)scale(0.1 -0.1)\">\n       <use xlink:href=\"#DejaVuSans-30\"/>\n       <use xlink:href=\"#DejaVuSans-2e\" x=\"63.623047\"/>\n       <use xlink:href=\"#DejaVuSans-30\" x=\"95.410156\"/>\n      </g>\n     </g>\n    </g>\n    <g id=\"ytick_5\">\n     <g id=\"line2d_12\">\n      <path d=\"M 52.160938 76.963301 \nL 386.960938 76.963301 \n\" clip-path=\"url(#p307f51bcb3)\" style=\"fill: none; stroke: #cccccc; stroke-width: 0.8; stroke-linecap: round\"/>\n     </g>\n     <g id=\"text_13\">\n      <!-- 0.5 -->\n      <g style=\"fill: #262626\" transform=\"translate(29.257812 80.76252)scale(0.1 -0.1)\">\n       <use xlink:href=\"#DejaVuSans-30\"/>\n       <use xlink:href=\"#DejaVuSans-2e\" x=\"63.623047\"/>\n       <use xlink:href=\"#DejaVuSans-35\" x=\"95.410156\"/>\n      </g>\n     </g>\n    </g>\n    <g id=\"ytick_6\">\n     <g id=\"line2d_13\">\n      <path d=\"M 52.160938 41.199353 \nL 386.960938 41.199353 \n\" clip-path=\"url(#p307f51bcb3)\" style=\"fill: none; stroke: #cccccc; stroke-width: 0.8; stroke-linecap: round\"/>\n     </g>\n     <g id=\"text_14\">\n      <!-- 1.0 -->\n      <g style=\"fill: #262626\" transform=\"translate(29.257812 44.998572)scale(0.1 -0.1)\">\n       <use xlink:href=\"#DejaVuSans-31\"/>\n       <use xlink:href=\"#DejaVuSans-2e\" x=\"63.623047\"/>\n       <use xlink:href=\"#DejaVuSans-30\" x=\"95.410156\"/>\n      </g>\n     </g>\n    </g>\n    <g id=\"text_15\">\n     <!-- f(x) -->\n     <g style=\"fill: #262626\" transform=\"translate(14.798438 124.541094)rotate(-90)scale(0.1 -0.1)\">\n      <defs>\n       <path id=\"DejaVuSans-66\" d=\"M 2375 4863 \nL 2375 4384 \nL 1825 4384 \nQ 1516 4384 1395 4259 \nQ 1275 4134 1275 3809 \nL 1275 3500 \nL 2222 3500 \nL 2222 3053 \nL 1275 3053 \nL 1275 0 \nL 697 0 \nL 697 3053 \nL 147 3053 \nL 147 3500 \nL 697 3500 \nL 697 3744 \nQ 697 4328 969 4595 \nQ 1241 4863 1831 4863 \nL 2375 4863 \nz\n\" transform=\"scale(0.015625)\"/>\n       <path id=\"DejaVuSans-28\" d=\"M 1984 4856 \nQ 1566 4138 1362 3434 \nQ 1159 2731 1159 2009 \nQ 1159 1288 1364 580 \nQ 1569 -128 1984 -844 \nL 1484 -844 \nQ 1016 -109 783 600 \nQ 550 1309 550 2009 \nQ 550 2706 781 3412 \nQ 1013 4119 1484 4856 \nL 1984 4856 \nz\n\" transform=\"scale(0.015625)\"/>\n       <path id=\"DejaVuSans-29\" d=\"M 513 4856 \nL 1013 4856 \nQ 1481 4119 1714 3412 \nQ 1947 2706 1947 2009 \nQ 1947 1309 1714 600 \nQ 1481 -109 1013 -844 \nL 513 -844 \nQ 928 -128 1133 580 \nQ 1338 1288 1338 2009 \nQ 1338 2731 1133 3434 \nQ 928 4138 513 4856 \nz\n\" transform=\"scale(0.015625)\"/>\n      </defs>\n      <use xlink:href=\"#DejaVuSans-66\"/>\n      <use xlink:href=\"#DejaVuSans-28\" x=\"35.205078\"/>\n      <use xlink:href=\"#DejaVuSans-78\" x=\"74.21875\"/>\n      <use xlink:href=\"#DejaVuSans-29\" x=\"133.398438\"/>\n     </g>\n    </g>\n   </g>\n   <g id=\"PathCollection_1\">\n    <defs>\n     <path id=\"m48e50d8d60\" d=\"M 0 3 \nC 0.795609 3 1.55874 2.683901 2.12132 2.12132 \nC 2.683901 1.55874 3 0.795609 3 0 \nC 3 -0.795609 2.683901 -1.55874 2.12132 -2.12132 \nC 1.55874 -2.683901 0.795609 -3 0 -3 \nC -0.795609 -3 -1.55874 -2.683901 -2.12132 -2.12132 \nC -2.683901 -1.55874 -3 -0.795609 -3 0 \nC -3 0.795609 -2.683901 1.55874 -2.12132 2.12132 \nC -1.55874 2.683901 -0.795609 3 0 3 \nz\n\" style=\"stroke: #ffffff; stroke-width: 0.48\"/>\n    </defs>\n    <g clip-path=\"url(#p307f51bcb3)\">\n     <use xlink:href=\"#m48e50d8d60\" x=\"125.2188\" y=\"198.197067\" style=\"fill: #1f77b4; stroke: #ffffff; stroke-width: 0.48\"/>\n     <use xlink:href=\"#m48e50d8d60\" x=\"191.165274\" y=\"141.786881\" style=\"fill: #1f77b4; stroke: #ffffff; stroke-width: 0.48\"/>\n     <use xlink:href=\"#m48e50d8d60\" x=\"107.014034\" y=\"157.209955\" style=\"fill: #1f77b4; stroke: #ffffff; stroke-width: 0.48\"/>\n     <use xlink:href=\"#m48e50d8d60\" x=\"307.618507\" y=\"48.23839\" style=\"fill: #1f77b4; stroke: #ffffff; stroke-width: 0.48\"/>\n     <use xlink:href=\"#m48e50d8d60\" x=\"115.177794\" y=\"153.489949\" style=\"fill: #1f77b4; stroke: #ffffff; stroke-width: 0.48\"/>\n     <use xlink:href=\"#m48e50d8d60\" x=\"137.879304\" y=\"214.756364\" style=\"fill: #1f77b4; stroke: #ffffff; stroke-width: 0.48\"/>\n     <use xlink:href=\"#m48e50d8d60\" x=\"270.147887\" y=\"59.199965\" style=\"fill: #1f77b4; stroke: #ffffff; stroke-width: 0.48\"/>\n     <use xlink:href=\"#m48e50d8d60\" x=\"108.069999\" y=\"188.372497\" style=\"fill: #1f77b4; stroke: #ffffff; stroke-width: 0.48\"/>\n     <use xlink:href=\"#m48e50d8d60\" x=\"199.796367\" y=\"133.280385\" style=\"fill: #1f77b4; stroke: #ffffff; stroke-width: 0.48\"/>\n     <use xlink:href=\"#m48e50d8d60\" x=\"253.069308\" y=\"75.753658\" style=\"fill: #1f77b4; stroke: #ffffff; stroke-width: 0.48\"/>\n     <use xlink:href=\"#m48e50d8d60\" x=\"227.900094\" y=\"105.794905\" style=\"fill: #1f77b4; stroke: #ffffff; stroke-width: 0.48\"/>\n     <use xlink:href=\"#m48e50d8d60\" x=\"304.337367\" y=\"30.029121\" style=\"fill: #1f77b4; stroke: #ffffff; stroke-width: 0.48\"/>\n     <use xlink:href=\"#m48e50d8d60\" x=\"304.044738\" y=\"28.515539\" style=\"fill: #1f77b4; stroke: #ffffff; stroke-width: 0.48\"/>\n     <use xlink:href=\"#m48e50d8d60\" x=\"247.620983\" y=\"60.836751\" style=\"fill: #1f77b4; stroke: #ffffff; stroke-width: 0.48\"/>\n     <use xlink:href=\"#m48e50d8d60\" x=\"311.834754\" y=\"66.350829\" style=\"fill: #1f77b4; stroke: #ffffff; stroke-width: 0.48\"/>\n     <use xlink:href=\"#m48e50d8d60\" x=\"143.583552\" y=\"203.715073\" style=\"fill: #1f77b4; stroke: #ffffff; stroke-width: 0.48\"/>\n     <use xlink:href=\"#m48e50d8d60\" x=\"239.76389\" y=\"97.616157\" style=\"fill: #1f77b4; stroke: #ffffff; stroke-width: 0.48\"/>\n     <use xlink:href=\"#m48e50d8d60\" x=\"154.037939\" y=\"187.853442\" style=\"fill: #1f77b4; stroke: #ffffff; stroke-width: 0.48\"/>\n     <use xlink:href=\"#m48e50d8d60\" x=\"184.976598\" y=\"165.579461\" style=\"fill: #1f77b4; stroke: #ffffff; stroke-width: 0.48\"/>\n     <use xlink:href=\"#m48e50d8d60\" x=\"261.897768\" y=\"85.822543\" style=\"fill: #1f77b4; stroke: #ffffff; stroke-width: 0.48\"/>\n     <use xlink:href=\"#m48e50d8d60\" x=\"212.663663\" y=\"124.349667\" style=\"fill: #1f77b4; stroke: #ffffff; stroke-width: 0.48\"/>\n     <use xlink:href=\"#m48e50d8d60\" x=\"118.624773\" y=\"194.399128\" style=\"fill: #1f77b4; stroke: #ffffff; stroke-width: 0.48\"/>\n     <use xlink:href=\"#m48e50d8d60\" x=\"171.254511\" y=\"148.365478\" style=\"fill: #1f77b4; stroke: #ffffff; stroke-width: 0.48\"/>\n     <use xlink:href=\"#m48e50d8d60\" x=\"276.08755\" y=\"40.680273\" style=\"fill: #1f77b4; stroke: #ffffff; stroke-width: 0.48\"/>\n     <use xlink:href=\"#m48e50d8d60\" x=\"239.184151\" y=\"83.104797\" style=\"fill: #1f77b4; stroke: #ffffff; stroke-width: 0.48\"/>\n     <use xlink:href=\"#m48e50d8d60\" x=\"218.189904\" y=\"106.520136\" style=\"fill: #1f77b4; stroke: #ffffff; stroke-width: 0.48\"/>\n     <use xlink:href=\"#m48e50d8d60\" x=\"249.886884\" y=\"59.805746\" style=\"fill: #1f77b4; stroke: #ffffff; stroke-width: 0.48\"/>\n     <use xlink:href=\"#m48e50d8d60\" x=\"201.583583\" y=\"124.386348\" style=\"fill: #1f77b4; stroke: #ffffff; stroke-width: 0.48\"/>\n     <use xlink:href=\"#m48e50d8d60\" x=\"160.181453\" y=\"190.769146\" style=\"fill: #1f77b4; stroke: #ffffff; stroke-width: 0.48\"/>\n     <use xlink:href=\"#m48e50d8d60\" x=\"158.273441\" y=\"195.81941\" style=\"fill: #1f77b4; stroke: #ffffff; stroke-width: 0.48\"/>\n     <use xlink:href=\"#m48e50d8d60\" x=\"181.907003\" y=\"164.80447\" style=\"fill: #1f77b4; stroke: #ffffff; stroke-width: 0.48\"/>\n     <use xlink:href=\"#m48e50d8d60\" x=\"73.492198\" y=\"127.440684\" style=\"fill: #1f77b4; stroke: #ffffff; stroke-width: 0.48\"/>\n     <use xlink:href=\"#m48e50d8d60\" x=\"148.952271\" y=\"170.95461\" style=\"fill: #1f77b4; stroke: #ffffff; stroke-width: 0.48\"/>\n     <use xlink:href=\"#m48e50d8d60\" x=\"292.48917\" y=\"30.412283\" style=\"fill: #1f77b4; stroke: #ffffff; stroke-width: 0.48\"/>\n     <use xlink:href=\"#m48e50d8d60\" x=\"118.873016\" y=\"166.125806\" style=\"fill: #1f77b4; stroke: #ffffff; stroke-width: 0.48\"/>\n     <use xlink:href=\"#m48e50d8d60\" x=\"261.599637\" y=\"50.561431\" style=\"fill: #1f77b4; stroke: #ffffff; stroke-width: 0.48\"/>\n     <use xlink:href=\"#m48e50d8d60\" x=\"224.947607\" y=\"104.394197\" style=\"fill: #1f77b4; stroke: #ffffff; stroke-width: 0.48\"/>\n     <use xlink:href=\"#m48e50d8d60\" x=\"316.732078\" y=\"17.49074\" style=\"fill: #1f77b4; stroke: #ffffff; stroke-width: 0.48\"/>\n     <use xlink:href=\"#m48e50d8d60\" x=\"170.903577\" y=\"170.674651\" style=\"fill: #1f77b4; stroke: #ffffff; stroke-width: 0.48\"/>\n     <use xlink:href=\"#m48e50d8d60\" x=\"367.968552\" y=\"111.139886\" style=\"fill: #1f77b4; stroke: #ffffff; stroke-width: 0.48\"/>\n     <use xlink:href=\"#m48e50d8d60\" x=\"195.832168\" y=\"188.45337\" style=\"fill: #1f77b4; stroke: #ffffff; stroke-width: 0.48\"/>\n     <use xlink:href=\"#m48e50d8d60\" x=\"110.759684\" y=\"181.613901\" style=\"fill: #1f77b4; stroke: #ffffff; stroke-width: 0.48\"/>\n     <use xlink:href=\"#m48e50d8d60\" x=\"202.676371\" y=\"118.09701\" style=\"fill: #1f77b4; stroke: #ffffff; stroke-width: 0.48\"/>\n     <use xlink:href=\"#m48e50d8d60\" x=\"78.919593\" y=\"142.265101\" style=\"fill: #1f77b4; stroke: #ffffff; stroke-width: 0.48\"/>\n     <use xlink:href=\"#m48e50d8d60\" x=\"151.217536\" y=\"181.916254\" style=\"fill: #1f77b4; stroke: #ffffff; stroke-width: 0.48\"/>\n     <use xlink:href=\"#m48e50d8d60\" x=\"363.540887\" y=\"85.55514\" style=\"fill: #1f77b4; stroke: #ffffff; stroke-width: 0.48\"/>\n     <use xlink:href=\"#m48e50d8d60\" x=\"216.402749\" y=\"124.859146\" style=\"fill: #1f77b4; stroke: #ffffff; stroke-width: 0.48\"/>\n     <use xlink:href=\"#m48e50d8d60\" x=\"225.762187\" y=\"115.261286\" style=\"fill: #1f77b4; stroke: #ffffff; stroke-width: 0.48\"/>\n     <use xlink:href=\"#m48e50d8d60\" x=\"80.77599\" y=\"152.551307\" style=\"fill: #1f77b4; stroke: #ffffff; stroke-width: 0.48\"/>\n     <use xlink:href=\"#m48e50d8d60\" x=\"210.667319\" y=\"130.288496\" style=\"fill: #1f77b4; stroke: #ffffff; stroke-width: 0.48\"/>\n     <use xlink:href=\"#m48e50d8d60\" x=\"275.979868\" y=\"30.57042\" style=\"fill: #1f77b4; stroke: #ffffff; stroke-width: 0.48\"/>\n     <use xlink:href=\"#m48e50d8d60\" x=\"157.458179\" y=\"175.034734\" style=\"fill: #1f77b4; stroke: #ffffff; stroke-width: 0.48\"/>\n     <use xlink:href=\"#m48e50d8d60\" x=\"133.351396\" y=\"176.892051\" style=\"fill: #1f77b4; stroke: #ffffff; stroke-width: 0.48\"/>\n     <use xlink:href=\"#m48e50d8d60\" x=\"259.043817\" y=\"65.590716\" style=\"fill: #1f77b4; stroke: #ffffff; stroke-width: 0.48\"/>\n     <use xlink:href=\"#m48e50d8d60\" x=\"81.044142\" y=\"118.871277\" style=\"fill: #1f77b4; stroke: #ffffff; stroke-width: 0.48\"/>\n     <use xlink:href=\"#m48e50d8d60\" x=\"364.55214\" y=\"86.488921\" style=\"fill: #1f77b4; stroke: #ffffff; stroke-width: 0.48\"/>\n     <use xlink:href=\"#m48e50d8d60\" x=\"73.37853\" y=\"125.477982\" style=\"fill: #1f77b4; stroke: #ffffff; stroke-width: 0.48\"/>\n     <use xlink:href=\"#m48e50d8d60\" x=\"67.379119\" y=\"140.538389\" style=\"fill: #1f77b4; stroke: #ffffff; stroke-width: 0.48\"/>\n     <use xlink:href=\"#m48e50d8d60\" x=\"348.337643\" y=\"62.037365\" style=\"fill: #1f77b4; stroke: #ffffff; stroke-width: 0.48\"/>\n     <use xlink:href=\"#m48e50d8d60\" x=\"362.594367\" y=\"91.186501\" style=\"fill: #1f77b4; stroke: #ffffff; stroke-width: 0.48\"/>\n     <use xlink:href=\"#m48e50d8d60\" x=\"304.732028\" y=\"43.143079\" style=\"fill: #1f77b4; stroke: #ffffff; stroke-width: 0.48\"/>\n     <use xlink:href=\"#m48e50d8d60\" x=\"231.534096\" y=\"84.676928\" style=\"fill: #1f77b4; stroke: #ffffff; stroke-width: 0.48\"/>\n     <use xlink:href=\"#m48e50d8d60\" x=\"216.152566\" y=\"126.78288\" style=\"fill: #1f77b4; stroke: #ffffff; stroke-width: 0.48\"/>\n     <use xlink:href=\"#m48e50d8d60\" x=\"221.986485\" y=\"104.815476\" style=\"fill: #1f77b4; stroke: #ffffff; stroke-width: 0.48\"/>\n     <use xlink:href=\"#m48e50d8d60\" x=\"244.16643\" y=\"89.392863\" style=\"fill: #1f77b4; stroke: #ffffff; stroke-width: 0.48\"/>\n     <use xlink:href=\"#m48e50d8d60\" x=\"144.873105\" y=\"174.375725\" style=\"fill: #1f77b4; stroke: #ffffff; stroke-width: 0.48\"/>\n     <use xlink:href=\"#m48e50d8d60\" x=\"123.114022\" y=\"169.910535\" style=\"fill: #1f77b4; stroke: #ffffff; stroke-width: 0.48\"/>\n     <use xlink:href=\"#m48e50d8d60\" x=\"338.776805\" y=\"48.419637\" style=\"fill: #1f77b4; stroke: #ffffff; stroke-width: 0.48\"/>\n     <use xlink:href=\"#m48e50d8d60\" x=\"268.647764\" y=\"26.894597\" style=\"fill: #1f77b4; stroke: #ffffff; stroke-width: 0.48\"/>\n     <use xlink:href=\"#m48e50d8d60\" x=\"171.921707\" y=\"174.61339\" style=\"fill: #1f77b4; stroke: #ffffff; stroke-width: 0.48\"/>\n     <use xlink:href=\"#m48e50d8d60\" x=\"105.497323\" y=\"147.711323\" style=\"fill: #1f77b4; stroke: #ffffff; stroke-width: 0.48\"/>\n     <use xlink:href=\"#m48e50d8d60\" x=\"86.561499\" y=\"171.424638\" style=\"fill: #1f77b4; stroke: #ffffff; stroke-width: 0.48\"/>\n     <use xlink:href=\"#m48e50d8d60\" x=\"84.735675\" y=\"152.321447\" style=\"fill: #1f77b4; stroke: #ffffff; stroke-width: 0.48\"/>\n     <use xlink:href=\"#m48e50d8d60\" x=\"211.55198\" y=\"133.232301\" style=\"fill: #1f77b4; stroke: #ffffff; stroke-width: 0.48\"/>\n     <use xlink:href=\"#m48e50d8d60\" x=\"92.198875\" y=\"144.521347\" style=\"fill: #1f77b4; stroke: #ffffff; stroke-width: 0.48\"/>\n     <use xlink:href=\"#m48e50d8d60\" x=\"108.084275\" y=\"162.554449\" style=\"fill: #1f77b4; stroke: #ffffff; stroke-width: 0.48\"/>\n     <use xlink:href=\"#m48e50d8d60\" x=\"244.256587\" y=\"65.742024\" style=\"fill: #1f77b4; stroke: #ffffff; stroke-width: 0.48\"/>\n     <use xlink:href=\"#m48e50d8d60\" x=\"71.494005\" y=\"135.213966\" style=\"fill: #1f77b4; stroke: #ffffff; stroke-width: 0.48\"/>\n     <use xlink:href=\"#m48e50d8d60\" x=\"164.836476\" y=\"169.019605\" style=\"fill: #1f77b4; stroke: #ffffff; stroke-width: 0.48\"/>\n     <use xlink:href=\"#m48e50d8d60\" x=\"304.651158\" y=\"56.57526\" style=\"fill: #1f77b4; stroke: #ffffff; stroke-width: 0.48\"/>\n     <use xlink:href=\"#m48e50d8d60\" x=\"199.905153\" y=\"114.532033\" style=\"fill: #1f77b4; stroke: #ffffff; stroke-width: 0.48\"/>\n     <use xlink:href=\"#m48e50d8d60\" x=\"255.834712\" y=\"120.343748\" style=\"fill: #1f77b4; stroke: #ffffff; stroke-width: 0.48\"/>\n     <use xlink:href=\"#m48e50d8d60\" x=\"311.514432\" y=\"29.912542\" style=\"fill: #1f77b4; stroke: #ffffff; stroke-width: 0.48\"/>\n     <use xlink:href=\"#m48e50d8d60\" x=\"195.546077\" y=\"130.425796\" style=\"fill: #1f77b4; stroke: #ffffff; stroke-width: 0.48\"/>\n     <use xlink:href=\"#m48e50d8d60\" x=\"340.700727\" y=\"47.161845\" style=\"fill: #1f77b4; stroke: #ffffff; stroke-width: 0.48\"/>\n     <use xlink:href=\"#m48e50d8d60\" x=\"313.148164\" y=\"44.860319\" style=\"fill: #1f77b4; stroke: #ffffff; stroke-width: 0.48\"/>\n     <use xlink:href=\"#m48e50d8d60\" x=\"71.282352\" y=\"138.33924\" style=\"fill: #1f77b4; stroke: #ffffff; stroke-width: 0.48\"/>\n     <use xlink:href=\"#m48e50d8d60\" x=\"239.977289\" y=\"57.913156\" style=\"fill: #1f77b4; stroke: #ffffff; stroke-width: 0.48\"/>\n     <use xlink:href=\"#m48e50d8d60\" x=\"177.812027\" y=\"158.711208\" style=\"fill: #1f77b4; stroke: #ffffff; stroke-width: 0.48\"/>\n     <use xlink:href=\"#m48e50d8d60\" x=\"305.714119\" y=\"17.083636\" style=\"fill: #1f77b4; stroke: #ffffff; stroke-width: 0.48\"/>\n     <use xlink:href=\"#m48e50d8d60\" x=\"330.757336\" y=\"70.353079\" style=\"fill: #1f77b4; stroke: #ffffff; stroke-width: 0.48\"/>\n     <use xlink:href=\"#m48e50d8d60\" x=\"225.12451\" y=\"118.003053\" style=\"fill: #1f77b4; stroke: #ffffff; stroke-width: 0.48\"/>\n     <use xlink:href=\"#m48e50d8d60\" x=\"218.554364\" y=\"133.911804\" style=\"fill: #1f77b4; stroke: #ffffff; stroke-width: 0.48\"/>\n     <use xlink:href=\"#m48e50d8d60\" x=\"124.83862\" y=\"190.393319\" style=\"fill: #1f77b4; stroke: #ffffff; stroke-width: 0.48\"/>\n     <use xlink:href=\"#m48e50d8d60\" x=\"216.417177\" y=\"130.21846\" style=\"fill: #1f77b4; stroke: #ffffff; stroke-width: 0.48\"/>\n     <use xlink:href=\"#m48e50d8d60\" x=\"104.770721\" y=\"185.098335\" style=\"fill: #1f77b4; stroke: #ffffff; stroke-width: 0.48\"/>\n     <use xlink:href=\"#m48e50d8d60\" x=\"371.742756\" y=\"94.959954\" style=\"fill: #1f77b4; stroke: #ffffff; stroke-width: 0.48\"/>\n     <use xlink:href=\"#m48e50d8d60\" x=\"94.650216\" y=\"137.794191\" style=\"fill: #1f77b4; stroke: #ffffff; stroke-width: 0.48\"/>\n     <use xlink:href=\"#m48e50d8d60\" x=\"275.929471\" y=\"52.356221\" style=\"fill: #1f77b4; stroke: #ffffff; stroke-width: 0.48\"/>\n     <use xlink:href=\"#m48e50d8d60\" x=\"182.786124\" y=\"158.326352\" style=\"fill: #1f77b4; stroke: #ffffff; stroke-width: 0.48\"/>\n    </g>\n   </g>\n   <g id=\"patch_3\">\n    <path d=\"M 52.160938 224.64 \nL 52.160938 7.2 \n\" style=\"fill: none; stroke: #cccccc; stroke-width: 0.8; stroke-linejoin: miter; stroke-linecap: square\"/>\n   </g>\n   <g id=\"patch_4\">\n    <path d=\"M 386.960938 224.64 \nL 386.960938 7.2 \n\" style=\"fill: none; stroke: #cccccc; stroke-width: 0.8; stroke-linejoin: miter; stroke-linecap: square\"/>\n   </g>\n   <g id=\"patch_5\">\n    <path d=\"M 52.160937 224.64 \nL 386.960938 224.64 \n\" style=\"fill: none; stroke: #cccccc; stroke-width: 0.8; stroke-linejoin: miter; stroke-linecap: square\"/>\n   </g>\n   <g id=\"patch_6\">\n    <path d=\"M 52.160937 7.2 \nL 386.960938 7.2 \n\" style=\"fill: none; stroke: #cccccc; stroke-width: 0.8; stroke-linejoin: miter; stroke-linecap: square\"/>\n   </g>\n  </g>\n </g>\n <defs>\n  <clipPath id=\"p307f51bcb3\">\n   <rect x=\"52.160938\" y=\"7.2\" width=\"334.8\" height=\"217.44\"/>\n  </clipPath>\n </defs>\n</svg>\n"
     },
     "metadata": {
      "needs_background": "light"
     },
     "output_type": "display_data"
    }
   ],
   "source": [
    "sns.scatterplot(data=df, x = 'x', y = 'f(x)')"
   ],
   "metadata": {
    "collapsed": false,
    "pycharm": {
     "name": "#%%\n"
    }
   }
  },
  {
   "cell_type": "code",
   "execution_count": 51,
   "outputs": [
    {
     "name": "stdout",
     "output_type": "stream",
     "text": [
      "-1.194916    1\n",
      " 0.110611    1\n",
      "-0.286672    1\n",
      "-0.553549    1\n",
      "-0.820622    1\n",
      "            ..\n",
      "-0.728069    1\n",
      "-1.161675    1\n",
      "-1.091069    1\n",
      "-0.163001    1\n",
      "-0.637501    1\n",
      "Name: f(x), Length: 100, dtype: int64\n",
      "feature: x, values {'left': -0.6822923670092976, 'right': 0.5136846315796} split_predict 0.1765235774689355\n",
      "\n",
      "{'best_score': 0.1765235774689355, 'best_feature': 'x', 'best_threshold': -0.2759854862018578, 'left_value': -0.6822923670092976, 'right_value': 0.5136846315796} \n",
      "------------------------------\n",
      "\n",
      "-1.194916    1\n",
      "-0.556763    1\n",
      "-0.897060    1\n",
      "-0.085897    1\n",
      "-0.178262    1\n",
      "-0.388815    1\n",
      "-0.861880    1\n",
      "-0.799454    1\n",
      "-0.865203    1\n",
      "-0.489097    1\n",
      "-0.820622    1\n",
      "-0.553549    1\n",
      "-0.444499    1\n",
      "-0.696612    1\n",
      "-0.314377    1\n",
      "-0.786999    1\n",
      "-0.025232    1\n",
      "-0.247436    1\n",
      "-0.358070    1\n",
      "-0.642881    1\n",
      "-1.085815    1\n",
      "-1.011788    1\n",
      "-0.350450    1\n",
      "-0.871094    1\n",
      "-0.967301    1\n",
      "-0.406270    1\n",
      "-0.412956    1\n",
      "-0.621893    1\n",
      "-0.569885    1\n",
      "-1.426424    1\n",
      "-1.057563    1\n",
      "-0.287344    1\n",
      "-1.272061    1\n",
      "-1.050306    1\n",
      "-0.738904    1\n",
      "-1.141819    1\n",
      "-0.498242    1\n",
      "-0.163001    1\n",
      "-1.091069    1\n",
      "-1.161675    1\n",
      "-0.728069    1\n",
      "-0.205702    1\n",
      "-0.814051    1\n",
      "-0.746542    1\n",
      "-0.810137    1\n",
      "-1.058694    1\n",
      "-0.963074    1\n",
      "-0.075072    1\n",
      "-0.637501    1\n",
      "Name: f(x), dtype: int64\n",
      "feature: x, values {'left': -0.6270175355453654, 'right': -0.7353562052146727} split_predict 0.11694255271350455\n",
      "\n",
      "{'best_score': 0.11694255271350455, 'best_feature': 'x', 'best_threshold': -1.7835995161552782, 'left_value': -0.6270175355453654, 'right_value': -0.7353562052146727} \n",
      "------------------------------\n",
      "\n",
      " 0.901590    1\n",
      " 0.785036    1\n",
      " 0.301152    1\n",
      " 0.972826    1\n",
      " 0.392159    1\n",
      "-0.196506    1\n",
      " 0.110611    1\n",
      " 0.326228    1\n",
      " 0.899056    1\n",
      " 1.199988    1\n",
      "-0.286672    1\n",
      " 0.656880    1\n",
      "-0.106483    1\n",
      " 0.366827    1\n",
      " 1.157796    1\n",
      " 0.916641    1\n",
      " 0.948818    1\n",
      " 0.766332    1\n",
      " 1.337151    1\n",
      " 0.592415    1\n",
      "-0.073759    1\n",
      "-0.296172    1\n",
      "-0.244537    1\n",
      " 0.248397    1\n",
      " 0.708673    1\n",
      " 0.658995    1\n",
      " 0.748341    1\n",
      " 0.414138    1\n",
      " 0.516911    1\n",
      " 0.096918    1\n",
      " 1.156166    1\n",
      " 1.177327    1\n",
      " 0.725458    1\n",
      " 0.648368    1\n",
      " 0.211262    1\n",
      " 0.376143    1\n",
      "-0.162488    1\n",
      " 1.007257    1\n",
      " 0.086779    1\n",
      " 1.148598    1\n",
      " 0.739872    1\n",
      " 1.150809    1\n",
      " 0.869113    1\n",
      " 0.116501    1\n",
      " 1.331460    1\n",
      " 0.022192    1\n",
      " 0.379881    1\n",
      "-0.169611    1\n",
      "-0.035427    1\n",
      "-0.245516    1\n",
      " 0.844021    1\n",
      "Name: f(x), dtype: int64\n",
      "feature: x, values {'left': 0.19483946976589422, 'right': 0.8202665179389326} split_predict 0.13319786889272286\n",
      "\n",
      "{'best_score': 0.13319786889272286, 'best_feature': 'x', 'best_threshold': 0.7969972447853289, 'left_value': 0.19483946976589422, 'right_value': 0.8202665179389326} \n",
      "------------------------------\n",
      "\n",
      "-1.194916    1\n",
      "-0.621893    1\n",
      "-1.011788    1\n",
      "-1.085815    1\n",
      "-0.358070    1\n",
      "-0.314377    1\n",
      "-0.696612    1\n",
      "-0.444499    1\n",
      "-0.553549    1\n",
      "-0.820622    1\n",
      "-0.489097    1\n",
      "-0.799454    1\n",
      "-0.388815    1\n",
      "-0.178262    1\n",
      "-0.085897    1\n",
      "-0.556763    1\n",
      "-0.412956    1\n",
      "-0.963074    1\n",
      "-0.746542    1\n",
      "-0.205702    1\n",
      "-1.141819    1\n",
      "-1.057563    1\n",
      "-0.569885    1\n",
      "-0.350450    1\n",
      "Name: f(x), dtype: int64\n",
      "feature: x, values {'left': -0.3891635405533525, 'right': -0.8648715305373781} split_predict 0.04415505469778284\n",
      "\n",
      "{'best_score': 0.04415505469778284, 'best_feature': 'x', 'best_threshold': -2.359759236877478, 'left_value': -0.3891635405533525, 'right_value': -0.8648715305373781} \n",
      "------------------------------\n",
      "\n",
      "-0.406270    1\n",
      "-1.058694    1\n",
      "-0.642881    1\n",
      "-0.247436    1\n",
      "-0.025232    1\n",
      "-0.786999    1\n",
      "-0.865203    1\n",
      "-0.861880    1\n",
      "-0.897060    1\n",
      "-0.871094    1\n",
      "-0.967301    1\n",
      "-0.075072    1\n",
      "-0.810137    1\n",
      "-1.426424    1\n",
      "-0.814051    1\n",
      "-0.728069    1\n",
      "-1.161675    1\n",
      "-1.091069    1\n",
      "-0.163001    1\n",
      "-0.498242    1\n",
      "-0.738904    1\n",
      "-1.050306    1\n",
      "-1.272061    1\n",
      "-0.287344    1\n",
      "-0.637501    1\n",
      "Name: f(x), dtype: int64\n",
      "feature: x, values {'left': -1.0008380685661584, 'right': -0.49029602365945507} split_predict 0.06744797515975082\n",
      "\n",
      "{'best_score': 0.06744797515975082, 'best_feature': 'x', 'best_threshold': -0.9693885308142827, 'left_value': -1.0008380685661584, 'right_value': -0.49029602365945507} \n",
      "------------------------------\n",
      "\n",
      " 0.516911    1\n",
      " 0.658995    1\n",
      "-0.296172    1\n",
      "-0.073759    1\n",
      " 0.766332    1\n",
      "-0.106483    1\n",
      " 0.656880    1\n",
      "-0.286672    1\n",
      " 0.326228    1\n",
      " 0.110611    1\n",
      "-0.196506    1\n",
      " 0.392159    1\n",
      "-0.245516    1\n",
      " 0.096918    1\n",
      "-0.035427    1\n",
      "-0.169611    1\n",
      " 0.116501    1\n",
      " 0.869113    1\n",
      " 0.739872    1\n",
      " 0.086779    1\n",
      " 0.414138    1\n",
      "-0.162488    1\n",
      " 0.211262    1\n",
      " 0.725458    1\n",
      "-0.244537    1\n",
      "Name: f(x), dtype: int64\n",
      "feature: x, values {'left': -0.11639971690005035, 'right': 0.4821371805344584} split_predict 0.05142588011426863\n",
      "\n",
      "{'best_score': 0.05142588011426863, 'best_feature': 'x', 'best_threshold': 0.11674890256586767, 'left_value': -0.11639971690005035, 'right_value': 0.4821371805344584} \n",
      "------------------------------\n",
      "\n",
      "0.901590    1\n",
      "0.748341    1\n",
      "0.248397    1\n",
      "0.592415    1\n",
      "1.337151    1\n",
      "0.948818    1\n",
      "0.916641    1\n",
      "1.157796    1\n",
      "0.785036    1\n",
      "1.199988    1\n",
      "0.899056    1\n",
      "0.972826    1\n",
      "0.301152    1\n",
      "0.708673    1\n",
      "0.366827    1\n",
      "1.148598    1\n",
      "0.379881    1\n",
      "0.022192    1\n",
      "1.331460    1\n",
      "1.150809    1\n",
      "1.007257    1\n",
      "0.376143    1\n",
      "0.648368    1\n",
      "1.177327    1\n",
      "1.156166    1\n",
      "0.844021    1\n",
      "Name: f(x), dtype: int64\n",
      "feature: x, values {'left': 0.9850195797416892, 'right': 0.6555134561361761} split_predict 0.09870206958458848\n",
      "\n",
      "{'best_score': 0.09870206958458848, 'best_feature': 'x', 'best_threshold': 1.728561615257147, 'left_value': 0.9850195797416892, 'right_value': 0.6555134561361761} \n",
      "------------------------------\n",
      "\n",
      "OK!\n"
     ]
    }
   ],
   "source": [
    "model = TreeRegressor(max_depth=3, metric=mse, criterion='entropy', minimize=True)\n",
    "model.fit(df, target='f(x)')\n",
    "model.predict(df, 'pred f(x)')"
   ],
   "metadata": {
    "collapsed": false,
    "pycharm": {
     "name": "#%%\n"
    }
   }
  },
  {
   "cell_type": "code",
   "execution_count": 52,
   "outputs": [
    {
     "data": {
      "text/plain": "<AxesSubplot:xlabel='x', ylabel='pred f(x)'>"
     },
     "execution_count": 52,
     "metadata": {},
     "output_type": "execute_result"
    },
    {
     "data": {
      "text/plain": "<Figure size 432x288 with 1 Axes>",
      "image/svg+xml": "<?xml version=\"1.0\" encoding=\"utf-8\" standalone=\"no\"?>\n<!DOCTYPE svg PUBLIC \"-//W3C//DTD SVG 1.1//EN\"\n  \"http://www.w3.org/Graphics/SVG/1.1/DTD/svg11.dtd\">\n<svg xmlns:xlink=\"http://www.w3.org/1999/xlink\" width=\"400.523437pt\" height=\"262.19625pt\" viewBox=\"0 0 400.523437 262.19625\" xmlns=\"http://www.w3.org/2000/svg\" version=\"1.1\">\n <metadata>\n  <rdf:RDF xmlns:dc=\"http://purl.org/dc/elements/1.1/\" xmlns:cc=\"http://creativecommons.org/ns#\" xmlns:rdf=\"http://www.w3.org/1999/02/22-rdf-syntax-ns#\">\n   <cc:Work>\n    <dc:type rdf:resource=\"http://purl.org/dc/dcmitype/StillImage\"/>\n    <dc:date>2022-08-10T16:55:08.338477</dc:date>\n    <dc:format>image/svg+xml</dc:format>\n    <dc:creator>\n     <cc:Agent>\n      <dc:title>Matplotlib v3.5.2, https://matplotlib.org/</dc:title>\n     </cc:Agent>\n    </dc:creator>\n   </cc:Work>\n  </rdf:RDF>\n </metadata>\n <defs>\n  <style type=\"text/css\">*{stroke-linejoin: round; stroke-linecap: butt}</style>\n </defs>\n <g id=\"figure_1\">\n  <g id=\"patch_1\">\n   <path d=\"M 0 262.19625 \nL 400.523437 262.19625 \nL 400.523437 0 \nL 0 0 \nL 0 262.19625 \nz\n\" style=\"fill: none\"/>\n  </g>\n  <g id=\"axes_1\">\n   <g id=\"patch_2\">\n    <path d=\"M 58.523438 224.64 \nL 393.323438 224.64 \nL 393.323438 7.2 \nL 58.523438 7.2 \nz\n\" style=\"fill: #ffffff\"/>\n   </g>\n   <g id=\"matplotlib.axis_1\">\n    <g id=\"xtick_1\">\n     <g id=\"line2d_1\">\n      <path d=\"M 73.20902 224.64 \nL 73.20902 7.2 \n\" clip-path=\"url(#p4860f903fb)\" style=\"fill: none; stroke: #cccccc; stroke-width: 0.8; stroke-linecap: round\"/>\n     </g>\n     <g id=\"text_1\">\n      <!-- −3 -->\n      <g style=\"fill: #262626\" transform=\"translate(65.837926 239.238437)scale(0.1 -0.1)\">\n       <defs>\n        <path id=\"DejaVuSans-2212\" d=\"M 678 2272 \nL 4684 2272 \nL 4684 1741 \nL 678 1741 \nL 678 2272 \nz\n\" transform=\"scale(0.015625)\"/>\n        <path id=\"DejaVuSans-33\" d=\"M 2597 2516 \nQ 3050 2419 3304 2112 \nQ 3559 1806 3559 1356 \nQ 3559 666 3084 287 \nQ 2609 -91 1734 -91 \nQ 1441 -91 1130 -33 \nQ 819 25 488 141 \nL 488 750 \nQ 750 597 1062 519 \nQ 1375 441 1716 441 \nQ 2309 441 2620 675 \nQ 2931 909 2931 1356 \nQ 2931 1769 2642 2001 \nQ 2353 2234 1838 2234 \nL 1294 2234 \nL 1294 2753 \nL 1863 2753 \nQ 2328 2753 2575 2939 \nQ 2822 3125 2822 3475 \nQ 2822 3834 2567 4026 \nQ 2313 4219 1838 4219 \nQ 1578 4219 1281 4162 \nQ 984 4106 628 3988 \nL 628 4550 \nQ 988 4650 1302 4700 \nQ 1616 4750 1894 4750 \nQ 2613 4750 3031 4423 \nQ 3450 4097 3450 3541 \nQ 3450 3153 3228 2886 \nQ 3006 2619 2597 2516 \nz\n\" transform=\"scale(0.015625)\"/>\n       </defs>\n       <use xlink:href=\"#DejaVuSans-2212\"/>\n       <use xlink:href=\"#DejaVuSans-33\" x=\"83.789062\"/>\n      </g>\n     </g>\n    </g>\n    <g id=\"xtick_2\">\n     <g id=\"line2d_2\">\n      <path d=\"M 124.539629 224.64 \nL 124.539629 7.2 \n\" clip-path=\"url(#p4860f903fb)\" style=\"fill: none; stroke: #cccccc; stroke-width: 0.8; stroke-linecap: round\"/>\n     </g>\n     <g id=\"text_2\">\n      <!-- −2 -->\n      <g style=\"fill: #262626\" transform=\"translate(117.168535 239.238437)scale(0.1 -0.1)\">\n       <defs>\n        <path id=\"DejaVuSans-32\" d=\"M 1228 531 \nL 3431 531 \nL 3431 0 \nL 469 0 \nL 469 531 \nQ 828 903 1448 1529 \nQ 2069 2156 2228 2338 \nQ 2531 2678 2651 2914 \nQ 2772 3150 2772 3378 \nQ 2772 3750 2511 3984 \nQ 2250 4219 1831 4219 \nQ 1534 4219 1204 4116 \nQ 875 4013 500 3803 \nL 500 4441 \nQ 881 4594 1212 4672 \nQ 1544 4750 1819 4750 \nQ 2544 4750 2975 4387 \nQ 3406 4025 3406 3419 \nQ 3406 3131 3298 2873 \nQ 3191 2616 2906 2266 \nQ 2828 2175 2409 1742 \nQ 1991 1309 1228 531 \nz\n\" transform=\"scale(0.015625)\"/>\n       </defs>\n       <use xlink:href=\"#DejaVuSans-2212\"/>\n       <use xlink:href=\"#DejaVuSans-32\" x=\"83.789062\"/>\n      </g>\n     </g>\n    </g>\n    <g id=\"xtick_3\">\n     <g id=\"line2d_3\">\n      <path d=\"M 175.870239 224.64 \nL 175.870239 7.2 \n\" clip-path=\"url(#p4860f903fb)\" style=\"fill: none; stroke: #cccccc; stroke-width: 0.8; stroke-linecap: round\"/>\n     </g>\n     <g id=\"text_3\">\n      <!-- −1 -->\n      <g style=\"fill: #262626\" transform=\"translate(168.499145 239.238437)scale(0.1 -0.1)\">\n       <defs>\n        <path id=\"DejaVuSans-31\" d=\"M 794 531 \nL 1825 531 \nL 1825 4091 \nL 703 3866 \nL 703 4441 \nL 1819 4666 \nL 2450 4666 \nL 2450 531 \nL 3481 531 \nL 3481 0 \nL 794 0 \nL 794 531 \nz\n\" transform=\"scale(0.015625)\"/>\n       </defs>\n       <use xlink:href=\"#DejaVuSans-2212\"/>\n       <use xlink:href=\"#DejaVuSans-31\" x=\"83.789062\"/>\n      </g>\n     </g>\n    </g>\n    <g id=\"xtick_4\">\n     <g id=\"line2d_4\">\n      <path d=\"M 227.200848 224.64 \nL 227.200848 7.2 \n\" clip-path=\"url(#p4860f903fb)\" style=\"fill: none; stroke: #cccccc; stroke-width: 0.8; stroke-linecap: round\"/>\n     </g>\n     <g id=\"text_4\">\n      <!-- 0 -->\n      <g style=\"fill: #262626\" transform=\"translate(224.019598 239.238437)scale(0.1 -0.1)\">\n       <defs>\n        <path id=\"DejaVuSans-30\" d=\"M 2034 4250 \nQ 1547 4250 1301 3770 \nQ 1056 3291 1056 2328 \nQ 1056 1369 1301 889 \nQ 1547 409 2034 409 \nQ 2525 409 2770 889 \nQ 3016 1369 3016 2328 \nQ 3016 3291 2770 3770 \nQ 2525 4250 2034 4250 \nz\nM 2034 4750 \nQ 2819 4750 3233 4129 \nQ 3647 3509 3647 2328 \nQ 3647 1150 3233 529 \nQ 2819 -91 2034 -91 \nQ 1250 -91 836 529 \nQ 422 1150 422 2328 \nQ 422 3509 836 4129 \nQ 1250 4750 2034 4750 \nz\n\" transform=\"scale(0.015625)\"/>\n       </defs>\n       <use xlink:href=\"#DejaVuSans-30\"/>\n      </g>\n     </g>\n    </g>\n    <g id=\"xtick_5\">\n     <g id=\"line2d_5\">\n      <path d=\"M 278.531458 224.64 \nL 278.531458 7.2 \n\" clip-path=\"url(#p4860f903fb)\" style=\"fill: none; stroke: #cccccc; stroke-width: 0.8; stroke-linecap: round\"/>\n     </g>\n     <g id=\"text_5\">\n      <!-- 1 -->\n      <g style=\"fill: #262626\" transform=\"translate(275.350208 239.238437)scale(0.1 -0.1)\">\n       <use xlink:href=\"#DejaVuSans-31\"/>\n      </g>\n     </g>\n    </g>\n    <g id=\"xtick_6\">\n     <g id=\"line2d_6\">\n      <path d=\"M 329.862067 224.64 \nL 329.862067 7.2 \n\" clip-path=\"url(#p4860f903fb)\" style=\"fill: none; stroke: #cccccc; stroke-width: 0.8; stroke-linecap: round\"/>\n     </g>\n     <g id=\"text_6\">\n      <!-- 2 -->\n      <g style=\"fill: #262626\" transform=\"translate(326.680817 239.238437)scale(0.1 -0.1)\">\n       <use xlink:href=\"#DejaVuSans-32\"/>\n      </g>\n     </g>\n    </g>\n    <g id=\"xtick_7\">\n     <g id=\"line2d_7\">\n      <path d=\"M 381.192677 224.64 \nL 381.192677 7.2 \n\" clip-path=\"url(#p4860f903fb)\" style=\"fill: none; stroke: #cccccc; stroke-width: 0.8; stroke-linecap: round\"/>\n     </g>\n     <g id=\"text_7\">\n      <!-- 3 -->\n      <g style=\"fill: #262626\" transform=\"translate(378.011427 239.238437)scale(0.1 -0.1)\">\n       <use xlink:href=\"#DejaVuSans-33\"/>\n      </g>\n     </g>\n    </g>\n    <g id=\"text_8\">\n     <!-- x -->\n     <g style=\"fill: #262626\" transform=\"translate(222.964063 252.916562)scale(0.1 -0.1)\">\n      <defs>\n       <path id=\"DejaVuSans-78\" d=\"M 3513 3500 \nL 2247 1797 \nL 3578 0 \nL 2900 0 \nL 1881 1375 \nL 863 0 \nL 184 0 \nL 1544 1831 \nL 300 3500 \nL 978 3500 \nL 1906 2253 \nL 2834 3500 \nL 3513 3500 \nz\n\" transform=\"scale(0.015625)\"/>\n      </defs>\n      <use xlink:href=\"#DejaVuSans-78\"/>\n     </g>\n    </g>\n   </g>\n   <g id=\"matplotlib.axis_2\">\n    <g id=\"ytick_1\">\n     <g id=\"line2d_8\">\n      <path d=\"M 58.523438 214.672942 \nL 393.323438 214.672942 \n\" clip-path=\"url(#p4860f903fb)\" style=\"fill: none; stroke: #cccccc; stroke-width: 0.8; stroke-linecap: round\"/>\n     </g>\n     <g id=\"text_9\">\n      <!-- −1.00 -->\n      <g style=\"fill: #262626\" transform=\"translate(20.878125 218.472161)scale(0.1 -0.1)\">\n       <defs>\n        <path id=\"DejaVuSans-2e\" d=\"M 684 794 \nL 1344 794 \nL 1344 0 \nL 684 0 \nL 684 794 \nz\n\" transform=\"scale(0.015625)\"/>\n       </defs>\n       <use xlink:href=\"#DejaVuSans-2212\"/>\n       <use xlink:href=\"#DejaVuSans-31\" x=\"83.789062\"/>\n       <use xlink:href=\"#DejaVuSans-2e\" x=\"147.412109\"/>\n       <use xlink:href=\"#DejaVuSans-30\" x=\"179.199219\"/>\n       <use xlink:href=\"#DejaVuSans-30\" x=\"242.822266\"/>\n      </g>\n     </g>\n    </g>\n    <g id=\"ytick_2\">\n     <g id=\"line2d_9\">\n      <path d=\"M 58.523438 189.787885 \nL 393.323438 189.787885 \n\" clip-path=\"url(#p4860f903fb)\" style=\"fill: none; stroke: #cccccc; stroke-width: 0.8; stroke-linecap: round\"/>\n     </g>\n     <g id=\"text_10\">\n      <!-- −0.75 -->\n      <g style=\"fill: #262626\" transform=\"translate(20.878125 193.587103)scale(0.1 -0.1)\">\n       <defs>\n        <path id=\"DejaVuSans-37\" d=\"M 525 4666 \nL 3525 4666 \nL 3525 4397 \nL 1831 0 \nL 1172 0 \nL 2766 4134 \nL 525 4134 \nL 525 4666 \nz\n\" transform=\"scale(0.015625)\"/>\n        <path id=\"DejaVuSans-35\" d=\"M 691 4666 \nL 3169 4666 \nL 3169 4134 \nL 1269 4134 \nL 1269 2991 \nQ 1406 3038 1543 3061 \nQ 1681 3084 1819 3084 \nQ 2600 3084 3056 2656 \nQ 3513 2228 3513 1497 \nQ 3513 744 3044 326 \nQ 2575 -91 1722 -91 \nQ 1428 -91 1123 -41 \nQ 819 9 494 109 \nL 494 744 \nQ 775 591 1075 516 \nQ 1375 441 1709 441 \nQ 2250 441 2565 725 \nQ 2881 1009 2881 1497 \nQ 2881 1984 2565 2268 \nQ 2250 2553 1709 2553 \nQ 1456 2553 1204 2497 \nQ 953 2441 691 2322 \nL 691 4666 \nz\n\" transform=\"scale(0.015625)\"/>\n       </defs>\n       <use xlink:href=\"#DejaVuSans-2212\"/>\n       <use xlink:href=\"#DejaVuSans-30\" x=\"83.789062\"/>\n       <use xlink:href=\"#DejaVuSans-2e\" x=\"147.412109\"/>\n       <use xlink:href=\"#DejaVuSans-37\" x=\"179.199219\"/>\n       <use xlink:href=\"#DejaVuSans-35\" x=\"242.822266\"/>\n      </g>\n     </g>\n    </g>\n    <g id=\"ytick_3\">\n     <g id=\"line2d_10\">\n      <path d=\"M 58.523438 164.902827 \nL 393.323438 164.902827 \n\" clip-path=\"url(#p4860f903fb)\" style=\"fill: none; stroke: #cccccc; stroke-width: 0.8; stroke-linecap: round\"/>\n     </g>\n     <g id=\"text_11\">\n      <!-- −0.50 -->\n      <g style=\"fill: #262626\" transform=\"translate(20.878125 168.702046)scale(0.1 -0.1)\">\n       <use xlink:href=\"#DejaVuSans-2212\"/>\n       <use xlink:href=\"#DejaVuSans-30\" x=\"83.789062\"/>\n       <use xlink:href=\"#DejaVuSans-2e\" x=\"147.412109\"/>\n       <use xlink:href=\"#DejaVuSans-35\" x=\"179.199219\"/>\n       <use xlink:href=\"#DejaVuSans-30\" x=\"242.822266\"/>\n      </g>\n     </g>\n    </g>\n    <g id=\"ytick_4\">\n     <g id=\"line2d_11\">\n      <path d=\"M 58.523438 140.01777 \nL 393.323438 140.01777 \n\" clip-path=\"url(#p4860f903fb)\" style=\"fill: none; stroke: #cccccc; stroke-width: 0.8; stroke-linecap: round\"/>\n     </g>\n     <g id=\"text_12\">\n      <!-- −0.25 -->\n      <g style=\"fill: #262626\" transform=\"translate(20.878125 143.816988)scale(0.1 -0.1)\">\n       <use xlink:href=\"#DejaVuSans-2212\"/>\n       <use xlink:href=\"#DejaVuSans-30\" x=\"83.789062\"/>\n       <use xlink:href=\"#DejaVuSans-2e\" x=\"147.412109\"/>\n       <use xlink:href=\"#DejaVuSans-32\" x=\"179.199219\"/>\n       <use xlink:href=\"#DejaVuSans-35\" x=\"242.822266\"/>\n      </g>\n     </g>\n    </g>\n    <g id=\"ytick_5\">\n     <g id=\"line2d_12\">\n      <path d=\"M 58.523438 115.132712 \nL 393.323438 115.132712 \n\" clip-path=\"url(#p4860f903fb)\" style=\"fill: none; stroke: #cccccc; stroke-width: 0.8; stroke-linecap: round\"/>\n     </g>\n     <g id=\"text_13\">\n      <!-- 0.00 -->\n      <g style=\"fill: #262626\" transform=\"translate(29.257813 118.931931)scale(0.1 -0.1)\">\n       <use xlink:href=\"#DejaVuSans-30\"/>\n       <use xlink:href=\"#DejaVuSans-2e\" x=\"63.623047\"/>\n       <use xlink:href=\"#DejaVuSans-30\" x=\"95.410156\"/>\n       <use xlink:href=\"#DejaVuSans-30\" x=\"159.033203\"/>\n      </g>\n     </g>\n    </g>\n    <g id=\"ytick_6\">\n     <g id=\"line2d_13\">\n      <path d=\"M 58.523438 90.247654 \nL 393.323438 90.247654 \n\" clip-path=\"url(#p4860f903fb)\" style=\"fill: none; stroke: #cccccc; stroke-width: 0.8; stroke-linecap: round\"/>\n     </g>\n     <g id=\"text_14\">\n      <!-- 0.25 -->\n      <g style=\"fill: #262626\" transform=\"translate(29.257813 94.046873)scale(0.1 -0.1)\">\n       <use xlink:href=\"#DejaVuSans-30\"/>\n       <use xlink:href=\"#DejaVuSans-2e\" x=\"63.623047\"/>\n       <use xlink:href=\"#DejaVuSans-32\" x=\"95.410156\"/>\n       <use xlink:href=\"#DejaVuSans-35\" x=\"159.033203\"/>\n      </g>\n     </g>\n    </g>\n    <g id=\"ytick_7\">\n     <g id=\"line2d_14\">\n      <path d=\"M 58.523438 65.362597 \nL 393.323438 65.362597 \n\" clip-path=\"url(#p4860f903fb)\" style=\"fill: none; stroke: #cccccc; stroke-width: 0.8; stroke-linecap: round\"/>\n     </g>\n     <g id=\"text_15\">\n      <!-- 0.50 -->\n      <g style=\"fill: #262626\" transform=\"translate(29.257813 69.161816)scale(0.1 -0.1)\">\n       <use xlink:href=\"#DejaVuSans-30\"/>\n       <use xlink:href=\"#DejaVuSans-2e\" x=\"63.623047\"/>\n       <use xlink:href=\"#DejaVuSans-35\" x=\"95.410156\"/>\n       <use xlink:href=\"#DejaVuSans-30\" x=\"159.033203\"/>\n      </g>\n     </g>\n    </g>\n    <g id=\"ytick_8\">\n     <g id=\"line2d_15\">\n      <path d=\"M 58.523438 40.477539 \nL 393.323438 40.477539 \n\" clip-path=\"url(#p4860f903fb)\" style=\"fill: none; stroke: #cccccc; stroke-width: 0.8; stroke-linecap: round\"/>\n     </g>\n     <g id=\"text_16\">\n      <!-- 0.75 -->\n      <g style=\"fill: #262626\" transform=\"translate(29.257813 44.276758)scale(0.1 -0.1)\">\n       <use xlink:href=\"#DejaVuSans-30\"/>\n       <use xlink:href=\"#DejaVuSans-2e\" x=\"63.623047\"/>\n       <use xlink:href=\"#DejaVuSans-37\" x=\"95.410156\"/>\n       <use xlink:href=\"#DejaVuSans-35\" x=\"159.033203\"/>\n      </g>\n     </g>\n    </g>\n    <g id=\"ytick_9\">\n     <g id=\"line2d_16\">\n      <path d=\"M 58.523438 15.592482 \nL 393.323438 15.592482 \n\" clip-path=\"url(#p4860f903fb)\" style=\"fill: none; stroke: #cccccc; stroke-width: 0.8; stroke-linecap: round\"/>\n     </g>\n     <g id=\"text_17\">\n      <!-- 1.00 -->\n      <g style=\"fill: #262626\" transform=\"translate(29.257813 19.391701)scale(0.1 -0.1)\">\n       <use xlink:href=\"#DejaVuSans-31\"/>\n       <use xlink:href=\"#DejaVuSans-2e\" x=\"63.623047\"/>\n       <use xlink:href=\"#DejaVuSans-30\" x=\"95.410156\"/>\n       <use xlink:href=\"#DejaVuSans-30\" x=\"159.033203\"/>\n      </g>\n     </g>\n    </g>\n    <g id=\"text_18\">\n     <!-- pred f(x) -->\n     <g style=\"fill: #262626\" transform=\"translate(14.798438 137.498125)rotate(-90)scale(0.1 -0.1)\">\n      <defs>\n       <path id=\"DejaVuSans-70\" d=\"M 1159 525 \nL 1159 -1331 \nL 581 -1331 \nL 581 3500 \nL 1159 3500 \nL 1159 2969 \nQ 1341 3281 1617 3432 \nQ 1894 3584 2278 3584 \nQ 2916 3584 3314 3078 \nQ 3713 2572 3713 1747 \nQ 3713 922 3314 415 \nQ 2916 -91 2278 -91 \nQ 1894 -91 1617 61 \nQ 1341 213 1159 525 \nz\nM 3116 1747 \nQ 3116 2381 2855 2742 \nQ 2594 3103 2138 3103 \nQ 1681 3103 1420 2742 \nQ 1159 2381 1159 1747 \nQ 1159 1113 1420 752 \nQ 1681 391 2138 391 \nQ 2594 391 2855 752 \nQ 3116 1113 3116 1747 \nz\n\" transform=\"scale(0.015625)\"/>\n       <path id=\"DejaVuSans-72\" d=\"M 2631 2963 \nQ 2534 3019 2420 3045 \nQ 2306 3072 2169 3072 \nQ 1681 3072 1420 2755 \nQ 1159 2438 1159 1844 \nL 1159 0 \nL 581 0 \nL 581 3500 \nL 1159 3500 \nL 1159 2956 \nQ 1341 3275 1631 3429 \nQ 1922 3584 2338 3584 \nQ 2397 3584 2469 3576 \nQ 2541 3569 2628 3553 \nL 2631 2963 \nz\n\" transform=\"scale(0.015625)\"/>\n       <path id=\"DejaVuSans-65\" d=\"M 3597 1894 \nL 3597 1613 \nL 953 1613 \nQ 991 1019 1311 708 \nQ 1631 397 2203 397 \nQ 2534 397 2845 478 \nQ 3156 559 3463 722 \nL 3463 178 \nQ 3153 47 2828 -22 \nQ 2503 -91 2169 -91 \nQ 1331 -91 842 396 \nQ 353 884 353 1716 \nQ 353 2575 817 3079 \nQ 1281 3584 2069 3584 \nQ 2775 3584 3186 3129 \nQ 3597 2675 3597 1894 \nz\nM 3022 2063 \nQ 3016 2534 2758 2815 \nQ 2500 3097 2075 3097 \nQ 1594 3097 1305 2825 \nQ 1016 2553 972 2059 \nL 3022 2063 \nz\n\" transform=\"scale(0.015625)\"/>\n       <path id=\"DejaVuSans-64\" d=\"M 2906 2969 \nL 2906 4863 \nL 3481 4863 \nL 3481 0 \nL 2906 0 \nL 2906 525 \nQ 2725 213 2448 61 \nQ 2172 -91 1784 -91 \nQ 1150 -91 751 415 \nQ 353 922 353 1747 \nQ 353 2572 751 3078 \nQ 1150 3584 1784 3584 \nQ 2172 3584 2448 3432 \nQ 2725 3281 2906 2969 \nz\nM 947 1747 \nQ 947 1113 1208 752 \nQ 1469 391 1925 391 \nQ 2381 391 2643 752 \nQ 2906 1113 2906 1747 \nQ 2906 2381 2643 2742 \nQ 2381 3103 1925 3103 \nQ 1469 3103 1208 2742 \nQ 947 2381 947 1747 \nz\n\" transform=\"scale(0.015625)\"/>\n       <path id=\"DejaVuSans-20\" transform=\"scale(0.015625)\"/>\n       <path id=\"DejaVuSans-66\" d=\"M 2375 4863 \nL 2375 4384 \nL 1825 4384 \nQ 1516 4384 1395 4259 \nQ 1275 4134 1275 3809 \nL 1275 3500 \nL 2222 3500 \nL 2222 3053 \nL 1275 3053 \nL 1275 0 \nL 697 0 \nL 697 3053 \nL 147 3053 \nL 147 3500 \nL 697 3500 \nL 697 3744 \nQ 697 4328 969 4595 \nQ 1241 4863 1831 4863 \nL 2375 4863 \nz\n\" transform=\"scale(0.015625)\"/>\n       <path id=\"DejaVuSans-28\" d=\"M 1984 4856 \nQ 1566 4138 1362 3434 \nQ 1159 2731 1159 2009 \nQ 1159 1288 1364 580 \nQ 1569 -128 1984 -844 \nL 1484 -844 \nQ 1016 -109 783 600 \nQ 550 1309 550 2009 \nQ 550 2706 781 3412 \nQ 1013 4119 1484 4856 \nL 1984 4856 \nz\n\" transform=\"scale(0.015625)\"/>\n       <path id=\"DejaVuSans-29\" d=\"M 513 4856 \nL 1013 4856 \nQ 1481 4119 1714 3412 \nQ 1947 2706 1947 2009 \nQ 1947 1309 1714 600 \nQ 1481 -109 1013 -844 \nL 513 -844 \nQ 928 -128 1133 580 \nQ 1338 1288 1338 2009 \nQ 1338 2731 1133 3434 \nQ 928 4138 513 4856 \nz\n\" transform=\"scale(0.015625)\"/>\n      </defs>\n      <use xlink:href=\"#DejaVuSans-70\"/>\n      <use xlink:href=\"#DejaVuSans-72\" x=\"63.476562\"/>\n      <use xlink:href=\"#DejaVuSans-65\" x=\"102.339844\"/>\n      <use xlink:href=\"#DejaVuSans-64\" x=\"163.863281\"/>\n      <use xlink:href=\"#DejaVuSans-20\" x=\"227.339844\"/>\n      <use xlink:href=\"#DejaVuSans-66\" x=\"259.126953\"/>\n      <use xlink:href=\"#DejaVuSans-28\" x=\"294.332031\"/>\n      <use xlink:href=\"#DejaVuSans-78\" x=\"333.345703\"/>\n      <use xlink:href=\"#DejaVuSans-29\" x=\"392.525391\"/>\n     </g>\n    </g>\n   </g>\n   <g id=\"PathCollection_1\">\n    <defs>\n     <path id=\"m98db12899b\" d=\"M 0 3 \nC 0.795609 3 1.55874 2.683901 2.12132 2.12132 \nC 2.683901 1.55874 3 0.795609 3 0 \nC 3 -0.795609 2.683901 -1.55874 2.12132 -2.12132 \nC 1.55874 -2.683901 0.795609 -3 0 -3 \nC -0.795609 -3 -1.55874 -2.683901 -2.12132 -2.12132 \nC -2.683901 -1.55874 -3 -0.795609 -3 0 \nC -3 0.795609 -2.683901 1.55874 -2.12132 2.12132 \nC -1.55874 2.683901 -0.795609 3 0 3 \nz\n\" style=\"stroke: #ffffff; stroke-width: 0.48\"/>\n    </defs>\n    <g clip-path=\"url(#p4860f903fb)\">\n     <use xlink:href=\"#m98db12899b\" x=\"131.5813\" y=\"201.222223\" style=\"fill: #1f77b4; stroke: #ffffff; stroke-width: 0.48\"/>\n     <use xlink:href=\"#m98db12899b\" x=\"197.527774\" y=\"163.936891\" style=\"fill: #1f77b4; stroke: #ffffff; stroke-width: 0.48\"/>\n     <use xlink:href=\"#m98db12899b\" x=\"113.376534\" y=\"201.222223\" style=\"fill: #1f77b4; stroke: #ffffff; stroke-width: 0.48\"/>\n     <use xlink:href=\"#m98db12899b\" x=\"313.981007\" y=\"17.083636\" style=\"fill: #1f77b4; stroke: #ffffff; stroke-width: 0.48\"/>\n     <use xlink:href=\"#m98db12899b\" x=\"121.540294\" y=\"201.222223\" style=\"fill: #1f77b4; stroke: #ffffff; stroke-width: 0.48\"/>\n     <use xlink:href=\"#m98db12899b\" x=\"144.241804\" y=\"214.756364\" style=\"fill: #1f77b4; stroke: #ffffff; stroke-width: 0.48\"/>\n     <use xlink:href=\"#m98db12899b\" x=\"276.510387\" y=\"17.083636\" style=\"fill: #1f77b4; stroke: #ffffff; stroke-width: 0.48\"/>\n     <use xlink:href=\"#m98db12899b\" x=\"114.432499\" y=\"201.222223\" style=\"fill: #1f77b4; stroke: #ffffff; stroke-width: 0.48\"/>\n     <use xlink:href=\"#m98db12899b\" x=\"206.158867\" y=\"163.936891\" style=\"fill: #1f77b4; stroke: #ffffff; stroke-width: 0.48\"/>\n     <use xlink:href=\"#m98db12899b\" x=\"259.431808\" y=\"67.140666\" style=\"fill: #1f77b4; stroke: #ffffff; stroke-width: 0.48\"/>\n     <use xlink:href=\"#m98db12899b\" x=\"234.262594\" y=\"67.140666\" style=\"fill: #1f77b4; stroke: #ffffff; stroke-width: 0.48\"/>\n     <use xlink:href=\"#m98db12899b\" x=\"310.699867\" y=\"17.083636\" style=\"fill: #1f77b4; stroke: #ffffff; stroke-width: 0.48\"/>\n     <use xlink:href=\"#m98db12899b\" x=\"310.407238\" y=\"17.083636\" style=\"fill: #1f77b4; stroke: #ffffff; stroke-width: 0.48\"/>\n     <use xlink:href=\"#m98db12899b\" x=\"253.983483\" y=\"67.140666\" style=\"fill: #1f77b4; stroke: #ffffff; stroke-width: 0.48\"/>\n     <use xlink:href=\"#m98db12899b\" x=\"318.197254\" y=\"49.882752\" style=\"fill: #1f77b4; stroke: #ffffff; stroke-width: 0.48\"/>\n     <use xlink:href=\"#m98db12899b\" x=\"149.946052\" y=\"214.756364\" style=\"fill: #1f77b4; stroke: #ffffff; stroke-width: 0.48\"/>\n     <use xlink:href=\"#m98db12899b\" x=\"246.12639\" y=\"67.140666\" style=\"fill: #1f77b4; stroke: #ffffff; stroke-width: 0.48\"/>\n     <use xlink:href=\"#m98db12899b\" x=\"160.400439\" y=\"214.756364\" style=\"fill: #1f77b4; stroke: #ffffff; stroke-width: 0.48\"/>\n     <use xlink:href=\"#m98db12899b\" x=\"191.339098\" y=\"163.936891\" style=\"fill: #1f77b4; stroke: #ffffff; stroke-width: 0.48\"/>\n     <use xlink:href=\"#m98db12899b\" x=\"268.260268\" y=\"17.083636\" style=\"fill: #1f77b4; stroke: #ffffff; stroke-width: 0.48\"/>\n     <use xlink:href=\"#m98db12899b\" x=\"219.026163\" y=\"126.719167\" style=\"fill: #1f77b4; stroke: #ffffff; stroke-width: 0.48\"/>\n     <use xlink:href=\"#m98db12899b\" x=\"124.987273\" y=\"201.222223\" style=\"fill: #1f77b4; stroke: #ffffff; stroke-width: 0.48\"/>\n     <use xlink:href=\"#m98db12899b\" x=\"177.617011\" y=\"163.936891\" style=\"fill: #1f77b4; stroke: #ffffff; stroke-width: 0.48\"/>\n     <use xlink:href=\"#m98db12899b\" x=\"282.45005\" y=\"17.083636\" style=\"fill: #1f77b4; stroke: #ffffff; stroke-width: 0.48\"/>\n     <use xlink:href=\"#m98db12899b\" x=\"245.546651\" y=\"67.140666\" style=\"fill: #1f77b4; stroke: #ffffff; stroke-width: 0.48\"/>\n     <use xlink:href=\"#m98db12899b\" x=\"224.552404\" y=\"126.719167\" style=\"fill: #1f77b4; stroke: #ffffff; stroke-width: 0.48\"/>\n     <use xlink:href=\"#m98db12899b\" x=\"256.249384\" y=\"67.140666\" style=\"fill: #1f77b4; stroke: #ffffff; stroke-width: 0.48\"/>\n     <use xlink:href=\"#m98db12899b\" x=\"207.946083\" y=\"163.936891\" style=\"fill: #1f77b4; stroke: #ffffff; stroke-width: 0.48\"/>\n     <use xlink:href=\"#m98db12899b\" x=\"166.543953\" y=\"214.756364\" style=\"fill: #1f77b4; stroke: #ffffff; stroke-width: 0.48\"/>\n     <use xlink:href=\"#m98db12899b\" x=\"164.635941\" y=\"214.756364\" style=\"fill: #1f77b4; stroke: #ffffff; stroke-width: 0.48\"/>\n     <use xlink:href=\"#m98db12899b\" x=\"188.269503\" y=\"163.936891\" style=\"fill: #1f77b4; stroke: #ffffff; stroke-width: 0.48\"/>\n     <use xlink:href=\"#m98db12899b\" x=\"79.854698\" y=\"153.87014\" style=\"fill: #1f77b4; stroke: #ffffff; stroke-width: 0.48\"/>\n     <use xlink:href=\"#m98db12899b\" x=\"155.314771\" y=\"214.756364\" style=\"fill: #1f77b4; stroke: #ffffff; stroke-width: 0.48\"/>\n     <use xlink:href=\"#m98db12899b\" x=\"298.85167\" y=\"17.083636\" style=\"fill: #1f77b4; stroke: #ffffff; stroke-width: 0.48\"/>\n     <use xlink:href=\"#m98db12899b\" x=\"125.235516\" y=\"201.222223\" style=\"fill: #1f77b4; stroke: #ffffff; stroke-width: 0.48\"/>\n     <use xlink:href=\"#m98db12899b\" x=\"267.962137\" y=\"67.140666\" style=\"fill: #1f77b4; stroke: #ffffff; stroke-width: 0.48\"/>\n     <use xlink:href=\"#m98db12899b\" x=\"231.310107\" y=\"126.719167\" style=\"fill: #1f77b4; stroke: #ffffff; stroke-width: 0.48\"/>\n     <use xlink:href=\"#m98db12899b\" x=\"323.094578\" y=\"49.882752\" style=\"fill: #1f77b4; stroke: #ffffff; stroke-width: 0.48\"/>\n     <use xlink:href=\"#m98db12899b\" x=\"177.266077\" y=\"214.756364\" style=\"fill: #1f77b4; stroke: #ffffff; stroke-width: 0.48\"/>\n     <use xlink:href=\"#m98db12899b\" x=\"374.331052\" y=\"49.882752\" style=\"fill: #1f77b4; stroke: #ffffff; stroke-width: 0.48\"/>\n     <use xlink:href=\"#m98db12899b\" x=\"202.194668\" y=\"163.936891\" style=\"fill: #1f77b4; stroke: #ffffff; stroke-width: 0.48\"/>\n     <use xlink:href=\"#m98db12899b\" x=\"117.122184\" y=\"201.222223\" style=\"fill: #1f77b4; stroke: #ffffff; stroke-width: 0.48\"/>\n     <use xlink:href=\"#m98db12899b\" x=\"209.038871\" y=\"163.936891\" style=\"fill: #1f77b4; stroke: #ffffff; stroke-width: 0.48\"/>\n     <use xlink:href=\"#m98db12899b\" x=\"85.282093\" y=\"153.87014\" style=\"fill: #1f77b4; stroke: #ffffff; stroke-width: 0.48\"/>\n     <use xlink:href=\"#m98db12899b\" x=\"157.580036\" y=\"214.756364\" style=\"fill: #1f77b4; stroke: #ffffff; stroke-width: 0.48\"/>\n     <use xlink:href=\"#m98db12899b\" x=\"369.903387\" y=\"49.882752\" style=\"fill: #1f77b4; stroke: #ffffff; stroke-width: 0.48\"/>\n     <use xlink:href=\"#m98db12899b\" x=\"222.765249\" y=\"126.719167\" style=\"fill: #1f77b4; stroke: #ffffff; stroke-width: 0.48\"/>\n     <use xlink:href=\"#m98db12899b\" x=\"232.124687\" y=\"126.719167\" style=\"fill: #1f77b4; stroke: #ffffff; stroke-width: 0.48\"/>\n     <use xlink:href=\"#m98db12899b\" x=\"87.13849\" y=\"153.87014\" style=\"fill: #1f77b4; stroke: #ffffff; stroke-width: 0.48\"/>\n     <use xlink:href=\"#m98db12899b\" x=\"217.029819\" y=\"126.719167\" style=\"fill: #1f77b4; stroke: #ffffff; stroke-width: 0.48\"/>\n     <use xlink:href=\"#m98db12899b\" x=\"282.342368\" y=\"17.083636\" style=\"fill: #1f77b4; stroke: #ffffff; stroke-width: 0.48\"/>\n     <use xlink:href=\"#m98db12899b\" x=\"163.820679\" y=\"214.756364\" style=\"fill: #1f77b4; stroke: #ffffff; stroke-width: 0.48\"/>\n     <use xlink:href=\"#m98db12899b\" x=\"139.713896\" y=\"214.756364\" style=\"fill: #1f77b4; stroke: #ffffff; stroke-width: 0.48\"/>\n     <use xlink:href=\"#m98db12899b\" x=\"265.406317\" y=\"67.140666\" style=\"fill: #1f77b4; stroke: #ffffff; stroke-width: 0.48\"/>\n     <use xlink:href=\"#m98db12899b\" x=\"87.406642\" y=\"153.87014\" style=\"fill: #1f77b4; stroke: #ffffff; stroke-width: 0.48\"/>\n     <use xlink:href=\"#m98db12899b\" x=\"370.91464\" y=\"49.882752\" style=\"fill: #1f77b4; stroke: #ffffff; stroke-width: 0.48\"/>\n     <use xlink:href=\"#m98db12899b\" x=\"79.74103\" y=\"153.87014\" style=\"fill: #1f77b4; stroke: #ffffff; stroke-width: 0.48\"/>\n     <use xlink:href=\"#m98db12899b\" x=\"73.741619\" y=\"153.87014\" style=\"fill: #1f77b4; stroke: #ffffff; stroke-width: 0.48\"/>\n     <use xlink:href=\"#m98db12899b\" x=\"354.700143\" y=\"49.882752\" style=\"fill: #1f77b4; stroke: #ffffff; stroke-width: 0.48\"/>\n     <use xlink:href=\"#m98db12899b\" x=\"368.956867\" y=\"49.882752\" style=\"fill: #1f77b4; stroke: #ffffff; stroke-width: 0.48\"/>\n     <use xlink:href=\"#m98db12899b\" x=\"311.094528\" y=\"17.083636\" style=\"fill: #1f77b4; stroke: #ffffff; stroke-width: 0.48\"/>\n     <use xlink:href=\"#m98db12899b\" x=\"237.896596\" y=\"67.140666\" style=\"fill: #1f77b4; stroke: #ffffff; stroke-width: 0.48\"/>\n     <use xlink:href=\"#m98db12899b\" x=\"222.515066\" y=\"126.719167\" style=\"fill: #1f77b4; stroke: #ffffff; stroke-width: 0.48\"/>\n     <use xlink:href=\"#m98db12899b\" x=\"228.348985\" y=\"126.719167\" style=\"fill: #1f77b4; stroke: #ffffff; stroke-width: 0.48\"/>\n     <use xlink:href=\"#m98db12899b\" x=\"250.52893\" y=\"67.140666\" style=\"fill: #1f77b4; stroke: #ffffff; stroke-width: 0.48\"/>\n     <use xlink:href=\"#m98db12899b\" x=\"151.235605\" y=\"214.756364\" style=\"fill: #1f77b4; stroke: #ffffff; stroke-width: 0.48\"/>\n     <use xlink:href=\"#m98db12899b\" x=\"129.476522\" y=\"201.222223\" style=\"fill: #1f77b4; stroke: #ffffff; stroke-width: 0.48\"/>\n     <use xlink:href=\"#m98db12899b\" x=\"345.139305\" y=\"49.882752\" style=\"fill: #1f77b4; stroke: #ffffff; stroke-width: 0.48\"/>\n     <use xlink:href=\"#m98db12899b\" x=\"275.010264\" y=\"17.083636\" style=\"fill: #1f77b4; stroke: #ffffff; stroke-width: 0.48\"/>\n     <use xlink:href=\"#m98db12899b\" x=\"178.284207\" y=\"163.936891\" style=\"fill: #1f77b4; stroke: #ffffff; stroke-width: 0.48\"/>\n     <use xlink:href=\"#m98db12899b\" x=\"111.859823\" y=\"201.222223\" style=\"fill: #1f77b4; stroke: #ffffff; stroke-width: 0.48\"/>\n     <use xlink:href=\"#m98db12899b\" x=\"92.923999\" y=\"153.87014\" style=\"fill: #1f77b4; stroke: #ffffff; stroke-width: 0.48\"/>\n     <use xlink:href=\"#m98db12899b\" x=\"91.098175\" y=\"153.87014\" style=\"fill: #1f77b4; stroke: #ffffff; stroke-width: 0.48\"/>\n     <use xlink:href=\"#m98db12899b\" x=\"217.91448\" y=\"126.719167\" style=\"fill: #1f77b4; stroke: #ffffff; stroke-width: 0.48\"/>\n     <use xlink:href=\"#m98db12899b\" x=\"98.561375\" y=\"153.87014\" style=\"fill: #1f77b4; stroke: #ffffff; stroke-width: 0.48\"/>\n     <use xlink:href=\"#m98db12899b\" x=\"114.446775\" y=\"201.222223\" style=\"fill: #1f77b4; stroke: #ffffff; stroke-width: 0.48\"/>\n     <use xlink:href=\"#m98db12899b\" x=\"250.619087\" y=\"67.140666\" style=\"fill: #1f77b4; stroke: #ffffff; stroke-width: 0.48\"/>\n     <use xlink:href=\"#m98db12899b\" x=\"77.856505\" y=\"153.87014\" style=\"fill: #1f77b4; stroke: #ffffff; stroke-width: 0.48\"/>\n     <use xlink:href=\"#m98db12899b\" x=\"171.198976\" y=\"214.756364\" style=\"fill: #1f77b4; stroke: #ffffff; stroke-width: 0.48\"/>\n     <use xlink:href=\"#m98db12899b\" x=\"311.013658\" y=\"17.083636\" style=\"fill: #1f77b4; stroke: #ffffff; stroke-width: 0.48\"/>\n     <use xlink:href=\"#m98db12899b\" x=\"206.267653\" y=\"163.936891\" style=\"fill: #1f77b4; stroke: #ffffff; stroke-width: 0.48\"/>\n     <use xlink:href=\"#m98db12899b\" x=\"262.197212\" y=\"67.140666\" style=\"fill: #1f77b4; stroke: #ffffff; stroke-width: 0.48\"/>\n     <use xlink:href=\"#m98db12899b\" x=\"317.876932\" y=\"49.882752\" style=\"fill: #1f77b4; stroke: #ffffff; stroke-width: 0.48\"/>\n     <use xlink:href=\"#m98db12899b\" x=\"201.908577\" y=\"163.936891\" style=\"fill: #1f77b4; stroke: #ffffff; stroke-width: 0.48\"/>\n     <use xlink:href=\"#m98db12899b\" x=\"347.063227\" y=\"49.882752\" style=\"fill: #1f77b4; stroke: #ffffff; stroke-width: 0.48\"/>\n     <use xlink:href=\"#m98db12899b\" x=\"319.510664\" y=\"49.882752\" style=\"fill: #1f77b4; stroke: #ffffff; stroke-width: 0.48\"/>\n     <use xlink:href=\"#m98db12899b\" x=\"77.644852\" y=\"153.87014\" style=\"fill: #1f77b4; stroke: #ffffff; stroke-width: 0.48\"/>\n     <use xlink:href=\"#m98db12899b\" x=\"246.339789\" y=\"67.140666\" style=\"fill: #1f77b4; stroke: #ffffff; stroke-width: 0.48\"/>\n     <use xlink:href=\"#m98db12899b\" x=\"184.174527\" y=\"163.936891\" style=\"fill: #1f77b4; stroke: #ffffff; stroke-width: 0.48\"/>\n     <use xlink:href=\"#m98db12899b\" x=\"312.076619\" y=\"17.083636\" style=\"fill: #1f77b4; stroke: #ffffff; stroke-width: 0.48\"/>\n     <use xlink:href=\"#m98db12899b\" x=\"337.119836\" y=\"49.882752\" style=\"fill: #1f77b4; stroke: #ffffff; stroke-width: 0.48\"/>\n     <use xlink:href=\"#m98db12899b\" x=\"231.48701\" y=\"126.719167\" style=\"fill: #1f77b4; stroke: #ffffff; stroke-width: 0.48\"/>\n     <use xlink:href=\"#m98db12899b\" x=\"224.916864\" y=\"126.719167\" style=\"fill: #1f77b4; stroke: #ffffff; stroke-width: 0.48\"/>\n     <use xlink:href=\"#m98db12899b\" x=\"131.20112\" y=\"201.222223\" style=\"fill: #1f77b4; stroke: #ffffff; stroke-width: 0.48\"/>\n     <use xlink:href=\"#m98db12899b\" x=\"222.779677\" y=\"126.719167\" style=\"fill: #1f77b4; stroke: #ffffff; stroke-width: 0.48\"/>\n     <use xlink:href=\"#m98db12899b\" x=\"111.133221\" y=\"201.222223\" style=\"fill: #1f77b4; stroke: #ffffff; stroke-width: 0.48\"/>\n     <use xlink:href=\"#m98db12899b\" x=\"378.105256\" y=\"49.882752\" style=\"fill: #1f77b4; stroke: #ffffff; stroke-width: 0.48\"/>\n     <use xlink:href=\"#m98db12899b\" x=\"101.012716\" y=\"153.87014\" style=\"fill: #1f77b4; stroke: #ffffff; stroke-width: 0.48\"/>\n     <use xlink:href=\"#m98db12899b\" x=\"282.291971\" y=\"17.083636\" style=\"fill: #1f77b4; stroke: #ffffff; stroke-width: 0.48\"/>\n     <use xlink:href=\"#m98db12899b\" x=\"189.148624\" y=\"163.936891\" style=\"fill: #1f77b4; stroke: #ffffff; stroke-width: 0.48\"/>\n    </g>\n   </g>\n   <g id=\"patch_3\">\n    <path d=\"M 58.523438 224.64 \nL 58.523438 7.2 \n\" style=\"fill: none; stroke: #cccccc; stroke-width: 0.8; stroke-linejoin: miter; stroke-linecap: square\"/>\n   </g>\n   <g id=\"patch_4\">\n    <path d=\"M 393.323438 224.64 \nL 393.323438 7.2 \n\" style=\"fill: none; stroke: #cccccc; stroke-width: 0.8; stroke-linejoin: miter; stroke-linecap: square\"/>\n   </g>\n   <g id=\"patch_5\">\n    <path d=\"M 58.523438 224.64 \nL 393.323438 224.64 \n\" style=\"fill: none; stroke: #cccccc; stroke-width: 0.8; stroke-linejoin: miter; stroke-linecap: square\"/>\n   </g>\n   <g id=\"patch_6\">\n    <path d=\"M 58.523438 7.2 \nL 393.323438 7.2 \n\" style=\"fill: none; stroke: #cccccc; stroke-width: 0.8; stroke-linejoin: miter; stroke-linecap: square\"/>\n   </g>\n  </g>\n </g>\n <defs>\n  <clipPath id=\"p4860f903fb\">\n   <rect x=\"58.523438\" y=\"7.2\" width=\"334.8\" height=\"217.44\"/>\n  </clipPath>\n </defs>\n</svg>\n"
     },
     "metadata": {
      "needs_background": "light"
     },
     "output_type": "display_data"
    }
   ],
   "source": [
    "sns.scatterplot(data=df, x = 'x', y = 'pred f(x)')"
   ],
   "metadata": {
    "collapsed": false,
    "pycharm": {
     "name": "#%%\n"
    }
   }
  },
  {
   "cell_type": "code",
   "execution_count": 53,
   "outputs": [],
   "source": [
    "dataset = sns.load_dataset(\"penguins\")\n",
    "dataset = dataset[dataset['body_mass_g'] != np.nan]\n",
    "dataset = dataset.drop(['island', 'sex', 'species'], axis=1)\n",
    "dataset = dataset.fillna(0)"
   ],
   "metadata": {
    "collapsed": false,
    "pycharm": {
     "name": "#%%\n"
    }
   }
  },
  {
   "cell_type": "code",
   "execution_count": 57,
   "outputs": [],
   "source": [
    "train, test = train_test_split(dataset, train_size=0.8, shuffle=True, random_state=42)\n",
    "# test = test.drop('species', axis=1)\n",
    "model = TreeRegressor(metric=mse, criterion='entropy', max_depth=10, minimize=True, debug=False)\n",
    "model.fit(train, target='body_mass_g')\n",
    "model.predict(test, predict_col='pred')\n"
   ],
   "metadata": {
    "collapsed": false,
    "pycharm": {
     "name": "#%%\n"
    }
   }
  },
  {
   "cell_type": "code",
   "execution_count": 58,
   "outputs": [
    {
     "data": {
      "text/plain": "368.1159420289855"
     },
     "execution_count": 58,
     "metadata": {},
     "output_type": "execute_result"
    }
   ],
   "source": [
    "me(test['pred'], test['body_mass_g'])"
   ],
   "metadata": {
    "collapsed": false,
    "pycharm": {
     "name": "#%%\n"
    }
   }
  },
  {
   "cell_type": "code",
   "execution_count": 59,
   "outputs": [
    {
     "data": {
      "text/plain": "933.354712150505"
     },
     "execution_count": 59,
     "metadata": {},
     "output_type": "execute_result"
    }
   ],
   "source": [
    "np.std(test['body_mass_g'])"
   ],
   "metadata": {
    "collapsed": false,
    "pycharm": {
     "name": "#%%\n"
    }
   }
  },
  {
   "cell_type": "code",
   "execution_count": 56,
   "outputs": [],
   "source": [],
   "metadata": {
    "collapsed": false,
    "pycharm": {
     "name": "#%%\n"
    }
   }
  }
 ],
 "metadata": {
  "kernelspec": {
   "display_name": "Python 3",
   "language": "python",
   "name": "python3"
  },
  "language_info": {
   "codemirror_mode": {
    "name": "ipython",
    "version": 2
   },
   "file_extension": ".py",
   "mimetype": "text/x-python",
   "name": "python",
   "nbconvert_exporter": "python",
   "pygments_lexer": "ipython2",
   "version": "2.7.6"
  }
 },
 "nbformat": 4,
 "nbformat_minor": 0
}